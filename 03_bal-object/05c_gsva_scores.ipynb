{
 "cells": [
  {
   "cell_type": "code",
   "execution_count": 1,
   "id": "dfa0f276-acc7-4e74-8106-1389fde3f220",
   "metadata": {},
   "outputs": [],
   "source": [
    "import os\n",
    "import pathlib\n",
    "import hashlib\n",
    "import datetime\n",
    "import json\n",
    "\n",
    "import scanpy as sc\n",
    "import pandas as pd\n",
    "import numpy as np\n",
    "import matplotlib as mpl\n",
    "import matplotlib.pyplot as plt\n",
    "import decoupler\n",
    "import requests"
   ]
  },
  {
   "cell_type": "code",
   "execution_count": 2,
   "id": "821d5f5b-c926-43ff-8322-917e3eb785a7",
   "metadata": {},
   "outputs": [],
   "source": [
    "pd.options.display.max_rows = 300"
   ]
  },
  {
   "cell_type": "code",
   "execution_count": 3,
   "id": "4680150c-c728-429b-9375-e74fe358941a",
   "metadata": {},
   "outputs": [],
   "source": [
    "%config InlineBackend.figure_format = \"retina\""
   ]
  },
  {
   "cell_type": "code",
   "execution_count": 4,
   "id": "9c2cce3b-258a-42d0-8fc5-462a78239cab",
   "metadata": {},
   "outputs": [
    {
     "data": {
      "text/html": [
       "<style>.jp-OutputArea-output {display:flex}</style>"
      ],
      "text/plain": [
       "<IPython.core.display.HTML object>"
      ]
     },
     "metadata": {},
     "output_type": "display_data"
    }
   ],
   "source": [
    "# Nick needs this because he's using Firefox which apparently noone uses anymore\n",
    "from IPython.display import display, HTML\n",
    "display(HTML(\"<style>.jp-OutputArea-output {display:flex}</style>\"))"
   ]
  },
  {
   "cell_type": "code",
   "execution_count": 5,
   "id": "b17d8360-58a7-47eb-a49e-6561a5260c75",
   "metadata": {},
   "outputs": [],
   "source": [
    "def sanitize_name(name):\n",
    "    return name.replace(' ', '_').replace('*', '').replace(';', '_and').replace('/', '_')"
   ]
  },
  {
   "cell_type": "code",
   "execution_count": 6,
   "id": "95d1be97-1db9-487f-ab0a-2d08bb577a52",
   "metadata": {},
   "outputs": [
    {
     "name": "stderr",
     "output_type": "stream",
     "text": [
      "/projects/b1038/Pulmonary/nmarkov/ssc-v2/code/scvi_venv/lib/python3.9/site-packages/tqdm/auto.py:21: TqdmWarning: IProgress not found. Please update jupyter and ipywidgets. See https://ipywidgets.readthedocs.io/en/stable/user_install.html\n",
      "  from .autonotebook import tqdm as notebook_tqdm\n"
     ]
    }
   ],
   "source": [
    "msigdb = decoupler.get_resource('MSigDB', organism='human')\n",
    "hallmark = msigdb[msigdb.collection.eq('hallmark')]\n",
    "hallmark = hallmark[~hallmark.duplicated(['geneset', 'genesymbol'])]"
   ]
  },
  {
   "cell_type": "markdown",
   "id": "3edfbed8-8ae2-4c66-a42f-1aeac2152658",
   "metadata": {},
   "source": [
    "**NB!** some genes have new names in HALLMARK"
   ]
  },
  {
   "cell_type": "code",
   "execution_count": 7,
   "id": "c14ad689-6be2-450a-8745-d4668d372430",
   "metadata": {},
   "outputs": [
    {
     "data": {
      "text/plain": [
       "0"
      ]
     },
     "execution_count": 7,
     "metadata": {},
     "output_type": "execute_result"
    }
   ],
   "source": [
    "hallmark.genesymbol.eq('SEPP1').sum()"
   ]
  },
  {
   "cell_type": "code",
   "execution_count": 8,
   "id": "1f68032d-3a7f-4f6d-823e-fda79bb332a3",
   "metadata": {},
   "outputs": [
    {
     "data": {
      "text/plain": [
       "2"
      ]
     },
     "execution_count": 8,
     "metadata": {},
     "output_type": "execute_result"
    }
   ],
   "source": [
    "hallmark.genesymbol.eq('SELENOP').sum()"
   ]
  },
  {
   "cell_type": "code",
   "execution_count": 9,
   "id": "39d3410b-85ab-4f67-bcff-231bc861e766",
   "metadata": {},
   "outputs": [],
   "source": [
    "PF_GENESET_URL = (\n",
    "    'https://maayanlab.cloud/Harmonizome/api/1.0/gene_set/'\n",
    "    'pulmonary+fibrosis/DISEASES+Text-mining+Gene-Disease+Assocation+Evidence+Scores'\n",
    ")\n",
    "PF_GENESET_FILE = 'Harmonizome_PF_set.json'\n",
    "PF_GENESET_SHA1 = '3f3dd4f618e335382982d16e0afae9f2240dcbd6'"
   ]
  },
  {
   "cell_type": "code",
   "execution_count": 10,
   "id": "35a92c86-7471-43af-abfe-2e465898810c",
   "metadata": {},
   "outputs": [],
   "source": [
    "if not os.path.exists(PF_GENESET_FILE):\n",
    "    with open(PF_GENESET_FILE, 'w') as f:\n",
    "        contents = requests.get(PF_GENESET_URL).text\n",
    "        f.write(contents)\n",
    "        print(f'Downloaded PF geneset with sha1 {hashlib.sha1(contents.encode()).hexdigest()}')\n",
    "contents = open(PF_GENESET_FILE).read()\n",
    "if hashlib.sha1(contents.encode()).hexdigest() != PF_GENESET_SHA1:\n",
    "    print('SHA1 of PF gene set does not match the stored one')\n",
    "pf_genes = json.loads(contents)\n",
    "pf_genes = [x['gene']['symbol'] for x in pf_genes['associations']]"
   ]
  },
  {
   "cell_type": "code",
   "execution_count": 11,
   "id": "a4920f0b-1a37-4a1f-bcb8-d0a7ea61972a",
   "metadata": {},
   "outputs": [],
   "source": [
    "hallmark = pd.concat([\n",
    "    hallmark,\n",
    "    pd.DataFrame(dict(genesymbol=pf_genes, collection='Harmonizome', geneset='Harmonizome_PF'))\n",
    "])"
   ]
  },
  {
   "cell_type": "code",
   "execution_count": 12,
   "id": "1cc2a300-cee9-477c-8d00-b9426aec52e1",
   "metadata": {},
   "outputs": [],
   "source": [
    "DATA = pathlib.Path('../../data/31_bal-object/')"
   ]
  },
  {
   "cell_type": "code",
   "execution_count": 13,
   "id": "8d7dffe2-41b9-4006-b1e3-731a42e99d62",
   "metadata": {},
   "outputs": [],
   "source": [
    "BASE = DATA / 'pseudobulk-gsva'"
   ]
  },
  {
   "cell_type": "code",
   "execution_count": 14,
   "id": "7be0ecff-0cca-415f-8f5b-5dce47e44901",
   "metadata": {},
   "outputs": [],
   "source": [
    "OUTDIR = DATA / 'gsva'"
   ]
  },
  {
   "cell_type": "code",
   "execution_count": 15,
   "id": "c13b47d1-6fc3-46dd-9ec1-1dcd19065757",
   "metadata": {},
   "outputs": [],
   "source": [
    "os.makedirs(OUTDIR, exist_ok=True)"
   ]
  },
  {
   "cell_type": "code",
   "execution_count": 16,
   "id": "d714c897-41ce-4ec4-9e93-bfb7446c2493",
   "metadata": {},
   "outputs": [],
   "source": [
    "clinical_data = pd.read_csv('../00clinical-v2.csv')"
   ]
  },
  {
   "cell_type": "code",
   "execution_count": 18,
   "id": "520fe89e-c7c6-40db-a794-1c08ca75cd3b",
   "metadata": {},
   "outputs": [],
   "source": [
    "samples = pd.read_csv(\"../00all-samples.csv\")"
   ]
  },
  {
   "cell_type": "code",
   "execution_count": 19,
   "id": "9baa2c6c-4904-4f28-9eac-7be54d7ea962",
   "metadata": {},
   "outputs": [],
   "source": [
    "clinical_data = clinical_data.merge(\n",
    "    samples[['Sample', 'External Sample ID']],\n",
    "    left_on='study_code',\n",
    "    right_on='Sample',\n",
    "    how='left'\n",
    ")"
   ]
  },
  {
   "cell_type": "code",
   "execution_count": 20,
   "id": "af1481fd-debb-46e4-a1cf-45a559355372",
   "metadata": {},
   "outputs": [],
   "source": [
    "clinical_data['mmf'] = clinical_data.patient_on_mmf.map(\n",
    "    {True: 'MMF', False: 'Naive'}\n",
    ")"
   ]
  },
  {
   "cell_type": "code",
   "execution_count": 21,
   "id": "9bde7b93-1a27-4d0f-8131-d3ba3d504839",
   "metadata": {},
   "outputs": [],
   "source": [
    "sample_to_fvc = clinical_data.set_index('External Sample ID').fvc_pred"
   ]
  },
  {
   "cell_type": "code",
   "execution_count": null,
   "id": "b78b3976-24a7-4a7c-bd07-511e56a26954",
   "metadata": {},
   "outputs": [],
   "source": [
    "HTML = \"\"\"\n",
    "<!DOCTYPE html>\n",
    "<html>\n",
    "<head>\n",
    "    <meta name=\"viewport\" content=\"width=device-width, initial-scale=1.0\"/>\n",
    "    <meta http-equiv=\"content-type\" content=\"text/html; charset=utf8\"/>\n",
    "    <title>%(ct)s GSVA exploration</title>\n",
    "    <style type=\"text/css\">\n",
    "        html {\n",
    "          margin: 0; padding: 0;\n",
    "          font-size: 20px; font-family: Helvetica, Verdana, sans-serif;\n",
    "        }\n",
    "        body {margin: 0; padding: 10px 10px;}\n",
    "        a {color: #1385cb}\n",
    "        a:visited {color: #0e74bc}\n",
    "        .header {margin-bottom: 10px;}\n",
    "        .header h2, .header h3 {font-weight: normal; text-align: center; margin: 0 0 6px 0;}\n",
    "        #morpheus-container {\n",
    "            width: auto;\n",
    "            height: auto;\n",
    "            min-width: 1200px;\n",
    "            min-height: 800px;\n",
    "            visibility: hidden;\n",
    "        }\n",
    "      </style>\n",
    "    <link rel=\"stylesheet\" href=\"https://software.broadinstitute.org/morpheus/css/morpheus-latest.min.css\">\n",
    "    <script>if (typeof module === 'object') {\n",
    "    window.module = module;\n",
    "    module = undefined;\n",
    "\n",
    "    }</script>\n",
    "\n",
    "    <script type=\"text/javascript\" src=\"https://software.broadinstitute.org/morpheus/js/morpheus-external-latest.min.js\"></script>\n",
    "    <script src=\"https://software.broadinstitute.org/morpheus/js/morpheus-latest.min.js\"></script>\n",
    "</head>\n",
    "<body>\n",
    "    <div class=\"header\">\n",
    "        <h2>%(ct)s GSVA scores</h2>\n",
    "    </div>\n",
    "    <div id=\"morpheus-container\"></div>\n",
    "\n",
    "    <script type=\"text/javascript\">\n",
    "        window.heatmap = new morpheus.HeatMap({\n",
    "            el: document.querySelector('#morpheus-container'),\n",
    "            name: \"%(ct)s\",\n",
    "            dataset: \"gsva.tsv\",\n",
    "            rows: [\n",
    "                {field: \"id\", display: [\"text\"]}\n",
    "            ],\n",
    "            columns: [\n",
    "                {field: \"id\", display: [\"color\"]},\n",
    "                {field: \"n_cells\", display: [\"color\"]},\n",
    "                {field: \"Sex\", display: [\"color\"]},\n",
    "                {field: \"Study\", display: [\"color\"]},\n",
    "                {field: \"Chemistry\", display: [\"color\"]},\n",
    "                {field: \"Status\", display: [\"color\"]},\n",
    "                {field: \"fvc_pred\", display: [\"color\"]},\n",
    "                {field: \"mmf\", display: [\"color\"]}\n",
    "            ],\n",
    "            columnColorModel: {\n",
    "                \"perturbation_groups\": {\n",
    "                    'Healthy': \"#5cd061\",\n",
    "                    'NPC': \"#256b33\",\n",
    "                    'SARS-CoV-2' : \"#e51d23\",\n",
    "                    'SARS-CoV-2; Gram+' : \"#ffc326\",\n",
    "                    'Pseudomonas aeruginosa; SARS-CoV-2': \"#9858d6\",\n",
    "                    'Pseudomonas; SARS-CoV-2': \"#9858d6\",\n",
    "                    'Gram+': \"#013265\",\n",
    "                    'Pseudomonas aeruginosa': \"#fb4e93\",\n",
    "                    'Pseudomonas': \"#fb4e93\",\n",
    "                    'Gram-*; Gram+': \"#1ceaf9\",\n",
    "                    'Gram-*': \"#770c2e\"\n",
    "                },\n",
    "                \"pathogen_groups\": {\n",
    "                    'Healthy': \"#5cd061\",\n",
    "                    'NPC': \"#256b33\",\n",
    "                    'SARS-CoV-2' : \"#e51d23\",\n",
    "                    'SARS-CoV-2; Gram+' : \"#ffc326\",\n",
    "                    'Pseudomonas aeruginosa; SARS-CoV-2': \"#9858d6\",\n",
    "                    'Pseudomonas; SARS-CoV-2': \"#9858d6\",\n",
    "                    'Gram+': \"#013265\",\n",
    "                    'Pseudomonas aeruginosa': \"#fb4e93\",\n",
    "                    'Pseudomonas': \"#fb4e93\",\n",
    "                    'Gram-*; Gram+': \"#1ceaf9\",\n",
    "                    'Gram-*': \"#770c2e\"\n",
    "                },\n",
    "                \"days_on_ventilator\": {\n",
    "                    \"values\": [0, 10],\n",
    "                    \"colors\": [\"#f7fbff\", \"#08306b\"]\n",
    "                },\n",
    "                \"Chemistry\": {\n",
    "                    \"10x 3' V2\": \"#56407f\",\n",
    "                    \"10x 3' V3\": \"#ed6146\"\n",
    "                },\n",
    "                \"mmf\": {\n",
    "                    \"Naive\": \"#227f69\",\n",
    "                    \"MMF\": \"#b54519\"\n",
    "                }\n",
    "            },\n",
    "            columnAnnotations: [{\n",
    "                file: \"meta.tsv\",\n",
    "                datasetField: \"id\",\n",
    "                fileField: \"External Sample ID\"\n",
    "            }],\n",
    "            /*colorScheme: { // optional color scheme. default is relative\n",
    "                type: 'fixed',\n",
    "                map: [{\n",
    "                    value: -2,\n",
    "                    color: '#0000ff'\n",
    "                }, {\n",
    "                    value: 0,\n",
    "                    color: '#ffffff'\n",
    "                }, {\n",
    "                    value: 2,\n",
    "                    color: '#ff0000'\n",
    "                }]\n",
    "            },*/\n",
    "            tools: [{ name: \"Hierarchical Clustering\", params: {cluster: \"Rows and columns\", background: false} }]\n",
    "        });\n",
    "        window.onload = function() {\n",
    "            /*morpheus.HClusterTool.execute({\n",
    "                heatMap: window.heatmap,\n",
    "                project: window.heatmap.getProject(),\n",
    "                input:\n",
    "            });*/\n",
    "            window.setTimeout(function() {\n",
    "                window.heatmap.fitToWindow({fitRows: true, fitColumns: true, repaint: true});\n",
    "                window.heatmap.fitToWindow({fitRows: true, fitColumns: true, repaint: true});\n",
    "                document.getElementById('morpheus-container').style.visibility = 'visible';\n",
    "            }, 800)\n",
    "        }\n",
    "    </script>\n",
    "</body>\n",
    "</html>\n",
    "\"\"\""
   ]
  },
  {
   "cell_type": "code",
   "execution_count": 23,
   "id": "81bc5366-109e-4820-a3aa-5b3ba4301935",
   "metadata": {},
   "outputs": [],
   "source": [
    "TABLE_HTML = \"\"\"\n",
    "<!DOCTYPE html>\n",
    "<html>\n",
    "<head>\n",
    "  <meta name=\"viewport\" content=\"width=device-width, initial-scale=1.0\"/>\n",
    "  <meta http-equiv=\"content-type\" content=\"text/html; charset=utf8\"/>\n",
    "  <style type=\"text/css\">\n",
    "    html {\n",
    "      margin: 0; padding: 0;\n",
    "      font-size: 20px; font-family: Helvetica, Verdana, sans-serif;\n",
    "    }\n",
    "    .header {margin-bottom: 10px;}\n",
    "    .header h2, .header h3 {font-weight: normal; text-align: center; margin: 0 0 6px 0;}\n",
    "    body {margin: 0; padding: 50px 100px;}\n",
    "    a {color: #1385cb}\n",
    "    a:visited {color: #0e74bc}\n",
    "    table {border-collapse: collapse; border-top: 1px solid #ccc; border-left: 1px solid #ccc;}\n",
    "    table td, table th {padding: 2px 5px; border-bottom: 1px solid #ccc; border-right: 1px solid #ccc;}\n",
    "    table td {font-size: 14px;}\n",
    "  </style>\n",
    "</head>\n",
    "<body>\n",
    "<div class=\"header\">\n",
    "    <h2>GSVA analysis</h2>\n",
    "    Generated on %s\n",
    "</div>\n",
    "<table>\n",
    "%s\n",
    "</table>\n",
    "</body>\n",
    "</html>\n",
    "\"\"\"\n",
    "\n",
    "TABLE = \"\"\"\n",
    "<tr>\n",
    "    <th>%s</th>\n",
    "    <td><a href=\"%s\" target=\"_blank\">HALLMARK GSVA scores</a></td>\n",
    "</tr>\n",
    "\"\"\""
   ]
  },
  {
   "cell_type": "code",
   "execution_count": 24,
   "id": "15cd1711-d36f-4e19-a08c-c5a36c7d50b8",
   "metadata": {},
   "outputs": [
    {
     "name": "stdout",
     "output_type": "stream",
     "text": [
      ".DS_Store does not have counts\n",
      "._.DS_Store does not have counts\n",
      "Activated_monocytes does not have counts\n",
      "CCR7+_DC has less than 10 samples\n",
      "CD8_TEM_cells has less than 10 samples\n",
      "Ciliated_cells does not have counts\n",
      "Mast_cells does not have counts\n",
      "Proliferating_T_cells does not have counts\n",
      "Secretory_cells does not have counts\n",
      "gd_NKT_cells has less than 10 samples\n",
      "pDC does not have counts\n",
      "CPU times: user 2.06 s, sys: 119 ms, total: 2.18 s\n",
      "Wall time: 6.92 s\n"
     ]
    }
   ],
   "source": [
    "%%time\n",
    "table = ''\n",
    "ct_gsva = {}\n",
    "for ct in sorted(os.listdir(BASE)):\n",
    "    if not (BASE / ct / 'data' / 'transformed.tsv').exists():\n",
    "        print(f'{ct} does not have counts')\n",
    "        continue\n",
    "    pseudobulk = pd.read_table(BASE / ct / 'data' / 'transformed.tsv', delim_whitespace=True).T\n",
    "    metadata = pd.read_csv(BASE / ct / 'data' / f'{ct}-meta.csv', index_col=0)\n",
    "    metadata.index = metadata.index.str.replace(r'\\_[ATCG]+$', '', regex=True)\n",
    "    if metadata.shape[0] < 10:\n",
    "        print(f'{ct} has less than 10 samples')\n",
    "        continue\n",
    "    if (OUTDIR / ct / 'gsva.tsv').exists():\n",
    "        gsva = pd.read_table(OUTDIR / ct / 'gsva.tsv', index_col=0)\n",
    "    else:\n",
    "        try:\n",
    "            gsva = decoupler.run_gsva(\n",
    "                pseudobulk,\n",
    "                net=hallmark,\n",
    "                source='geneset',\n",
    "                target='genesymbol',\n",
    "                kcdf=True,\n",
    "                seed=1066\n",
    "            ).T\n",
    "        except:\n",
    "            print(f'{ct} had error in GSVA estimation')\n",
    "            continue\n",
    "    metadata = metadata.merge(\n",
    "        clinical_data[['External Sample ID', 'fvc_pred', 'mmf']],\n",
    "        on='External Sample ID',\n",
    "        how='left'\n",
    "    )\n",
    "    # Copy value for SSc8 from SSc6 (repeat sample)\n",
    "    metadata.loc[metadata['External Sample ID'].eq('SSc_SSc8'), 'mmf'] = 'Naive'\n",
    "    gsva.index = gsva.index.str.replace('HALLMARK_', '')\n",
    "    ct_gsva[ct] = (gsva, metadata)\n",
    "    os.makedirs(OUTDIR / ct, exist_ok=True)\n",
    "    gsva.to_csv(OUTDIR / ct / 'gsva.tsv', sep='\\t')\n",
    "    metadata.to_csv(OUTDIR / ct / 'meta.tsv', sep='\\t')\n",
    "    html = HTML % dict(\n",
    "        ct=ct,\n",
    "    )\n",
    "    table += TABLE % (\n",
    "        ct, ct\n",
    "    )\n",
    "    with open(OUTDIR / ct / 'index.html', 'w') as f:\n",
    "        f.write(html)\n",
    "html = TABLE_HTML % (\n",
    "    datetime.datetime.now().strftime('%d %b %Y, %I:%M%p'),\n",
    "    table\n",
    ")\n",
    "with open(OUTDIR / 'index.html', 'w') as out:\n",
    "    out.write(html)"
   ]
  },
  {
   "cell_type": "code",
   "execution_count": 25,
   "id": "77c99a57-3090-4169-8044-882138caf0e1",
   "metadata": {},
   "outputs": [],
   "source": [
    "moam_gsva = []\n",
    "moam_meta = []\n",
    "for ct, (gsva, meta) in ct_gsva.items():\n",
    "    if not ct.startswith('MoAM') and not ct.startswith('Mono'):\n",
    "        continue\n",
    "    gsva.columns = ct + '_' + gsva.columns\n",
    "    moam_gsva.append(gsva)\n",
    "    meta['cell_type'] = ct\n",
    "    moam_meta.append(meta)"
   ]
  },
  {
   "cell_type": "code",
   "execution_count": 26,
   "id": "e1b7f3bf-9690-4123-b384-feb5502e4910",
   "metadata": {},
   "outputs": [],
   "source": [
    "moam_gsva = pd.concat(moam_gsva, axis=1)\n",
    "moam_meta = pd.concat(moam_meta, axis=0)"
   ]
  },
  {
   "cell_type": "code",
   "execution_count": 27,
   "id": "d5e1d1a3-07f3-4128-8f5e-c849d79eba41",
   "metadata": {},
   "outputs": [],
   "source": [
    "moam_meta['id'] = moam_meta.cell_type + '_' + moam_meta['External Sample ID']"
   ]
  },
  {
   "cell_type": "code",
   "execution_count": null,
   "id": "8f0bb097-758e-4374-aac5-bee64e7c24b9",
   "metadata": {},
   "outputs": [],
   "source": [
    "HTML = \"\"\"\n",
    "<!DOCTYPE html>\n",
    "<html>\n",
    "<head>\n",
    "    <meta name=\"viewport\" content=\"width=device-width, initial-scale=1.0\"/>\n",
    "    <meta http-equiv=\"content-type\" content=\"text/html; charset=utf8\"/>\n",
    "    <title>%(ct)s GSVA exploration</title>\n",
    "    <style type=\"text/css\">\n",
    "        html {\n",
    "          margin: 0; padding: 0;\n",
    "          font-size: 20px; font-family: Helvetica, Verdana, sans-serif;\n",
    "        }\n",
    "        body {margin: 0; padding: 10px 10px;}\n",
    "        a {color: #1385cb}\n",
    "        a:visited {color: #0e74bc}\n",
    "        .header {margin-bottom: 10px;}\n",
    "        .header h2, .header h3 {font-weight: normal; text-align: center; margin: 0 0 6px 0;}\n",
    "        #morpheus-container {\n",
    "            width: auto;\n",
    "            height: auto;\n",
    "            min-width: 1200px;\n",
    "            min-height: 800px;\n",
    "            visibility: hidden;\n",
    "        }\n",
    "      </style>\n",
    "    <link rel=\"stylesheet\" href=\"https://software.broadinstitute.org/morpheus/css/morpheus-latest.min.css\">\n",
    "    <script>if (typeof module === 'object') {\n",
    "    window.module = module;\n",
    "    module = undefined;\n",
    "\n",
    "    }</script>\n",
    "\n",
    "    <script type=\"text/javascript\" src=\"https://software.broadinstitute.org/morpheus/js/morpheus-external-latest.min.js\"></script>\n",
    "    <script src=\"https://software.broadinstitute.org/morpheus/js/morpheus-latest.min.js\"></script>\n",
    "</head>\n",
    "<body>\n",
    "    <div class=\"header\">\n",
    "        <h2>%(ct)s GSVA scores</h2>\n",
    "    </div>\n",
    "    <div id=\"morpheus-container\"></div>\n",
    "\n",
    "    <script type=\"text/javascript\">\n",
    "        window.heatmap = new morpheus.HeatMap({\n",
    "            el: document.querySelector('#morpheus-container'),\n",
    "            name: \"%(ct)s\",\n",
    "            dataset: \"gsva.tsv\",\n",
    "            rows: [\n",
    "                {field: \"id\", display: [\"text\"]}\n",
    "            ],\n",
    "            columns: [\n",
    "                {field: \"id\", display: [\"color\"]},\n",
    "                {field: \"n_cells\", display: [\"color\"]},\n",
    "                {field: \"Sex\", display: [\"color\"]},\n",
    "                {field: \"Study\", display: [\"color\"]},\n",
    "                {field: \"Chemistry\", display: [\"color\"]},\n",
    "                {field: \"Status\", display: [\"color\"]},\n",
    "                {field: \"fvc_pred\", display: [\"color\"]},\n",
    "                {field: \"mmf\", display: [\"color\"]},\n",
    "                {field: \"cell_type\", display: [\"color\", \"text\"]}\n",
    "            ],\n",
    "            columnColorModel: {\n",
    "                \"perturbation_groups\": {\n",
    "                    'Healthy': \"#5cd061\",\n",
    "                    'NPC': \"#256b33\",\n",
    "                    'SARS-CoV-2' : \"#e51d23\",\n",
    "                    'SARS-CoV-2; Gram+' : \"#ffc326\",\n",
    "                    'Pseudomonas aeruginosa; SARS-CoV-2': \"#9858d6\",\n",
    "                    'Pseudomonas; SARS-CoV-2': \"#9858d6\",\n",
    "                    'Gram+': \"#013265\",\n",
    "                    'Pseudomonas aeruginosa': \"#fb4e93\",\n",
    "                    'Pseudomonas': \"#fb4e93\",\n",
    "                    'Gram-*; Gram+': \"#1ceaf9\",\n",
    "                    'Gram-*': \"#770c2e\"\n",
    "                },\n",
    "                \"pathogen_groups\": {\n",
    "                    'Healthy': \"#5cd061\",\n",
    "                    'NPC': \"#256b33\",\n",
    "                    'SARS-CoV-2' : \"#e51d23\",\n",
    "                    'SARS-CoV-2; Gram+' : \"#ffc326\",\n",
    "                    'Pseudomonas aeruginosa; SARS-CoV-2': \"#9858d6\",\n",
    "                    'Pseudomonas; SARS-CoV-2': \"#9858d6\",\n",
    "                    'Gram+': \"#013265\",\n",
    "                    'Pseudomonas aeruginosa': \"#fb4e93\",\n",
    "                    'Pseudomonas': \"#fb4e93\",\n",
    "                    'Gram-*; Gram+': \"#1ceaf9\",\n",
    "                    'Gram-*': \"#770c2e\"\n",
    "                },\n",
    "                \"days_on_ventilator\": {\n",
    "                    \"values\": [0, 10],\n",
    "                    \"colors\": [\"#f7fbff\", \"#08306b\"]\n",
    "                },\n",
    "                \"Chemistry\": {\n",
    "                    \"10x 3' V2\": \"#56407f\",\n",
    "                    \"10x 3' V3\": \"#ed6146\"\n",
    "                },\n",
    "                \"mmf\": {\n",
    "                    \"Naive\": \"#227f69\",\n",
    "                    \"MMF\": \"#b54519\"\n",
    "                }\n",
    "            },\n",
    "            columnAnnotations: [{\n",
    "                file: \"meta.tsv\",\n",
    "                datasetField: \"id\",\n",
    "                fileField: \"id\"\n",
    "            }],\n",
    "            /*colorScheme: { // optional color scheme. default is relative\n",
    "                type: 'fixed',\n",
    "                map: [{\n",
    "                    value: -2,\n",
    "                    color: '#0000ff'\n",
    "                }, {\n",
    "                    value: 0,\n",
    "                    color: '#ffffff'\n",
    "                }, {\n",
    "                    value: 2,\n",
    "                    color: '#ff0000'\n",
    "                }]\n",
    "            },*/\n",
    "            tools: [{ name: \"Hierarchical Clustering\", params: {cluster: \"Rows and columns\", background: false} }]\n",
    "        });\n",
    "        window.onload = function() {\n",
    "            /*morpheus.HClusterTool.execute({\n",
    "                heatMap: window.heatmap,\n",
    "                project: window.heatmap.getProject(),\n",
    "                input:\n",
    "            });*/\n",
    "            window.setTimeout(function() {\n",
    "                window.heatmap.fitToWindow({fitRows: true, fitColumns: true, repaint: true});\n",
    "                window.heatmap.fitToWindow({fitRows: true, fitColumns: true, repaint: true});\n",
    "                document.getElementById('morpheus-container').style.visibility = 'visible';\n",
    "            }, 800)\n",
    "        }\n",
    "    </script>\n",
    "</body>\n",
    "</html>\n",
    "\"\"\""
   ]
  },
  {
   "cell_type": "code",
   "execution_count": 29,
   "id": "199ee862-6177-4645-8b16-a014ac370593",
   "metadata": {},
   "outputs": [],
   "source": [
    "os.makedirs(OUTDIR / 'all-moam', exist_ok=True)\n",
    "moam_gsva.to_csv(OUTDIR / 'all-moam' / 'gsva.tsv', sep='\\t')\n",
    "moam_meta.to_csv(OUTDIR / 'all-moam' / 'meta.tsv', sep='\\t')\n",
    "html = HTML % dict(\n",
    "    ct='All MoAM + Mono',\n",
    ")\n",
    "table += TABLE % (\n",
    "    'All MoAM + Mono', 'all-moam'\n",
    ")\n",
    "with open(OUTDIR / 'all-moam' / 'index.html', 'w') as f:\n",
    "    f.write(html)\n",
    "html = TABLE_HTML % (\n",
    "    datetime.datetime.now().strftime('%d %b %Y, %I:%M%p'),\n",
    "    table\n",
    ")\n",
    "with open(OUTDIR / 'index.html', 'w') as out:\n",
    "    out.write(html)"
   ]
  },
  {
   "cell_type": "code",
   "execution_count": null,
   "id": "3dea10aa-06e2-4cd3-9b1f-3366b39fdd19",
   "metadata": {},
   "outputs": [],
   "source": []
  }
 ],
 "metadata": {
  "kernelspec": {
   "display_name": "ssc-v2-scvi",
   "language": "python",
   "name": "ssc-v2-scvi"
  },
  "language_info": {
   "codemirror_mode": {
    "name": "ipython",
    "version": 3
   },
   "file_extension": ".py",
   "mimetype": "text/x-python",
   "name": "python",
   "nbconvert_exporter": "python",
   "pygments_lexer": "ipython3",
   "version": "3.9.12"
  }
 },
 "nbformat": 4,
 "nbformat_minor": 5
}
