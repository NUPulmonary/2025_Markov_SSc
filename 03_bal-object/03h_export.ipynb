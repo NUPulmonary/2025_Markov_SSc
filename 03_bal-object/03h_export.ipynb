{
 "cells": [
  {
   "cell_type": "code",
   "execution_count": 1,
   "metadata": {},
   "outputs": [],
   "source": [
    "import sys\n",
    "sys.path.insert(0, \"../lib\")"
   ]
  },
  {
   "cell_type": "code",
   "execution_count": 2,
   "metadata": {},
   "outputs": [],
   "source": [
    "import math\n",
    "import os\n",
    "import pathlib\n",
    "import re\n",
    "\n",
    "import scanpy as sc\n",
    "import numpy as np\n",
    "import pandas as pd\n",
    "import sc_utils\n",
    "import matplotlib as mpl\n",
    "import matplotlib.pyplot as plt\n",
    "import seaborn as sns"
   ]
  },
  {
   "cell_type": "code",
   "execution_count": 3,
   "metadata": {},
   "outputs": [],
   "source": [
    "pd.options.display.max_columns = None"
   ]
  },
  {
   "cell_type": "code",
   "execution_count": 4,
   "metadata": {},
   "outputs": [],
   "source": [
    "%config InlineBackend.figure_format = \"retina\""
   ]
  },
  {
   "cell_type": "code",
   "execution_count": 5,
   "metadata": {},
   "outputs": [],
   "source": [
    "DATA = pathlib.Path('../../data/31_bal-object/')"
   ]
  },
  {
   "cell_type": "code",
   "execution_count": 6,
   "metadata": {},
   "outputs": [],
   "source": [
    "adata = sc.read_h5ad(DATA / '03_bal-object/03_bal-object.h5ad')"
   ]
  },
  {
   "cell_type": "code",
   "execution_count": 10,
   "metadata": {},
   "outputs": [],
   "source": [
    "raw_object = sc.read_h5ad('../../data/31_bal-object/raw_object.h5ad')"
   ]
  },
  {
   "cell_type": "code",
   "execution_count": 11,
   "metadata": {},
   "outputs": [],
   "source": [
    "adata.obs.cell_type = adata.obs.cell_type.astype(str).replace({\n",
    "    'MoAM-3 mature': 'MoAM-2',\n",
    "    'MoAM-4 profibrotic': 'MoAM-3 profibrotic',\n",
    "    'gd/NKT cells': 'NK + γδT cells',\n",
    "    'Perivascular macrophages': 'Interstitial macrophages',\n",
    "}).astype('category')"
   ]
  },
  {
   "cell_type": "code",
   "execution_count": 12,
   "metadata": {},
   "outputs": [],
   "source": [
    "adata.obs.Status = pd.Categorical(adata.obs.Status.astype(str).replace({\n",
    "    'control': 'Control',\n",
    "    'SSc': 'SSc-ILD'\n",
    "}), categories=['Control', 'SSc-ILD'])"
   ]
  },
  {
   "cell_type": "code",
   "execution_count": 13,
   "metadata": {},
   "outputs": [],
   "source": [
    "paper_ids = pd.read_csv('../SSc_BAL_GEO_ID_Mapping - ID mapping.csv')"
   ]
  },
  {
   "cell_type": "code",
   "execution_count": 14,
   "metadata": {},
   "outputs": [],
   "source": [
    "adata.obs['paper_id'] = paper_ids.set_index('External Sample ID')['Publication ID'][\n",
    "    adata.obs['External Sample ID'].values\n",
    "].values\n",
    "adata.obs['paper_id'] = pd.Categorical(adata.obs['paper_id'])"
   ]
  },
  {
   "cell_type": "code",
   "execution_count": 15,
   "metadata": {},
   "outputs": [],
   "source": [
    "raw_object.obs['paper_id'] = paper_ids.set_index('External Sample ID')['Publication ID'][\n",
    "    raw_object.obs['External Sample ID'].values\n",
    "].values\n",
    "raw_object.obs['paper_id'] = pd.Categorical(raw_object.obs['paper_id'])"
   ]
  },
  {
   "cell_type": "code",
   "execution_count": 16,
   "metadata": {},
   "outputs": [],
   "source": [
    "raw_object.obs_names = (\n",
    "    raw_object.obs['paper_id'].astype(str)\n",
    "    + '_'\n",
    "    + raw_object.obs_names.str.split('-').str[0]\n",
    ")"
   ]
  },
  {
   "cell_type": "code",
   "execution_count": 18,
   "metadata": {},
   "outputs": [],
   "source": [
    "adata.obs.drop(columns=[\n",
    "    'Sample', 'Sample ID', 'External Sample ID',\n",
    "    'Patient', 'Smoking status', 'Race', 'BMI',\n",
    "    'Type', 'Tissue location', 'Additional data',\n",
    "    'Fastq', 'Genome build', 'Directory', 'Doublet threshold',\n",
    "    'batch', 'n_counts', 'pct_counts_in_top_20_genes',\n",
    "    'total_counts_mito', 'total_counts_ribo', '_scvi_batch',\n",
    "    '_scvi_labels', 'leiden_scVI'\n",
    "], inplace=True)"
   ]
  },
  {
   "cell_type": "code",
   "execution_count": 19,
   "metadata": {},
   "outputs": [],
   "source": [
    "adata.obs.rename(columns={\n",
    "    'Study': 'Cohort',\n",
    "    'Status': 'Condition',\n",
    "    'paper_id': 'Sample',\n",
    "}, inplace=True)"
   ]
  },
  {
   "cell_type": "code",
   "execution_count": 20,
   "metadata": {},
   "outputs": [],
   "source": [
    "adata.obs = adata.obs.loc[\n",
    "    :,\n",
    "    [\n",
    "        'Cohort', 'Sample', 'Condition', 'Sex', 'Age',\n",
    "        'Protocol', 'Chemistry', 'n_genes_by_counts', 'total_counts', 'pct_counts_in_top_10_genes',\n",
    "        'pct_counts_mito', 'pct_counts_ribo', 'cell_type'\n",
    "    ]\n",
    "]"
   ]
  },
  {
   "cell_type": "code",
   "execution_count": 21,
   "metadata": {},
   "outputs": [],
   "source": [
    "adata.obs_names = (\n",
    "    adata.obs.Sample.astype(str)\n",
    "    + '_'\n",
    "    + adata.obs_names.str.split('_').str[-1]\n",
    ")"
   ]
  },
  {
   "cell_type": "code",
   "execution_count": 22,
   "metadata": {},
   "outputs": [],
   "source": [
    "adata.obs.Cohort = adata.obs.Cohort.astype(str).replace({\n",
    "    'this': 'Northwestern/Yale'\n",
    "}).astype('category')"
   ]
  },
  {
   "cell_type": "code",
   "execution_count": 23,
   "metadata": {},
   "outputs": [],
   "source": [
    "adata.obs.Sex = adata.obs.Sex.str.capitalize()"
   ]
  },
  {
   "cell_type": "code",
   "execution_count": 24,
   "metadata": {},
   "outputs": [],
   "source": [
    "adata.obs.Protocol = adata.obs.Protocol.astype(str).replace({\n",
    "    'Wash, no sorting': 'no FACS',\n",
    "    'FACSorted': 'FACS'\n",
    "}).astype('category')"
   ]
  },
  {
   "cell_type": "code",
   "execution_count": 25,
   "metadata": {},
   "outputs": [],
   "source": [
    "age_bins = {}\n",
    "for i in range(100):\n",
    "    bin_start = i // 5 * 5\n",
    "    age_bins[str(i)] = f'{bin_start}–{bin_start + 4}'"
   ]
  },
  {
   "cell_type": "code",
   "execution_count": 26,
   "metadata": {},
   "outputs": [],
   "source": [
    "adata.obs.Age = adata.obs.Age.astype(str).replace(age_bins).astype('category')"
   ]
  },
  {
   "cell_type": "code",
   "execution_count": 30,
   "metadata": {},
   "outputs": [],
   "source": [
    "os.makedirs(DATA / '03x_bal-export', exist_ok=True)"
   ]
  },
  {
   "cell_type": "markdown",
   "metadata": {},
   "source": [
    "First compute markers on log1p-processed `.raw`"
   ]
  },
  {
   "cell_type": "code",
   "execution_count": 31,
   "metadata": {},
   "outputs": [
    {
     "name": "stderr",
     "output_type": "stream",
     "text": [
      "... storing 'Sex' as categorical\n"
     ]
    }
   ],
   "source": [
    "sc.tl.rank_genes_groups(adata, \"cell_type\", method=\"t-test\", n_genes=200)"
   ]
  },
  {
   "cell_type": "code",
   "execution_count": 32,
   "metadata": {},
   "outputs": [],
   "source": [
    "markers = sc_utils.get_markers(adata, \"cell_type\")"
   ]
  },
  {
   "cell_type": "code",
   "execution_count": 33,
   "metadata": {},
   "outputs": [],
   "source": [
    "markers.sort_values([\"cluster\", \"avg_logFC\"], ascending=[True, False], inplace=True)"
   ]
  },
  {
   "cell_type": "code",
   "execution_count": 34,
   "metadata": {},
   "outputs": [],
   "source": [
    "markers.to_csv(DATA / '03x_bal-export/03x_bal-export-markers.csv')"
   ]
  },
  {
   "cell_type": "markdown",
   "metadata": {},
   "source": [
    "Now subset `raw_object` and put it to `.raw`"
   ]
  },
  {
   "cell_type": "code",
   "execution_count": 35,
   "metadata": {},
   "outputs": [],
   "source": [
    "current_raw = adata.raw.to_adata()"
   ]
  },
  {
   "cell_type": "code",
   "execution_count": 36,
   "metadata": {},
   "outputs": [],
   "source": [
    "new_raw = raw_object[current_raw.obs_names].copy()\n",
    "new_raw.obs = current_raw.obs.copy()"
   ]
  },
  {
   "cell_type": "code",
   "execution_count": 44,
   "metadata": {},
   "outputs": [],
   "source": [
    "adata.raw = new_raw"
   ]
  },
  {
   "cell_type": "code",
   "execution_count": 45,
   "metadata": {},
   "outputs": [],
   "source": [
    "adata.write_h5ad(DATA / '03x_bal-export/03x_bal-export.h5ad')"
   ]
  },
  {
   "cell_type": "code",
   "execution_count": null,
   "metadata": {},
   "outputs": [],
   "source": []
  }
 ],
 "metadata": {
  "kernelspec": {
   "display_name": "venv",
   "language": "python",
   "name": "python3"
  },
  "language_info": {
   "codemirror_mode": {
    "name": "ipython",
    "version": 3
   },
   "file_extension": ".py",
   "mimetype": "text/x-python",
   "name": "python",
   "nbconvert_exporter": "python",
   "pygments_lexer": "ipython3",
   "version": "3.9.12"
  }
 },
 "nbformat": 4,
 "nbformat_minor": 4
}
