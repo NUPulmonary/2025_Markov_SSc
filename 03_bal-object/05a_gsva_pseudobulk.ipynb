{
 "cells": [
  {
   "cell_type": "code",
   "execution_count": 1,
   "id": "dfa0f276-acc7-4e74-8106-1389fde3f220",
   "metadata": {},
   "outputs": [
    {
     "name": "stderr",
     "output_type": "stream",
     "text": [
      "/projects/b1038/Pulmonary/nmarkov/ssc-v2/code/scvi_venv/lib/python3.9/site-packages/tqdm/auto.py:21: TqdmWarning: IProgress not found. Please update jupyter and ipywidgets. See https://ipywidgets.readthedocs.io/en/stable/user_install.html\n",
      "  from .autonotebook import tqdm as notebook_tqdm\n"
     ]
    }
   ],
   "source": [
    "import os\n",
    "import pathlib\n",
    "\n",
    "import scanpy as sc\n",
    "import pandas as pd\n",
    "import numpy as np\n",
    "import matplotlib as mpl\n",
    "import matplotlib.pyplot as plt\n",
    "import decoupler"
   ]
  },
  {
   "cell_type": "code",
   "execution_count": 2,
   "id": "821d5f5b-c926-43ff-8322-917e3eb785a7",
   "metadata": {},
   "outputs": [],
   "source": [
    "pd.options.display.max_rows = 300"
   ]
  },
  {
   "cell_type": "code",
   "execution_count": 3,
   "id": "4680150c-c728-429b-9375-e74fe358941a",
   "metadata": {},
   "outputs": [],
   "source": [
    "%config InlineBackend.figure_format = \"retina\""
   ]
  },
  {
   "cell_type": "code",
   "execution_count": 4,
   "id": "9c2cce3b-258a-42d0-8fc5-462a78239cab",
   "metadata": {},
   "outputs": [
    {
     "data": {
      "text/html": [
       "<style>.jp-OutputArea-output {display:flex}</style>"
      ],
      "text/plain": [
       "<IPython.core.display.HTML object>"
      ]
     },
     "metadata": {},
     "output_type": "display_data"
    }
   ],
   "source": [
    "# Nick needs this because he's using Firefox which apparently noone uses anymore\n",
    "from IPython.display import display, HTML\n",
    "display(HTML(\"<style>.jp-OutputArea-output {display:flex}</style>\"))"
   ]
  },
  {
   "cell_type": "code",
   "execution_count": 5,
   "id": "b17d8360-58a7-47eb-a49e-6561a5260c75",
   "metadata": {},
   "outputs": [],
   "source": [
    "def sanitize_name(name):\n",
    "    return name.replace(' ', '_').replace('*', '').replace(';', '_and').replace('/', '_')"
   ]
  },
  {
   "cell_type": "code",
   "execution_count": 6,
   "id": "be0439b1-37e1-40a3-8ae3-da780e6b9ee7",
   "metadata": {},
   "outputs": [],
   "source": [
    "DATA = pathlib.Path('../../data/31_bal-object/')"
   ]
  },
  {
   "cell_type": "code",
   "execution_count": 7,
   "id": "cfc3faa6-8191-4448-8c01-9fbdf3a6443f",
   "metadata": {},
   "outputs": [],
   "source": [
    "ds = sc.read_h5ad(DATA / \"03_bal-object/03_bal-object.h5ad\")"
   ]
  },
  {
   "cell_type": "code",
   "execution_count": 8,
   "id": "c329be69-2f0e-4402-8e3f-0684d9187f95",
   "metadata": {},
   "outputs": [
    {
     "data": {
      "text/plain": [
       "['CD4 naive T cells',\n",
       " 'DC2',\n",
       " 'TRAM-2',\n",
       " 'CD4 TEM cells',\n",
       " 'TRAM-3',\n",
       " 'TRAM-4',\n",
       " 'Tregs',\n",
       " 'MoAM-3 mature',\n",
       " 'CD8 TRM cells',\n",
       " 'TRAM-1',\n",
       " 'TRAM-5 MT1G',\n",
       " 'TRAM-6 activated',\n",
       " 'CCR7+ DC',\n",
       " 'MoAM-4 profibrotic',\n",
       " 'Proliferating macrophages',\n",
       " 'B cells',\n",
       " 'Ciliated cells',\n",
       " 'Monocytes',\n",
       " 'Secretory cells',\n",
       " 'CD8 TEM cells',\n",
       " 'gd/NKT cells',\n",
       " 'Activated monocytes',\n",
       " 'DC1',\n",
       " 'pDC',\n",
       " 'Perivascular macrophages',\n",
       " 'MoAM-1',\n",
       " 'Mast cells',\n",
       " 'Proliferating T cells']"
      ]
     },
     "execution_count": 8,
     "metadata": {},
     "output_type": "execute_result"
    }
   ],
   "source": [
    "ds.obs.cell_type.unique().tolist()"
   ]
  },
  {
   "cell_type": "code",
   "execution_count": 9,
   "id": "9af66b81-f555-4f20-bb01-2419d8840593",
   "metadata": {},
   "outputs": [],
   "source": [
    "raw_object = sc.read_h5ad(DATA / \"raw_object.h5ad\")"
   ]
  },
  {
   "cell_type": "code",
   "execution_count": 10,
   "id": "b91172cd-3be6-4ec7-9a13-ff5b3757e33e",
   "metadata": {},
   "outputs": [],
   "source": [
    "raw_object.obs_names = (\n",
    "    raw_object.obs[\"External Sample ID\"].astype(str) \n",
    "    + \"_\" \n",
    "    + raw_object.obs_names.str.replace(\"(-\\d+)+$\", \"\", regex=True)\n",
    ")"
   ]
  },
  {
   "cell_type": "code",
   "execution_count": 11,
   "id": "9d9ca6d8-6171-45c1-9884-c1447427d4ce",
   "metadata": {},
   "outputs": [],
   "source": [
    "OUT_DIR = DATA / 'pseudobulk-gsva'"
   ]
  },
  {
   "cell_type": "code",
   "execution_count": 12,
   "id": "8a302b9f-e95f-4a83-bf9c-f40181fe3a15",
   "metadata": {},
   "outputs": [
    {
     "name": "stdout",
     "output_type": "stream",
     "text": [
      "CD4 naive T cells done, 15/23\n",
      "DC2 done, 16/23\n",
      "TRAM-2 done, 22/23\n",
      "CD4 TEM cells done, 20/23\n",
      "TRAM-3 done, 23/23\n",
      "TRAM-4 done, 23/23\n",
      "Tregs done, 12/22\n",
      "MoAM-3 mature done, 23/23\n",
      "CD8 TRM cells done, 18/23\n",
      "TRAM-1 done, 23/23\n",
      "TRAM-5 MT1G done, 23/23\n",
      "TRAM-6 activated done, 22/23\n",
      "CCR7+ DC done, 6/23\n",
      "MoAM-4 profibrotic done, 14/22\n",
      "Proliferating macrophages done, 22/23\n",
      "B cells done, 11/23\n",
      "Ciliated cells done, 9/17\n",
      "Monocytes done, 14/22\n",
      "Secretory cells done, 6/18\n",
      "CD8 TEM cells done, 7/23\n",
      "gd/NKT cells done, 8/22\n",
      "Activated monocytes done, 2/22\n",
      "DC1 done, 10/23\n",
      "pDC done, 1/20\n",
      "Perivascular macrophages done, 15/22\n",
      "MoAM-1 done, 14/22\n",
      "Mast cells done, 1/22\n",
      "Proliferating T cells done, 0/23\n"
     ]
    }
   ],
   "source": [
    "CUTOFF = 50\n",
    "for ct in ds.obs.cell_type.unique():\n",
    "    ct_slug = sanitize_name(ct)\n",
    "    cells = ds.obs.index[ds.obs.cell_type.eq(ct)]\n",
    "    patient_status = ds.obs.loc[\n",
    "        cells, \n",
    "        [\"External Sample ID\", \"Status\", \"Sex\", \"Study\", 'Chemistry']\n",
    "    ].drop_duplicates()\n",
    "    samples = patient_status[\"External Sample ID\"].unique()\n",
    "    sample_values = [] # gene sum for sample in this cell type\n",
    "    sample_ncells = [] # number of cells expressing gene for sample in this cell type\n",
    "    filtered_samples = [] # samples that pass cutoff filter\n",
    "    n_cells = []\n",
    "    for s in samples:\n",
    "        # cells in particular sample\n",
    "        s_cells = raw_object.obs_names.isin(cells) & raw_object.obs[\"External Sample ID\"].eq(s)\n",
    "        if s_cells.sum() >= CUTOFF:\n",
    "            sample_values.append(raw_object.X[s_cells, :].sum(axis=0).A[0])\n",
    "            sample_ncells.append((raw_object.X[s_cells, :] > 0).sum(axis=0).A[0])\n",
    "            filtered_samples.append(s)\n",
    "            n_cells.append(s_cells.sum())\n",
    "            \n",
    "    sample_values = pd.DataFrame(sample_values, index=filtered_samples, columns=raw_object.var_names).T\n",
    "    sample_ncells = pd.DataFrame(sample_ncells, index=filtered_samples, columns=raw_object.var_names).T\n",
    "\n",
    "    os.makedirs(f'{OUT_DIR}/{ct_slug}/data', exist_ok=True)\n",
    "    \n",
    "    fname = f\"{OUT_DIR}/{ct_slug}/data/{ct_slug}.txt\"\n",
    "    sample_values.to_csv(fname, sep=\"\\t\")\n",
    "    \n",
    "    fname = f\"{OUT_DIR}/{ct_slug}/data/{ct_slug}-n_cells.txt\"\n",
    "    sample_ncells.to_csv(fname, sep=\"\\t\")\n",
    "    \n",
    "    fname = f\"{OUT_DIR}/{ct_slug}/data/{ct_slug}-meta.csv\"\n",
    "    patient_status = patient_status.loc[patient_status[\"External Sample ID\"].isin(filtered_samples), :]\n",
    "    patient_status[\"n_cells\"] = n_cells\n",
    "    patient_status.to_csv(fname)\n",
    "    print(f\"{ct} done, {len(filtered_samples)}/{len(samples)}\")"
   ]
  },
  {
   "cell_type": "code",
   "execution_count": 13,
   "id": "755dd370-2578-44f9-be30-f9512a70f3c0",
   "metadata": {},
   "outputs": [
    {
     "name": "stdout",
     "output_type": "stream",
     "text": [
      "global done, 23/23\n"
     ]
    }
   ],
   "source": [
    "ct_slug = 'global'\n",
    "cells = ds.obs.index\n",
    "patient_status = ds.obs.loc[\n",
    "    cells, \n",
    "    [\"External Sample ID\", \"Status\", \"Sex\", \"Study\", 'Chemistry']\n",
    "].drop_duplicates()\n",
    "samples = patient_status[\"External Sample ID\"].unique()\n",
    "sample_values = [] # gene sum for sample in this cell type\n",
    "sample_ncells = [] # number of cells expressing gene for sample in this cell type\n",
    "filtered_samples = [] # samples that pass cutoff filter\n",
    "n_cells = []\n",
    "for s in samples:\n",
    "    # cells in particular sample\n",
    "    s_cells = raw_object.obs_names.isin(cells) & raw_object.obs[\"External Sample ID\"].eq(s)\n",
    "    if s_cells.sum() >= CUTOFF:\n",
    "        sample_values.append(raw_object.X[s_cells, :].sum(axis=0).A[0])\n",
    "        sample_ncells.append((raw_object.X[s_cells, :] > 0).sum(axis=0).A[0])\n",
    "        filtered_samples.append(s)\n",
    "        n_cells.append(s_cells.sum())\n",
    "        \n",
    "sample_values = pd.DataFrame(sample_values, index=filtered_samples, columns=raw_object.var_names).T\n",
    "sample_ncells = pd.DataFrame(sample_ncells, index=filtered_samples, columns=raw_object.var_names).T\n",
    "\n",
    "os.makedirs(f'{OUT_DIR}/{ct_slug}/data', exist_ok=True)\n",
    "\n",
    "fname = f\"{OUT_DIR}/{ct_slug}/data/{ct_slug}.txt\"\n",
    "sample_values.to_csv(fname, sep=\"\\t\")\n",
    "\n",
    "fname = f\"{OUT_DIR}/{ct_slug}/data/{ct_slug}-n_cells.txt\"\n",
    "sample_ncells.to_csv(fname, sep=\"\\t\")\n",
    "\n",
    "fname = f\"{OUT_DIR}/{ct_slug}/data/{ct_slug}-meta.csv\"\n",
    "patient_status = patient_status.loc[patient_status[\"External Sample ID\"].isin(filtered_samples), :]\n",
    "patient_status[\"n_cells\"] = n_cells\n",
    "patient_status.to_csv(fname)\n",
    "print(f\"{ct_slug} done, {len(filtered_samples)}/{len(samples)}\")"
   ]
  },
  {
   "cell_type": "code",
   "execution_count": null,
   "id": "f93382df-6008-4767-83c7-f3ac3f3c8eb3",
   "metadata": {},
   "outputs": [],
   "source": []
  }
 ],
 "metadata": {
  "kernelspec": {
   "display_name": "ssc-v2-scvi",
   "language": "python",
   "name": "ssc-v2-scvi"
  },
  "language_info": {
   "codemirror_mode": {
    "name": "ipython",
    "version": 3
   },
   "file_extension": ".py",
   "mimetype": "text/x-python",
   "name": "python",
   "nbconvert_exporter": "python",
   "pygments_lexer": "ipython3",
   "version": "3.9.12"
  }
 },
 "nbformat": 4,
 "nbformat_minor": 5
}
