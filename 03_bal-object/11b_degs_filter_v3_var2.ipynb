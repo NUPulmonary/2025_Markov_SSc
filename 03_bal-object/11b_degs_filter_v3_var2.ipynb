{
 "cells": [
  {
   "cell_type": "markdown",
   "metadata": {},
   "source": [
    "# BAL Pseudobulk analysis, pt. 3"
   ]
  },
  {
   "cell_type": "code",
   "execution_count": 1,
   "metadata": {},
   "outputs": [],
   "source": [
    "import collections\n",
    "import math\n",
    "import os\n",
    "import sys\n",
    "import pathlib\n",
    "import typing\n",
    "\n",
    "import numpy as np\n",
    "import pandas as pd\n",
    "import scanpy as sc\n",
    "import matplotlib as mpl\n",
    "import matplotlib.pyplot as plt\n",
    "import adjustText as adjust_text\n",
    "import seaborn as sns\n",
    "import goatools.base\n",
    "import goatools.obo_parser\n",
    "import goatools.anno.genetogo_reader\n",
    "import goatools.goea.go_enrichment_ns\n",
    "import pybiomart\n",
    "import statsmodels.stats.multitest\n",
    "\n",
    "import matplotlib_venn"
   ]
  },
  {
   "cell_type": "code",
   "execution_count": 2,
   "metadata": {},
   "outputs": [],
   "source": [
    "sys.path.insert(0, \"../lib/\")"
   ]
  },
  {
   "cell_type": "code",
   "execution_count": 3,
   "metadata": {},
   "outputs": [],
   "source": [
    "import sc_utils"
   ]
  },
  {
   "cell_type": "code",
   "execution_count": 4,
   "metadata": {},
   "outputs": [],
   "source": [
    "%config InlineBackend.figure_format = \"retina\"\n",
    "pd.options.display.max_columns = 100\n",
    "plt.rcParams['figure.constrained_layout.use'] = True"
   ]
  },
  {
   "cell_type": "code",
   "execution_count": 5,
   "metadata": {},
   "outputs": [],
   "source": [
    "DATA = pathlib.Path('../../data/31_bal-object/')"
   ]
  },
  {
   "cell_type": "code",
   "execution_count": 6,
   "metadata": {},
   "outputs": [],
   "source": [
    "ds_processed = sc.read_h5ad(DATA / '03_bal-object/03_bal-object.h5ad')"
   ]
  },
  {
   "cell_type": "code",
   "execution_count": 7,
   "metadata": {},
   "outputs": [],
   "source": [
    "DATA_DIR = DATA / 'pseudobulk-gsva'"
   ]
  },
  {
   "cell_type": "code",
   "execution_count": 8,
   "metadata": {},
   "outputs": [],
   "source": [
    "DEG_DIR = DATA / '11_pseudobulk-v3'"
   ]
  },
  {
   "cell_type": "markdown",
   "metadata": {},
   "source": [
    "## Apply filtering, GO and plots to all cell types"
   ]
  },
  {
   "cell_type": "code",
   "execution_count": 9,
   "metadata": {},
   "outputs": [],
   "source": [
    "def plot_ma(filtered_degs, gene_cells, title):\n",
    "    fig, ax = plt.subplots()\n",
    "    val_counts = filtered_degs.sign.value_counts(dropna=False).sort_index()\n",
    "    num_top = min(10, val_counts.get(\"Up in Control\", 0))\n",
    "    num_bot = min(10, val_counts.get(\"Up in SSc\", 0))\n",
    "    genes = filtered_degs.loc[\n",
    "        filtered_degs.padj < 0.05, \n",
    "        :\n",
    "    ].index[list(range(num_top)) + list(range(-num_bot, 0))]\n",
    "\n",
    "    sign_cells = gene_cells.loc[filtered_degs.index[filtered_degs.sign != \"\"], :].sum(axis=1)\n",
    "    min_cells = sign_cells.min()\n",
    "    max_cells = sign_cells.max()\n",
    "    colors = {\n",
    "        \"\": \"gray\",\n",
    "        \"Up in Control\": lambda x: gene_cells.loc[x.index, :].sum(axis=1),\n",
    "        \"Up in SSc\": lambda x: gene_cells.loc[x.index, :].sum(axis=1),\n",
    "    }\n",
    "    cmap = {\n",
    "        \"\": None,\n",
    "        \"Up in Control\": mpl.cm.winter_r,\n",
    "        \"Up in SSc\": mpl.cm.autumn_r,\n",
    "    }\n",
    "    alphas = {\n",
    "        \"\": 0.2,\n",
    "        \"Up in Control\": 1,\n",
    "        \"Up in SSc\": 1\n",
    "    }\n",
    "    processed = []\n",
    "    for k, v in val_counts.items():\n",
    "        idx = filtered_degs.sign == k\n",
    "        kwargs = {}\n",
    "        label = k\n",
    "        if label:\n",
    "            label = f\"{label} ({idx.sum()})\"\n",
    "        kwargs[\"label\"] = label\n",
    "        c = colors[k]\n",
    "        if callable(c):\n",
    "            c = c(filtered_degs[idx])\n",
    "            kwargs[\"norm\"] = mpl.colors.LogNorm(vmin=min_cells, vmax=max_cells)\n",
    "        kwargs[\"c\"] = c\n",
    "        kwargs[\"alpha\"] = alphas[k]\n",
    "        if cmap.get(k):\n",
    "            kwargs[\"cmap\"] = cmap[k]\n",
    "        dots = ax.scatter(\n",
    "            filtered_degs.baseMean[idx], \n",
    "            filtered_degs.log2FoldChange[idx],\n",
    "            s=4,\n",
    "            **kwargs\n",
    "        )\n",
    "        if kwargs.get(\"norm\"):\n",
    "            fig.colorbar(dots, label=\"No of cells with gene\")\n",
    "            processed.append(k)\n",
    "    texts = []\n",
    "    for r in filtered_degs.loc[genes, :].itertuples(name=None):\n",
    "        texts.append(ax.text(r[1], r[2], r[0], size=9))\n",
    "    ax.set_xscale(\"log\")\n",
    "    ax.figure.set_size_inches(8, 6)\n",
    "    ax.set_title(title)\n",
    "    ax.set_ylabel(\"$log_2$(fold change)\", size=16)\n",
    "    ax.set_xlabel(\"Mean expression\", size=16)\n",
    "    l = ax.legend(fontsize=12, markerscale=4)\n",
    "    for lh in l.legendHandles: \n",
    "        lh.set_alpha(1)\n",
    "    fig.axes[0].set_position((0.1, 0.1, 0.72, 0.85))\n",
    "    for i, d in enumerate(processed):\n",
    "        if d == \"Up in SSc\":\n",
    "            fig.axes[i + 1].set_position((0.84, 0.12, 0.08, 0.375))\n",
    "        else:\n",
    "            fig.axes[i + 1].set_position((0.84, 0.52, 0.08, 0.375))\n",
    "    adjust_text.adjust_text(\n",
    "        texts, \n",
    "        ax=ax, \n",
    "        autoalign=False,\n",
    "        expand_points=(1.5, 1.5),\n",
    "        force_points=(1, 1),\n",
    "        arrowprops=dict(arrowstyle='-', color='black', shrinkA=4, shrinkB=4)\n",
    "    )\n",
    "    return fig"
   ]
  },
  {
   "cell_type": "markdown",
   "metadata": {},
   "source": [
    "### Plot heatmap and MA plot for each cell type\n",
    "Save to output directory"
   ]
  },
  {
   "cell_type": "code",
   "execution_count": 10,
   "metadata": {},
   "outputs": [],
   "source": [
    "def plot_heatmap(meta, filtered_degs, cell_type, ds_processed):\n",
    "    groupby = \"External Sample ID\"\n",
    "    val_counts = filtered_degs.sign.value_counts(dropna=False)\n",
    "    num_top = min(20, val_counts.get(\"Up in Control\", 0))\n",
    "    num_bot = min(20, val_counts.get(\"Up in SSc\", 0))\n",
    "    genes = filtered_degs.loc[\n",
    "        filtered_degs.padj < 0.05, \n",
    "        :\n",
    "    ].index[list(range(num_top)) + list(range(-num_bot, 0))]\n",
    "    \n",
    "    if num_top + num_bot == 0:\n",
    "        return None\n",
    "    \n",
    "    markers_expr = []\n",
    "    ds_slice = ds_processed[ds_processed.obs.cell_type == cell_type, :]\n",
    "    ds_slice = ds_slice[ds_slice.obs[groupby].isin(meta[groupby]), :]\n",
    "    clusters = sorted(ds_slice.obs[groupby].unique())\n",
    "    for g in clusters:\n",
    "        mean_exp = ds_slice.raw.X[\n",
    "            (ds_slice.obs[groupby] == g).values, \n",
    "            :\n",
    "        ][:, ds_slice.raw.var_names.isin(genes)].mean(axis=0).A.reshape(-1)\n",
    "        markers_expr.append(mean_exp)\n",
    "\n",
    "    markers_expr = pd.DataFrame(\n",
    "        markers_expr, \n",
    "        columns=ds_slice.raw.var_names[ds_slice.raw.var_names.isin(genes)], \n",
    "        index=clusters\n",
    "    )\n",
    "    markers_expr = (markers_expr - markers_expr.min()) / (markers_expr.max() - markers_expr.min())\n",
    "\n",
    "    axes = sns.clustermap(\n",
    "        markers_expr.loc[:, genes].T.to_numpy(),\n",
    "        row_cluster=False,\n",
    "        cmap=\"inferno\",\n",
    "        dendrogram_ratio=0.1,\n",
    "        cbar_pos=(0.05, 0.92, 0.015, 0.05),\n",
    "        cbar_kws={\"ticks\": []},\n",
    "        linecolor=\"none\",\n",
    "        snap=True,\n",
    "        figsize=(8, 10),\n",
    "    )\n",
    "    ax = axes.ax_heatmap\n",
    "    ax.set_yticks(pd.Series(range(len(genes))) + 0.5)\n",
    "    ax.set_yticklabels(\n",
    "        list(genes), \n",
    "        fontstyle=\"italic\",\n",
    "        fontsize=12,\n",
    "        rotation=0\n",
    "    )\n",
    "    ax.tick_params(\n",
    "        left=True, labelleft=True, right=False, labelright=False\n",
    "    )\n",
    "    ax.set_xticks(pd.Series(range(len(clusters))) + 0.5)\n",
    "    ax.set_xticklabels(\n",
    "        [clusters[x] for x in axes.dendrogram_col.reordered_ind], \n",
    "        rotation=45, \n",
    "        ha=\"right\",\n",
    "        fontsize=14\n",
    "    )\n",
    "    ax.figure.subplots_adjust(0.19, 0.12, 0.76, 0.9)\n",
    "    axes.cax.set_position((0.8, 0.91, 0.015, 0.05))\n",
    "    \n",
    "    trans = mpl.transforms.Affine2D().translate(6, 0)\n",
    "    for t in ax.get_xticklabels():\n",
    "        t.set_transform(t.get_transform() + trans)\n",
    "\n",
    "    ax.figure.text(0.2, 0.98, cell_type, va=\"top\", fontsize=18)\n",
    "    axes.cax.annotate(\"row min.\", (-2, -0.1), va=\"top\", annotation_clip=False, fontsize=12)\n",
    "    axes.cax.annotate(\"row max.\", (-2, 1.1), va=\"bottom\", annotation_clip=False, fontsize=12)\n",
    "    return ax"
   ]
  },
  {
   "cell_type": "code",
   "execution_count": 11,
   "metadata": {},
   "outputs": [],
   "source": [
    "def plot_cutoffs(gene_cells, n_samples):\n",
    "    fig, axes = plt.subplots(\n",
    "        nrows=5, \n",
    "        ncols=2, \n",
    "        figsize=(10, 8), \n",
    "        sharex=True, \n",
    "        sharey=True, \n",
    "        gridspec_kw={\"wspace\": 0.03}\n",
    "    )\n",
    "    for i in range(10):\n",
    "        coords = i // 2, i % 2\n",
    "        ax = axes[coords]\n",
    "        cnt = (gene_cells > i + 1).sum(axis=1).value_counts().sort_index()\n",
    "        ax.bar(cnt.index, cnt.values)\n",
    "        s = \"s\" if i else \"\"\n",
    "        ax.set_title(f\"> {i + 1} cell{s} cutoff\", pad=-15)\n",
    "        ax.xaxis.grid(False)\n",
    "    ax.set_xticks(list(range(n_samples + 1)))\n",
    "    ax = fig.add_subplot(111, frameon=False)\n",
    "    ax.tick_params(labelcolor='none', which='both', top=False, bottom=False, left=False, right=False)\n",
    "    ax.set_title(\"Distribution of gene expression at different cutoffs\", fontsize=18)\n",
    "    ax.set_xlabel(\"Number of samples\", fontsize=14)\n",
    "    ax.set_ylabel(\"Number of genes\", labelpad=20, fontsize=14)\n",
    "    return fig"
   ]
  },
  {
   "cell_type": "code",
   "execution_count": 12,
   "metadata": {},
   "outputs": [],
   "source": [
    "def _run_go(goeaobj, genes, alpha=0.1, id2names=None):\n",
    "    TMP_FILE = \"__go_temp_file\"\n",
    "    res = goeaobj.run_study(genes, prt=None)\n",
    "    res_sig = [r for r in res if r.p_fdr_bh < alpha]\n",
    "    if len(res_sig) == 0:\n",
    "        return None\n",
    "    goeaobj.wr_tsv(TMP_FILE, res_sig, itemid2name=id2names)\n",
    "    res = pd.read_table(TMP_FILE)\n",
    "    res.drop([\"NS\", \"p_uncorrected\", \"study_count\"], axis=1, inplace=True)\n",
    "    os.unlink(TMP_FILE)\n",
    "    return res\n",
    "    \n",
    "\n",
    "def run_go(filtered_degs):\n",
    "    obo_file = goatools.base.download_go_basic_obo(prt=None)\n",
    "    ass_file = goatools.base.download_ncbi_associations(prt=None)\n",
    "    obodag = goatools.obo_parser.GODag(obo_file, prt=None)\n",
    "    objanno = goatools.anno.genetogo_reader.Gene2GoReader(ass_file, prt=None)\n",
    "    go_ns = {}\n",
    "    go_ns[\"BP\"] = objanno.get_ns2assc(prt=None)[\"BP\"]\n",
    "    dataset = pybiomart.Dataset(\n",
    "        name='hsapiens_gene_ensembl', \n",
    "        host='http://oct2014.archive.ensembl.org/'\n",
    "    ) #found 1878/1898 filtered degs\n",
    "    genes = dataset.query(attributes=['entrezgene', 'external_gene_name'])\n",
    "    genes.columns = [\"entrez_id\", \"symbol\"]\n",
    "    genes.set_index(\"symbol\", inplace=True)\n",
    "    genes = genes.loc[~genes.index.duplicated(), :]\n",
    "    genes.dropna(inplace=True)\n",
    "    genes.entrez_id = genes.entrez_id.astype(int)\n",
    "    id2names = genes.reset_index().set_index(\"entrez_id\").symbol.to_dict()\n",
    "    found_genes = filtered_degs.index[filtered_degs.index.isin(genes.index)]\n",
    "    background = genes.loc[found_genes, \"entrez_id\"]\n",
    "    goeaobj = goatools.goea.go_enrichment_ns.GOEnrichmentStudyNS(\n",
    "        background,\n",
    "        go_ns,\n",
    "        obodag,\n",
    "        propagate_counts=False,\n",
    "        alpha=0.1,\n",
    "        methods=[\"fdr_bh\"],\n",
    "        log=None\n",
    "    )\n",
    "    upreg_genes = genes.reindex(\n",
    "        filtered_degs.index[filtered_degs.sign.str.startswith('Up in Control')]\n",
    "    ).entrez_id\n",
    "    go_upreg = None\n",
    "    if upreg_genes.size > 0:\n",
    "        go_upreg = _run_go(goeaobj, upreg_genes, alpha=0.1, id2names=id2names)\n",
    "        \n",
    "    downreg_genes = genes.reindex(\n",
    "        filtered_degs.index[filtered_degs.sign.str.startswith('Up in SSc')]\n",
    "    ).entrez_id\n",
    "    go_downreg = None\n",
    "    if downreg_genes.size > 0:\n",
    "        go_downreg = _run_go(goeaobj, downreg_genes, alpha=0.1, id2names=id2names)\n",
    "    return go_upreg, go_downreg"
   ]
  },
  {
   "cell_type": "code",
   "execution_count": 13,
   "metadata": {},
   "outputs": [],
   "source": [
    "def get_cell_type_from_slug(slug: str, ds: sc.AnnData) -> str:\n",
    "    for cell_type in ds.obs.cell_type.unique():\n",
    "        cell_type_slug = cell_type.replace(\" \", \"_\").replace(\"/\", \"_\")\n",
    "        if slug == cell_type_slug:\n",
    "            return cell_type\n",
    "    raise ValueError(f\"Cannot find cluster for {slug}\")"
   ]
  },
  {
   "cell_type": "markdown",
   "metadata": {},
   "source": [
    "Also, 4 samples sounds like a reasonable cutoff. We can optimize this maybe by requiring at least 2 samples within our comparison groups. Let's try that"
   ]
  },
  {
   "cell_type": "markdown",
   "metadata": {},
   "source": [
    "## Apply"
   ]
  },
  {
   "cell_type": "markdown",
   "metadata": {},
   "source": [
    "### 1. Read reference GTF to get gene types"
   ]
  },
  {
   "cell_type": "code",
   "execution_count": 20,
   "metadata": {},
   "outputs": [],
   "source": [
    "REF_GENOME_GTF = '/projects/b1038/tools/refdata-cellranger-GRCh38-1.2.0/genes/genes.gtf'"
   ]
  },
  {
   "cell_type": "code",
   "execution_count": 21,
   "metadata": {},
   "outputs": [],
   "source": [
    "ref_genome = open(REF_GENOME_GTF).read().split('\\n')"
   ]
  },
  {
   "cell_type": "code",
   "execution_count": 28,
   "metadata": {},
   "outputs": [],
   "source": [
    "gene_info = []\n",
    "for line in ref_genome:\n",
    "    if not line or line[0] == '#':\n",
    "        continue\n",
    "    info = line.split('\\t')\n",
    "    line_type = info[2]\n",
    "    if line_type != 'gene':\n",
    "        continue\n",
    "    data = {\n",
    "        pair.strip().split()[0]: pair.strip().split()[1].strip('\"') \n",
    "        for pair in info[8].split(';')\n",
    "        if pair.strip()\n",
    "    }\n",
    "    gene_info.append(data)\n",
    "gene_info = pd.DataFrame(gene_info)"
   ]
  },
  {
   "cell_type": "markdown",
   "metadata": {},
   "source": [
    "There are few duplicate gene names with conflicting biotypes, but we don't care about this: let's just take all gene names that have `protein_coding` biotype."
   ]
  },
  {
   "cell_type": "code",
   "execution_count": 39,
   "metadata": {},
   "outputs": [],
   "source": [
    "protein_coding_genes = gene_info.gene_name[gene_info.gene_biotype.eq('protein_coding')].unique()"
   ]
  },
  {
   "cell_type": "markdown",
   "metadata": {},
   "source": [
    "### 2. Investigate gene names for filtering"
   ]
  },
  {
   "cell_type": "markdown",
   "metadata": {},
   "source": [
    "Now let's take all genes from the object, keep only the protein coding ones and see what are common prefixes and suffices?"
   ]
  },
  {
   "cell_type": "code",
   "execution_count": 40,
   "metadata": {},
   "outputs": [],
   "source": [
    "gene_names = pd.Series(ds_processed.raw.var_names)\n",
    "gene_names = gene_names[gene_names.isin(protein_coding_genes)]"
   ]
  },
  {
   "cell_type": "markdown",
   "metadata": {},
   "source": [
    "Let's take genes that have either:\n",
    "* a sequence of 5 digits in the name\n",
    "* or a dash in the name"
   ]
  },
  {
   "cell_type": "code",
   "execution_count": 41,
   "metadata": {},
   "outputs": [],
   "source": [
    "idx = (\n",
    "    gene_names.str.contains('\\d{5,}')\n",
    "    | gene_names.str.contains('-', regex=False)\n",
    ")"
   ]
  },
  {
   "cell_type": "code",
   "execution_count": 42,
   "metadata": {},
   "outputs": [
    {
     "data": {
      "text/plain": [
       "429"
      ]
     },
     "execution_count": 42,
     "metadata": {},
     "output_type": "execute_result"
    }
   ],
   "source": [
    "idx.sum()"
   ]
  },
  {
   "cell_type": "code",
   "execution_count": 43,
   "metadata": {},
   "outputs": [],
   "source": [
    "gene_names_copy = gene_names.str.replace('\\d{5,}', '<NUMBERS>')"
   ]
  },
  {
   "cell_type": "markdown",
   "metadata": {},
   "source": [
    "Top 30 most-common prefixes"
   ]
  },
  {
   "cell_type": "code",
   "execution_count": 51,
   "metadata": {},
   "outputs": [
    {
     "data": {
      "text/plain": [
       "RP11-    114\n",
       "AC<NU     62\n",
       "AL<NU     21\n",
       "CTD-2     16\n",
       "HLA-D     13\n",
       "KRTAP     10\n",
       "AP<NU     10\n",
       "MT-ND      7\n",
       "CTC-4      6\n",
       "CTD-3      5\n",
       "LINC<      5\n",
       "RP5-1      5\n",
       "CH507      5\n",
       "XXbac      4\n",
       "AF<NU      3\n",
       "CTB-1      3\n",
       "NKX2-      3\n",
       "MT-CO      3\n",
       "RP4-6      3\n",
       "RP3-4      3\n",
       "CTB-5      3\n",
       "CTC-2      2\n",
       "FO<NU      2\n",
       "TMEM1      2\n",
       "NKX6-      2\n",
       "LA16c      2\n",
       "FP<NU      2\n",
       "C1QTN      2\n",
       "RP5-8      2\n",
       "RP1-3      2\n",
       "dtype: int64"
      ]
     },
     "execution_count": 51,
     "metadata": {},
     "output_type": "execute_result"
    }
   ],
   "source": [
    "gene_names_copy[idx].str[:5].value_counts().head(30)"
   ]
  },
  {
   "cell_type": "markdown",
   "metadata": {},
   "source": [
    "Top 20 most-common suffixes"
   ]
  },
  {
   "cell_type": "code",
   "execution_count": 45,
   "metadata": {},
   "outputs": [
    {
     "data": {
      "text/plain": [
       "S>.1    54\n",
       "S>.2    19\n",
       "S>.3     7\n",
       "S>.4     6\n",
       "ERS>     5\n",
       "S>.6     4\n",
       "S>.9     3\n",
       "19.5     3\n",
       "S>.5     3\n",
       "19.4     3\n",
       "12.1     3\n",
       "-AS1     3\n",
       "24.4     3\n",
       "S>.7     3\n",
       "13.1     3\n",
       "20.4     2\n",
       "20.3     2\n",
       "24.9     2\n",
       "B8.1     2\n",
       "21.3     2\n",
       "dtype: int64"
      ]
     },
     "execution_count": 45,
     "metadata": {},
     "output_type": "execute_result"
    }
   ],
   "source": [
    "gene_names_copy[idx].str[-4:].value_counts().head(20)"
   ]
  },
  {
   "cell_type": "markdown",
   "metadata": {},
   "source": [
    "Below is Karolina's code: it processes some prefixes, but not all. Also it is based on newer genome version, and here we have Build 84 aka Cellranger reference 1.2.0\n",
    "\n",
    "Links:\n",
    "- https://www.biostars.org/p/9553891/\n",
    "- https://www.ncbi.nlm.nih.gov/genbank/acc_prefix/\n",
    "- https://www.biostars.org/p/51456/\n",
    "- https://www.roswellpark.org/cancertalk/202110/sequencing-human-genome-set-pace-identifying-cancer-it-starts"
   ]
  },
  {
   "cell_type": "code",
   "execution_count": 21,
   "metadata": {},
   "outputs": [],
   "source": [
    "# Taken from https://github.com/NUPulmonary/Long_COVID/blob/main/21scArches/02scArches-PASC-controls.ipynb\n",
    "# with modification\n",
    "\n",
    "# specify the prefix pattern\n",
    "prefixes_to_remove = ['AC', 'AL', 'AP', 'AF', 'AD', 'BX', 'CR', 'FP', 'KF']\n",
    "\n",
    "# specify the pattern to match genes to remove\n",
    "pattern_to_remove = '|'.join(\n",
    "    [f'{prefix}\\d{{6}}\\.\\d' for prefix in prefixes_to_remove] \n",
    "    + ['Z\\d{5}\\.\\d', 'U\\d{5}\\.\\d']\n",
    ")"
   ]
  },
  {
   "cell_type": "markdown",
   "metadata": {},
   "source": [
    "Let's finalize our gene exclusions"
   ]
  },
  {
   "cell_type": "code",
   "execution_count": 49,
   "metadata": {},
   "outputs": [],
   "source": [
    "# Either starts with all this, or ends with -AS1\n",
    "FUNKY_TRANSCRIPTS = (\n",
    "    '(^(RP\\d{1,2}-|LINC|CT[ABCD]-|AC\\d{6}|AL\\d{6}'\n",
    "    '|AP\\d{6}|AF\\d{6}|XXba|XXya|FO\\d{6}|FP\\d{6}).+|.+(-AS1)$)'\n",
    ")"
   ]
  },
  {
   "cell_type": "markdown",
   "metadata": {},
   "source": [
    "Verify"
   ]
  },
  {
   "cell_type": "code",
   "execution_count": 54,
   "metadata": {},
   "outputs": [
    {
     "data": {
      "text/plain": [
       "HLA-    19\n",
       "KRTA    10\n",
       "MT-N     7\n",
       "CH50     5\n",
       "TMEM     4\n",
       "MT-C     4\n",
       "NKX2     3\n",
       "NKX3     2\n",
       "NKX6     2\n",
       "MT-A     2\n",
       "ZNF6     2\n",
       "LA16     2\n",
       "GS1-     2\n",
       "CYP3     1\n",
       "STX1     1\n",
       "CHKB     1\n",
       "ZHX1     1\n",
       "MSAN     1\n",
       "FAM4     1\n",
       "CR39     1\n",
       "dtype: int64"
      ]
     },
     "execution_count": 54,
     "metadata": {},
     "output_type": "execute_result"
    }
   ],
   "source": [
    "gene_names[idx & ~gene_names.str.match(FUNKY_TRANSCRIPTS)].str[:4].value_counts().head(20)"
   ]
  },
  {
   "cell_type": "markdown",
   "metadata": {},
   "source": [
    "Applying to all cell types and saving additional files"
   ]
  },
  {
   "cell_type": "code",
   "execution_count": 57,
   "metadata": {},
   "outputs": [],
   "source": [
    "# gene expressed in at least this many cells\n",
    "THRESHOLD_N_CELLS = 20 \n",
    "\n",
    "# gene expressed in the above amount of cells in at least this many samples\n",
    "THRESHOLD_N_SAMPLES_PER_GROUP = 2 \n",
    "\n",
    "# gene mean expression (counts)\n",
    "THRESHOLD_MEAN_EXPR = 50\n",
    "\n",
    "# additionally remove ribosomal genes\n",
    "REMOVE_GENES_BY_NAME = '^(RPL|RPS).+'\n",
    "PROTEIN_CODING = protein_coding_genes\n",
    "\n",
    "MODEL = 'degs-status-sex'\n",
    "\n",
    "def load_cell_type_info(folder, deg_folder):\n",
    "    name = folder.name\n",
    "    degs = pd.read_csv(deg_folder / MODEL / 'degs.csv', index_col=0)\n",
    "    expr = pd.read_table(folder / 'data' / f'{name}.txt', index_col=0)\n",
    "    gene_cells = pd.read_table(folder / 'data' / f'{name}-n_cells.txt', index_col=0)\n",
    "    meta = pd.read_csv(deg_folder / 'meta.csv', index_col=0)\n",
    "\n",
    "    # ensure we operate on filtered samples\n",
    "    gene_cells = gene_cells.loc[:, meta[\"External Sample ID\"]]\n",
    "    gene_cells = gene_cells.loc[gene_cells.sum(axis=1) > 0, :]\n",
    "    \n",
    "    return {\n",
    "        'degs': degs,\n",
    "        'meta': meta,\n",
    "        'gene_cells': gene_cells,\n",
    "        'expr': expr\n",
    "    }\n",
    "\n",
    "def filter_genes(info):\n",
    "    meta = info['meta']\n",
    "    gene_cells = info['gene_cells']\n",
    "    expr = info['expr']\n",
    "    \n",
    "    genes_to_keep = gene_cells.index\n",
    "    for group in meta.Status.unique():\n",
    "        group_samples = meta['External Sample ID'][meta.Status.eq(group)]\n",
    "        genes_to_keep = np.intersect1d(genes_to_keep, gene_cells.index[\n",
    "            (\n",
    "                gene_cells.loc[:, group_samples] >= THRESHOLD_N_CELLS\n",
    "            ).sum(axis=1) >= THRESHOLD_N_SAMPLES_PER_GROUP\n",
    "        ])\n",
    "    genes_to_keep = np.intersect1d(\n",
    "        genes_to_keep,\n",
    "        expr.index[expr.mean(axis=1) >= THRESHOLD_MEAN_EXPR]\n",
    "    )\n",
    "    return genes_to_keep\n",
    "\n",
    "def filter_degs(degs, genes_to_keep):\n",
    "    filtered_degs = degs.loc[degs.index.isin(genes_to_keep), :].copy()\n",
    "    filtered_degs = filtered_degs.loc[filtered_degs.index.isin(PROTEIN_CODING), :].copy()\n",
    "    filtered_degs = filtered_degs.loc[~filtered_degs.index.str.match(FUNKY_TRANSCRIPTS), :].copy()\n",
    "    filtered_degs = filtered_degs.loc[~filtered_degs.index.str.match(REMOVE_GENES_BY_NAME), :].copy()\n",
    "    # recompute FDR correction on the filtered genes:\n",
    "    filtered_degs['padj'] = statsmodels.stats.multitest.fdrcorrection(filtered_degs.pvalue)[1]\n",
    "    # recompute gene status based on new `padj`\n",
    "    filtered_degs['sign'] = ''\n",
    "    filtered_degs.loc[\n",
    "        filtered_degs.padj.lt(0.05) \n",
    "        & filtered_degs.log2FoldChange.gt(0), \n",
    "        'sign'\n",
    "    ] = 'Up in Control'\n",
    "    filtered_degs.loc[\n",
    "        filtered_degs.padj.lt(0.05) \n",
    "        & filtered_degs.log2FoldChange.lt(0), \n",
    "        'sign'\n",
    "    ] = 'Up in SSc'\n",
    "    return filtered_degs\n",
    "\n",
    "def save_filtered_degs(folder, filtered_degs):\n",
    "    filtered_degs.to_csv(folder / MODEL / 'degs-filt.csv')\n",
    "    filtered_degs.loc[filtered_degs.sign.ne(''), :].to_csv(folder / MODEL / 'degs-sign-filt.csv')\n",
    "    \n",
    "    pd.Series(filtered_degs.index[filtered_degs.sign.str.startswith('Up in Control')]).to_csv(\n",
    "        folder / MODEL / 'degs-sign-control.csv', \n",
    "        index=False,\n",
    "        header=False\n",
    "    )\n",
    "    pd.Series(filtered_degs.index[filtered_degs.sign.str.startswith('Up in SSc')]).to_csv(\n",
    "        folder / MODEL / 'degs-sign-ssc.csv', \n",
    "        index=False,\n",
    "        header=False\n",
    "    )\n",
    "\n",
    "def process_cell_type(folder):\n",
    "    info = {}\n",
    "\n",
    "    clust = get_cell_type_from_slug(folder.name, ds_processed)\n",
    "    info.update(load_cell_type_info(DATA_DIR / folder.name, folder))\n",
    "\n",
    "    degs = info['degs']\n",
    "    meta = info['meta']\n",
    "    gene_cells = info['gene_cells']\n",
    "\n",
    "    genes_to_keep = filter_genes(info)\n",
    "    filtered_degs = filter_degs(degs, genes_to_keep)\n",
    "    save_filtered_degs(folder, filtered_degs)\n",
    "    info[\"filtered_degs\"] = filtered_degs\n",
    "    \n",
    "    go_upreg, go_downreg = run_go(filtered_degs)\n",
    "    if go_upreg is not None:\n",
    "        go_upreg.to_csv(folder / MODEL / \"go-control.csv\")\n",
    "    if go_downreg is not None:\n",
    "        go_downreg.to_csv(folder / MODEL / \"go-ssc.csv\")\n",
    "    info[\"go_control\"] = go_upreg\n",
    "    info[\"go_ssc\"] = go_downreg\n",
    "\n",
    "    if filtered_degs.shape[0] > 0:\n",
    "        fig = plot_ma(filtered_degs, gene_cells, clust)\n",
    "        fig.savefig(folder / MODEL / \"ma-filt.pdf\")\n",
    "        plt.close(fig)\n",
    "    \n",
    "    ax = plot_heatmap(meta, filtered_degs, clust, ds_processed)\n",
    "    if ax:\n",
    "        ax.figure.savefig(folder / MODEL / \"heatmap.pdf\")\n",
    "        plt.close(ax.figure)\n",
    "    return info"
   ]
  },
  {
   "cell_type": "code",
   "execution_count": 58,
   "metadata": {},
   "outputs": [
    {
     "name": "stdout",
     "output_type": "stream",
     "text": [
      "**NOTE: DEFAULT TAXID STORED FROM gene2go IS 9606 (human)\n",
      "\n",
      "HMS:0:01:23.839560 346,070 annotations, 20,758 genes, 18,733 GOs, 1 taxids READ: gene2go \n"
     ]
    },
    {
     "name": "stderr",
     "output_type": "stream",
     "text": [
      "No handles with labels found to put in legend.\n"
     ]
    },
    {
     "name": "stdout",
     "output_type": "stream",
     "text": [
      "\n",
      "Load BP Gene Ontology Analysis ...\n",
      "fisher module not installed.  Falling back on scipy.stats.fisher_exact\n",
      "**NOTE: DEFAULT TAXID STORED FROM gene2go IS 9606 (human)\n",
      "\n",
      "HMS:0:01:26.911233 346,070 annotations, 20,758 genes, 18,733 GOs, 1 taxids READ: gene2go \n",
      "\n",
      "Load BP Gene Ontology Analysis ...\n",
      "fisher module not installed.  Falling back on scipy.stats.fisher_exact\n",
      "     15 items WROTE: __go_temp_file\n"
     ]
    },
    {
     "name": "stderr",
     "output_type": "stream",
     "text": [
      "/projects/b1038/Pulmonary/nmarkov/ssc-v2/code/venv/lib/python3.9/site-packages/seaborn/utils.py:95: UserWarning: Calling figure.constrained_layout, but figure not setup to do constrained layout.  You either called GridSpec without the fig keyword, you are using plt.subplot, or you need to call figure or subplots with the constrained_layout=True kwarg.\n",
      "  fig.canvas.draw()\n",
      "/projects/b1038/Pulmonary/nmarkov/ssc-v2/code/venv/lib/python3.9/site-packages/seaborn/matrix.py:1203: UserWarning: This figure was using constrained_layout==True, but that is incompatible with subplots_adjust and or tight_layout: setting constrained_layout==False. \n",
      "  self._figure.tight_layout(**tight_params)\n"
     ]
    },
    {
     "name": "stdout",
     "output_type": "stream",
     "text": [
      "**NOTE: DEFAULT TAXID STORED FROM gene2go IS 9606 (human)\n",
      "\n",
      "HMS:0:01:29.347173 346,070 annotations, 20,758 genes, 18,733 GOs, 1 taxids READ: gene2go \n",
      "\n",
      "Load BP Gene Ontology Analysis ...\n",
      "fisher module not installed.  Falling back on scipy.stats.fisher_exact\n"
     ]
    },
    {
     "name": "stderr",
     "output_type": "stream",
     "text": [
      "/projects/b1038/Pulmonary/nmarkov/ssc-v2/code/venv/lib/python3.9/site-packages/seaborn/utils.py:95: UserWarning: Calling figure.constrained_layout, but figure not setup to do constrained layout.  You either called GridSpec without the fig keyword, you are using plt.subplot, or you need to call figure or subplots with the constrained_layout=True kwarg.\n",
      "  fig.canvas.draw()\n",
      "/projects/b1038/Pulmonary/nmarkov/ssc-v2/code/venv/lib/python3.9/site-packages/seaborn/matrix.py:1203: UserWarning: This figure was using constrained_layout==True, but that is incompatible with subplots_adjust and or tight_layout: setting constrained_layout==False. \n",
      "  self._figure.tight_layout(**tight_params)\n"
     ]
    },
    {
     "name": "stdout",
     "output_type": "stream",
     "text": [
      "**NOTE: DEFAULT TAXID STORED FROM gene2go IS 9606 (human)\n",
      "\n",
      "HMS:0:01:26.689199 346,070 annotations, 20,758 genes, 18,733 GOs, 1 taxids READ: gene2go \n",
      "\n",
      "Load BP Gene Ontology Analysis ...\n",
      "fisher module not installed.  Falling back on scipy.stats.fisher_exact\n"
     ]
    },
    {
     "name": "stderr",
     "output_type": "stream",
     "text": [
      "/projects/b1038/Pulmonary/nmarkov/ssc-v2/code/venv/lib/python3.9/site-packages/seaborn/utils.py:95: UserWarning: Calling figure.constrained_layout, but figure not setup to do constrained layout.  You either called GridSpec without the fig keyword, you are using plt.subplot, or you need to call figure or subplots with the constrained_layout=True kwarg.\n",
      "  fig.canvas.draw()\n",
      "/projects/b1038/Pulmonary/nmarkov/ssc-v2/code/venv/lib/python3.9/site-packages/seaborn/matrix.py:1203: UserWarning: This figure was using constrained_layout==True, but that is incompatible with subplots_adjust and or tight_layout: setting constrained_layout==False. \n",
      "  self._figure.tight_layout(**tight_params)\n"
     ]
    },
    {
     "name": "stdout",
     "output_type": "stream",
     "text": [
      "**NOTE: DEFAULT TAXID STORED FROM gene2go IS 9606 (human)\n",
      "\n",
      "HMS:0:01:23.807929 346,070 annotations, 20,758 genes, 18,733 GOs, 1 taxids READ: gene2go \n",
      "\n",
      "Load BP Gene Ontology Analysis ...\n",
      "fisher module not installed.  Falling back on scipy.stats.fisher_exact\n",
      "      4 items WROTE: __go_temp_file\n"
     ]
    },
    {
     "name": "stderr",
     "output_type": "stream",
     "text": [
      "/projects/b1038/Pulmonary/nmarkov/ssc-v2/code/venv/lib/python3.9/site-packages/seaborn/utils.py:95: UserWarning: Calling figure.constrained_layout, but figure not setup to do constrained layout.  You either called GridSpec without the fig keyword, you are using plt.subplot, or you need to call figure or subplots with the constrained_layout=True kwarg.\n",
      "  fig.canvas.draw()\n",
      "/projects/b1038/Pulmonary/nmarkov/ssc-v2/code/venv/lib/python3.9/site-packages/seaborn/matrix.py:1203: UserWarning: This figure was using constrained_layout==True, but that is incompatible with subplots_adjust and or tight_layout: setting constrained_layout==False. \n",
      "  self._figure.tight_layout(**tight_params)\n"
     ]
    },
    {
     "name": "stdout",
     "output_type": "stream",
     "text": [
      "**NOTE: DEFAULT TAXID STORED FROM gene2go IS 9606 (human)\n",
      "\n",
      "HMS:0:01:24.864783 346,070 annotations, 20,758 genes, 18,733 GOs, 1 taxids READ: gene2go \n",
      "\n",
      "Load BP Gene Ontology Analysis ...\n",
      "fisher module not installed.  Falling back on scipy.stats.fisher_exact\n",
      "      2 items WROTE: __go_temp_file\n",
      "     15 items WROTE: __go_temp_file\n"
     ]
    },
    {
     "name": "stderr",
     "output_type": "stream",
     "text": [
      "/projects/b1038/Pulmonary/nmarkov/ssc-v2/code/venv/lib/python3.9/site-packages/seaborn/utils.py:95: UserWarning: Calling figure.constrained_layout, but figure not setup to do constrained layout.  You either called GridSpec without the fig keyword, you are using plt.subplot, or you need to call figure or subplots with the constrained_layout=True kwarg.\n",
      "  fig.canvas.draw()\n",
      "/projects/b1038/Pulmonary/nmarkov/ssc-v2/code/venv/lib/python3.9/site-packages/seaborn/matrix.py:1203: UserWarning: This figure was using constrained_layout==True, but that is incompatible with subplots_adjust and or tight_layout: setting constrained_layout==False. \n",
      "  self._figure.tight_layout(**tight_params)\n"
     ]
    },
    {
     "name": "stdout",
     "output_type": "stream",
     "text": [
      "**NOTE: DEFAULT TAXID STORED FROM gene2go IS 9606 (human)\n",
      "\n",
      "HMS:0:01:27.767379 346,070 annotations, 20,758 genes, 18,733 GOs, 1 taxids READ: gene2go \n",
      "\n",
      "Load BP Gene Ontology Analysis ...\n",
      "fisher module not installed.  Falling back on scipy.stats.fisher_exact\n",
      "      4 items WROTE: __go_temp_file\n",
      "     21 items WROTE: __go_temp_file\n"
     ]
    },
    {
     "name": "stderr",
     "output_type": "stream",
     "text": [
      "/projects/b1038/Pulmonary/nmarkov/ssc-v2/code/venv/lib/python3.9/site-packages/seaborn/utils.py:95: UserWarning: Calling figure.constrained_layout, but figure not setup to do constrained layout.  You either called GridSpec without the fig keyword, you are using plt.subplot, or you need to call figure or subplots with the constrained_layout=True kwarg.\n",
      "  fig.canvas.draw()\n",
      "/projects/b1038/Pulmonary/nmarkov/ssc-v2/code/venv/lib/python3.9/site-packages/seaborn/matrix.py:1203: UserWarning: This figure was using constrained_layout==True, but that is incompatible with subplots_adjust and or tight_layout: setting constrained_layout==False. \n",
      "  self._figure.tight_layout(**tight_params)\n"
     ]
    },
    {
     "name": "stdout",
     "output_type": "stream",
     "text": [
      "**NOTE: DEFAULT TAXID STORED FROM gene2go IS 9606 (human)\n",
      "\n",
      "HMS:0:01:24.625126 346,070 annotations, 20,758 genes, 18,733 GOs, 1 taxids READ: gene2go \n",
      "\n",
      "Load BP Gene Ontology Analysis ...\n",
      "fisher module not installed.  Falling back on scipy.stats.fisher_exact\n"
     ]
    },
    {
     "name": "stderr",
     "output_type": "stream",
     "text": [
      "/projects/b1038/Pulmonary/nmarkov/ssc-v2/code/venv/lib/python3.9/site-packages/seaborn/utils.py:95: UserWarning: Calling figure.constrained_layout, but figure not setup to do constrained layout.  You either called GridSpec without the fig keyword, you are using plt.subplot, or you need to call figure or subplots with the constrained_layout=True kwarg.\n",
      "  fig.canvas.draw()\n",
      "/projects/b1038/Pulmonary/nmarkov/ssc-v2/code/venv/lib/python3.9/site-packages/seaborn/matrix.py:1203: UserWarning: This figure was using constrained_layout==True, but that is incompatible with subplots_adjust and or tight_layout: setting constrained_layout==False. \n",
      "  self._figure.tight_layout(**tight_params)\n"
     ]
    },
    {
     "name": "stdout",
     "output_type": "stream",
     "text": [
      "**NOTE: DEFAULT TAXID STORED FROM gene2go IS 9606 (human)\n",
      "\n",
      "HMS:0:01:25.227089 346,070 annotations, 20,758 genes, 18,733 GOs, 1 taxids READ: gene2go \n",
      "\n",
      "Load BP Gene Ontology Analysis ...\n",
      "fisher module not installed.  Falling back on scipy.stats.fisher_exact\n",
      "     22 items WROTE: __go_temp_file\n",
      "     39 items WROTE: __go_temp_file\n"
     ]
    },
    {
     "name": "stderr",
     "output_type": "stream",
     "text": [
      "/projects/b1038/Pulmonary/nmarkov/ssc-v2/code/venv/lib/python3.9/site-packages/seaborn/utils.py:95: UserWarning: Calling figure.constrained_layout, but figure not setup to do constrained layout.  You either called GridSpec without the fig keyword, you are using plt.subplot, or you need to call figure or subplots with the constrained_layout=True kwarg.\n",
      "  fig.canvas.draw()\n",
      "/projects/b1038/Pulmonary/nmarkov/ssc-v2/code/venv/lib/python3.9/site-packages/seaborn/matrix.py:1203: UserWarning: This figure was using constrained_layout==True, but that is incompatible with subplots_adjust and or tight_layout: setting constrained_layout==False. \n",
      "  self._figure.tight_layout(**tight_params)\n"
     ]
    },
    {
     "name": "stdout",
     "output_type": "stream",
     "text": [
      "**NOTE: DEFAULT TAXID STORED FROM gene2go IS 9606 (human)\n",
      "\n",
      "HMS:0:01:25.644027 346,070 annotations, 20,758 genes, 18,733 GOs, 1 taxids READ: gene2go \n",
      "\n",
      "Load BP Gene Ontology Analysis ...\n",
      "fisher module not installed.  Falling back on scipy.stats.fisher_exact\n",
      "      4 items WROTE: __go_temp_file\n"
     ]
    },
    {
     "name": "stderr",
     "output_type": "stream",
     "text": [
      "/projects/b1038/Pulmonary/nmarkov/ssc-v2/code/venv/lib/python3.9/site-packages/seaborn/utils.py:95: UserWarning: Calling figure.constrained_layout, but figure not setup to do constrained layout.  You either called GridSpec without the fig keyword, you are using plt.subplot, or you need to call figure or subplots with the constrained_layout=True kwarg.\n",
      "  fig.canvas.draw()\n",
      "/projects/b1038/Pulmonary/nmarkov/ssc-v2/code/venv/lib/python3.9/site-packages/seaborn/matrix.py:1203: UserWarning: This figure was using constrained_layout==True, but that is incompatible with subplots_adjust and or tight_layout: setting constrained_layout==False. \n",
      "  self._figure.tight_layout(**tight_params)\n"
     ]
    },
    {
     "name": "stdout",
     "output_type": "stream",
     "text": [
      "**NOTE: DEFAULT TAXID STORED FROM gene2go IS 9606 (human)\n",
      "\n",
      "HMS:0:01:24.616120 346,070 annotations, 20,758 genes, 18,733 GOs, 1 taxids READ: gene2go \n",
      "\n",
      "Load BP Gene Ontology Analysis ...\n",
      "fisher module not installed.  Falling back on scipy.stats.fisher_exact\n",
      "     18 items WROTE: __go_temp_file\n",
      "     28 items WROTE: __go_temp_file\n"
     ]
    },
    {
     "name": "stderr",
     "output_type": "stream",
     "text": [
      "/projects/b1038/Pulmonary/nmarkov/ssc-v2/code/venv/lib/python3.9/site-packages/seaborn/utils.py:95: UserWarning: Calling figure.constrained_layout, but figure not setup to do constrained layout.  You either called GridSpec without the fig keyword, you are using plt.subplot, or you need to call figure or subplots with the constrained_layout=True kwarg.\n",
      "  fig.canvas.draw()\n",
      "/projects/b1038/Pulmonary/nmarkov/ssc-v2/code/venv/lib/python3.9/site-packages/seaborn/matrix.py:1203: UserWarning: This figure was using constrained_layout==True, but that is incompatible with subplots_adjust and or tight_layout: setting constrained_layout==False. \n",
      "  self._figure.tight_layout(**tight_params)\n"
     ]
    },
    {
     "name": "stdout",
     "output_type": "stream",
     "text": [
      "**NOTE: DEFAULT TAXID STORED FROM gene2go IS 9606 (human)\n",
      "\n",
      "HMS:0:01:26.805921 346,070 annotations, 20,758 genes, 18,733 GOs, 1 taxids READ: gene2go \n",
      "\n",
      "Load BP Gene Ontology Analysis ...\n",
      "fisher module not installed.  Falling back on scipy.stats.fisher_exact\n"
     ]
    },
    {
     "name": "stderr",
     "output_type": "stream",
     "text": [
      "/projects/b1038/Pulmonary/nmarkov/ssc-v2/code/venv/lib/python3.9/site-packages/seaborn/utils.py:95: UserWarning: Calling figure.constrained_layout, but figure not setup to do constrained layout.  You either called GridSpec without the fig keyword, you are using plt.subplot, or you need to call figure or subplots with the constrained_layout=True kwarg.\n",
      "  fig.canvas.draw()\n",
      "/projects/b1038/Pulmonary/nmarkov/ssc-v2/code/venv/lib/python3.9/site-packages/seaborn/matrix.py:1203: UserWarning: This figure was using constrained_layout==True, but that is incompatible with subplots_adjust and or tight_layout: setting constrained_layout==False. \n",
      "  self._figure.tight_layout(**tight_params)\n"
     ]
    },
    {
     "name": "stdout",
     "output_type": "stream",
     "text": [
      "**NOTE: DEFAULT TAXID STORED FROM gene2go IS 9606 (human)\n",
      "\n",
      "HMS:0:01:26.183967 346,070 annotations, 20,758 genes, 18,733 GOs, 1 taxids READ: gene2go \n",
      "\n",
      "Load BP Gene Ontology Analysis ...\n",
      "fisher module not installed.  Falling back on scipy.stats.fisher_exact\n",
      "      9 items WROTE: __go_temp_file\n"
     ]
    },
    {
     "name": "stderr",
     "output_type": "stream",
     "text": [
      "/projects/b1038/Pulmonary/nmarkov/ssc-v2/code/venv/lib/python3.9/site-packages/seaborn/utils.py:95: UserWarning: Calling figure.constrained_layout, but figure not setup to do constrained layout.  You either called GridSpec without the fig keyword, you are using plt.subplot, or you need to call figure or subplots with the constrained_layout=True kwarg.\n",
      "  fig.canvas.draw()\n",
      "/projects/b1038/Pulmonary/nmarkov/ssc-v2/code/venv/lib/python3.9/site-packages/seaborn/matrix.py:1203: UserWarning: This figure was using constrained_layout==True, but that is incompatible with subplots_adjust and or tight_layout: setting constrained_layout==False. \n",
      "  self._figure.tight_layout(**tight_params)\n"
     ]
    },
    {
     "name": "stdout",
     "output_type": "stream",
     "text": [
      "**NOTE: DEFAULT TAXID STORED FROM gene2go IS 9606 (human)\n",
      "\n",
      "HMS:0:01:25.590044 346,070 annotations, 20,758 genes, 18,733 GOs, 1 taxids READ: gene2go \n",
      "\n",
      "Load BP Gene Ontology Analysis ...\n",
      "fisher module not installed.  Falling back on scipy.stats.fisher_exact\n",
      "     12 items WROTE: __go_temp_file\n",
      "     29 items WROTE: __go_temp_file\n"
     ]
    },
    {
     "name": "stderr",
     "output_type": "stream",
     "text": [
      "/projects/b1038/Pulmonary/nmarkov/ssc-v2/code/venv/lib/python3.9/site-packages/seaborn/utils.py:95: UserWarning: Calling figure.constrained_layout, but figure not setup to do constrained layout.  You either called GridSpec without the fig keyword, you are using plt.subplot, or you need to call figure or subplots with the constrained_layout=True kwarg.\n",
      "  fig.canvas.draw()\n",
      "/projects/b1038/Pulmonary/nmarkov/ssc-v2/code/venv/lib/python3.9/site-packages/seaborn/matrix.py:1203: UserWarning: This figure was using constrained_layout==True, but that is incompatible with subplots_adjust and or tight_layout: setting constrained_layout==False. \n",
      "  self._figure.tight_layout(**tight_params)\n"
     ]
    },
    {
     "name": "stdout",
     "output_type": "stream",
     "text": [
      "**NOTE: DEFAULT TAXID STORED FROM gene2go IS 9606 (human)\n",
      "\n",
      "HMS:0:01:25.293043 346,070 annotations, 20,758 genes, 18,733 GOs, 1 taxids READ: gene2go \n",
      "\n",
      "Load BP Gene Ontology Analysis ...\n",
      "fisher module not installed.  Falling back on scipy.stats.fisher_exact\n",
      "      2 items WROTE: __go_temp_file\n"
     ]
    },
    {
     "name": "stderr",
     "output_type": "stream",
     "text": [
      "/projects/b1038/Pulmonary/nmarkov/ssc-v2/code/venv/lib/python3.9/site-packages/seaborn/utils.py:95: UserWarning: Calling figure.constrained_layout, but figure not setup to do constrained layout.  You either called GridSpec without the fig keyword, you are using plt.subplot, or you need to call figure or subplots with the constrained_layout=True kwarg.\n",
      "  fig.canvas.draw()\n",
      "/projects/b1038/Pulmonary/nmarkov/ssc-v2/code/venv/lib/python3.9/site-packages/seaborn/matrix.py:1203: UserWarning: This figure was using constrained_layout==True, but that is incompatible with subplots_adjust and or tight_layout: setting constrained_layout==False. \n",
      "  self._figure.tight_layout(**tight_params)\n"
     ]
    },
    {
     "name": "stdout",
     "output_type": "stream",
     "text": [
      "**NOTE: DEFAULT TAXID STORED FROM gene2go IS 9606 (human)\n",
      "\n",
      "HMS:0:01:27.187538 346,070 annotations, 20,758 genes, 18,733 GOs, 1 taxids READ: gene2go \n",
      "\n",
      "Load BP Gene Ontology Analysis ...\n",
      "fisher module not installed.  Falling back on scipy.stats.fisher_exact\n"
     ]
    },
    {
     "name": "stderr",
     "output_type": "stream",
     "text": [
      "/projects/b1038/Pulmonary/nmarkov/ssc-v2/code/venv/lib/python3.9/site-packages/seaborn/utils.py:95: UserWarning: Calling figure.constrained_layout, but figure not setup to do constrained layout.  You either called GridSpec without the fig keyword, you are using plt.subplot, or you need to call figure or subplots with the constrained_layout=True kwarg.\n",
      "  fig.canvas.draw()\n",
      "/projects/b1038/Pulmonary/nmarkov/ssc-v2/code/venv/lib/python3.9/site-packages/seaborn/matrix.py:1203: UserWarning: This figure was using constrained_layout==True, but that is incompatible with subplots_adjust and or tight_layout: setting constrained_layout==False. \n",
      "  self._figure.tight_layout(**tight_params)\n"
     ]
    },
    {
     "name": "stdout",
     "output_type": "stream",
     "text": [
      "**NOTE: DEFAULT TAXID STORED FROM gene2go IS 9606 (human)\n",
      "\n",
      "HMS:0:01:25.529407 346,070 annotations, 20,758 genes, 18,733 GOs, 1 taxids READ: gene2go \n",
      "\n",
      "Load BP Gene Ontology Analysis ...\n",
      "fisher module not installed.  Falling back on scipy.stats.fisher_exact\n",
      "     23 items WROTE: __go_temp_file\n",
      "     19 items WROTE: __go_temp_file\n"
     ]
    },
    {
     "name": "stderr",
     "output_type": "stream",
     "text": [
      "/projects/b1038/Pulmonary/nmarkov/ssc-v2/code/venv/lib/python3.9/site-packages/seaborn/utils.py:95: UserWarning: Calling figure.constrained_layout, but figure not setup to do constrained layout.  You either called GridSpec without the fig keyword, you are using plt.subplot, or you need to call figure or subplots with the constrained_layout=True kwarg.\n",
      "  fig.canvas.draw()\n",
      "/projects/b1038/Pulmonary/nmarkov/ssc-v2/code/venv/lib/python3.9/site-packages/seaborn/matrix.py:1203: UserWarning: This figure was using constrained_layout==True, but that is incompatible with subplots_adjust and or tight_layout: setting constrained_layout==False. \n",
      "  self._figure.tight_layout(**tight_params)\n"
     ]
    },
    {
     "name": "stdout",
     "output_type": "stream",
     "text": [
      "**NOTE: DEFAULT TAXID STORED FROM gene2go IS 9606 (human)\n",
      "\n",
      "HMS:0:01:26.290756 346,070 annotations, 20,758 genes, 18,733 GOs, 1 taxids READ: gene2go \n",
      "\n",
      "Load BP Gene Ontology Analysis ...\n",
      "fisher module not installed.  Falling back on scipy.stats.fisher_exact\n",
      "      3 items WROTE: __go_temp_file\n",
      "     23 items WROTE: __go_temp_file\n"
     ]
    },
    {
     "name": "stderr",
     "output_type": "stream",
     "text": [
      "/projects/b1038/Pulmonary/nmarkov/ssc-v2/code/venv/lib/python3.9/site-packages/seaborn/utils.py:95: UserWarning: Calling figure.constrained_layout, but figure not setup to do constrained layout.  You either called GridSpec without the fig keyword, you are using plt.subplot, or you need to call figure or subplots with the constrained_layout=True kwarg.\n",
      "  fig.canvas.draw()\n",
      "/projects/b1038/Pulmonary/nmarkov/ssc-v2/code/venv/lib/python3.9/site-packages/seaborn/matrix.py:1203: UserWarning: This figure was using constrained_layout==True, but that is incompatible with subplots_adjust and or tight_layout: setting constrained_layout==False. \n",
      "  self._figure.tight_layout(**tight_params)\n"
     ]
    },
    {
     "name": "stdout",
     "output_type": "stream",
     "text": [
      "**NOTE: DEFAULT TAXID STORED FROM gene2go IS 9606 (human)\n",
      "\n",
      "HMS:0:01:25.597540 346,070 annotations, 20,758 genes, 18,733 GOs, 1 taxids READ: gene2go \n",
      "\n",
      "Load BP Gene Ontology Analysis ...\n",
      "fisher module not installed.  Falling back on scipy.stats.fisher_exact\n",
      "      2 items WROTE: __go_temp_file\n"
     ]
    },
    {
     "name": "stderr",
     "output_type": "stream",
     "text": [
      "/projects/b1038/Pulmonary/nmarkov/ssc-v2/code/venv/lib/python3.9/site-packages/seaborn/utils.py:95: UserWarning: Calling figure.constrained_layout, but figure not setup to do constrained layout.  You either called GridSpec without the fig keyword, you are using plt.subplot, or you need to call figure or subplots with the constrained_layout=True kwarg.\n",
      "  fig.canvas.draw()\n",
      "/projects/b1038/Pulmonary/nmarkov/ssc-v2/code/venv/lib/python3.9/site-packages/seaborn/matrix.py:1203: UserWarning: This figure was using constrained_layout==True, but that is incompatible with subplots_adjust and or tight_layout: setting constrained_layout==False. \n",
      "  self._figure.tight_layout(**tight_params)\n"
     ]
    },
    {
     "name": "stdout",
     "output_type": "stream",
     "text": [
      "**NOTE: DEFAULT TAXID STORED FROM gene2go IS 9606 (human)\n",
      "\n",
      "HMS:0:01:27.617834 346,070 annotations, 20,758 genes, 18,733 GOs, 1 taxids READ: gene2go \n",
      "\n",
      "Load BP Gene Ontology Analysis ...\n",
      "fisher module not installed.  Falling back on scipy.stats.fisher_exact\n",
      "      4 items WROTE: __go_temp_file\n"
     ]
    },
    {
     "name": "stderr",
     "output_type": "stream",
     "text": [
      "/projects/b1038/Pulmonary/nmarkov/ssc-v2/code/venv/lib/python3.9/site-packages/seaborn/utils.py:95: UserWarning: Calling figure.constrained_layout, but figure not setup to do constrained layout.  You either called GridSpec without the fig keyword, you are using plt.subplot, or you need to call figure or subplots with the constrained_layout=True kwarg.\n",
      "  fig.canvas.draw()\n",
      "/projects/b1038/Pulmonary/nmarkov/ssc-v2/code/venv/lib/python3.9/site-packages/seaborn/matrix.py:1203: UserWarning: This figure was using constrained_layout==True, but that is incompatible with subplots_adjust and or tight_layout: setting constrained_layout==False. \n",
      "  self._figure.tight_layout(**tight_params)\n"
     ]
    }
   ],
   "source": [
    "data = {}\n",
    "\n",
    "for folder in DEG_DIR.iterdir():\n",
    "    if not folder.is_dir():\n",
    "        continue\n",
    "    if not (folder / MODEL).exists():\n",
    "        continue\n",
    "    if folder.name == 'global':\n",
    "        continue\n",
    "    data[folder.name] = process_cell_type(folder)"
   ]
  },
  {
   "cell_type": "code",
   "execution_count": null,
   "metadata": {},
   "outputs": [],
   "source": []
  }
 ],
 "metadata": {
  "kernelspec": {
   "display_name": "ssc-v2",
   "language": "python",
   "name": "ssc-v2"
  },
  "language_info": {
   "codemirror_mode": {
    "name": "ipython",
    "version": 3
   },
   "file_extension": ".py",
   "mimetype": "text/x-python",
   "name": "python",
   "nbconvert_exporter": "python",
   "pygments_lexer": "ipython3",
   "version": "3.9.12"
  }
 },
 "nbformat": 4,
 "nbformat_minor": 4
}
