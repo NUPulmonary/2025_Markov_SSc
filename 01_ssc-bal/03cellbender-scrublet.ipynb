{
 "cells": [
  {
   "cell_type": "code",
   "execution_count": 1,
   "metadata": {},
   "outputs": [],
   "source": [
    "import scanpy as sc\n",
    "import pandas as pd"
   ]
  },
  {
   "cell_type": "code",
   "execution_count": 11,
   "metadata": {},
   "outputs": [],
   "source": [
    "dbl = pd.read_csv(\"../../data/01ssc-bal/scrublet/SSc_C1_doublets.csv\", index_col=0)"
   ]
  },
  {
   "cell_type": "code",
   "execution_count": 14,
   "metadata": {},
   "outputs": [],
   "source": [
    "dbl.set_index(\"0\", inplace=True)"
   ]
  },
  {
   "cell_type": "code",
   "execution_count": 15,
   "metadata": {},
   "outputs": [
    {
     "data": {
      "text/plain": [
       "(13992, 1)"
      ]
     },
     "execution_count": 15,
     "metadata": {},
     "output_type": "execute_result"
    }
   ],
   "source": [
    "dbl.shape"
   ]
  },
  {
   "cell_type": "code",
   "execution_count": 5,
   "metadata": {},
   "outputs": [
    {
     "name": "stderr",
     "output_type": "stream",
     "text": [
      "Variable names are not unique. To make them unique, call `.var_names_make_unique`.\n",
      "Variable names are not unique. To make them unique, call `.var_names_make_unique`.\n"
     ]
    }
   ],
   "source": [
    "ds = sc.read_10x_h5(\"../../data/01ssc-bal/cellbender/SSc_C1_filtered.h5\")"
   ]
  },
  {
   "cell_type": "code",
   "execution_count": 6,
   "metadata": {},
   "outputs": [
    {
     "data": {
      "text/plain": [
       "(18634, 33694)"
      ]
     },
     "execution_count": 6,
     "metadata": {},
     "output_type": "execute_result"
    }
   ],
   "source": [
    "ds.shape"
   ]
  },
  {
   "cell_type": "code",
   "execution_count": 17,
   "metadata": {},
   "outputs": [
    {
     "data": {
      "text/plain": [
       "13963"
      ]
     },
     "execution_count": 17,
     "metadata": {},
     "output_type": "execute_result"
    }
   ],
   "source": [
    "ds.obs_names.isin(dbl.index).sum()"
   ]
  },
  {
   "cell_type": "code",
   "execution_count": 8,
   "metadata": {},
   "outputs": [
    {
     "data": {
      "text/plain": [
       "Index(['TAGGCATCATAAAGGT-1', 'GCAAACTTCTGATTCT-1', 'GCGCAACCATGGAATA-1',\n",
       "       'GGGCATCTCATCTGTT-1', 'ATCCACCTCAGTGCAT-1', 'CCATTCGTCGTCCAGG-1',\n",
       "       'CGGTTAACATCTCCCA-1', 'TCTCATATCATCTGCC-1', 'GGTGAAGCATATGGTC-1',\n",
       "       'CGAGCACGTTATTCTC-1',\n",
       "       ...\n",
       "       'CAAGTTGTCAGGCGAA-1', 'CTGTTTAGTTGACGTT-1', 'TGAGCATAGCTAAACA-1',\n",
       "       'ACCAGTATCAAACCGT-1', 'AGCTCTCCACGGCCAT-1', 'ATTATCCGTGTGCGTC-1',\n",
       "       'CAACCAAGTTAAAGTG-1', 'CGGACGTAGACATAAC-1', 'ACACTGAAGGAGTTTA-1',\n",
       "       'CTCTACGGTCTAGCGC-1'],\n",
       "      dtype='object', length=18634)"
      ]
     },
     "execution_count": 8,
     "metadata": {},
     "output_type": "execute_result"
    }
   ],
   "source": [
    "ds.obs_names"
   ]
  },
  {
   "cell_type": "code",
   "execution_count": null,
   "metadata": {},
   "outputs": [],
   "source": []
  }
 ],
 "metadata": {
  "kernelspec": {
   "display_name": "ssc-v2",
   "language": "python",
   "name": "ssc-v2"
  },
  "language_info": {
   "codemirror_mode": {
    "name": "ipython",
    "version": 3
   },
   "file_extension": ".py",
   "mimetype": "text/x-python",
   "name": "python",
   "nbconvert_exporter": "python",
   "pygments_lexer": "ipython3",
   "version": "3.7.4"
  }
 },
 "nbformat": 4,
 "nbformat_minor": 2
}
