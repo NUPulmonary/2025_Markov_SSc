{
 "cells": [
  {
   "cell_type": "code",
   "execution_count": 1,
   "id": "b2b33530-4b1e-4c9c-bf1b-7fc9b374dc76",
   "metadata": {},
   "outputs": [],
   "source": [
    "import datetime\n",
    "import os\n",
    "\n",
    "import pandas as pd\n",
    "import numpy as np\n",
    "import matplotlib as mpl\n",
    "import matplotlib.pyplot as plt\n",
    "import seaborn as sns\n",
    "\n",
    "import gli_calc"
   ]
  },
  {
   "cell_type": "code",
   "execution_count": 2,
   "id": "1df9fc87-1f6a-45ae-8f6f-a2dd12c4edcb",
   "metadata": {},
   "outputs": [],
   "source": [
    "%load_ext autoreload\n",
    "%autoreload 2"
   ]
  },
  {
   "cell_type": "code",
   "execution_count": 3,
   "id": "c956cf0c-5dde-4fa9-82f1-ed187aa197de",
   "metadata": {},
   "outputs": [],
   "source": [
    "pd.options.display.max_columns = 200\n",
    "pd.options.display.max_rows = 200"
   ]
  },
  {
   "cell_type": "code",
   "execution_count": 4,
   "id": "75bae232-60c0-4463-9a85-e9940e13087e",
   "metadata": {},
   "outputs": [],
   "source": [
    "%config InlineBackend.figure_format = \"retina\""
   ]
  },
  {
   "cell_type": "markdown",
   "id": "517a8d50-9c8f-4f04-81e9-60b7ceb2e6fa",
   "metadata": {},
   "source": [
    "Data is stored on One Drive (contains PHI)"
   ]
  },
  {
   "cell_type": "code",
   "execution_count": 5,
   "id": "e49ff719-fc24-4a30-8421-63c0c6b8bdbd",
   "metadata": {},
   "outputs": [],
   "source": [
    "data_path = pd.read_csv(\n",
    "    \"/Users/mxposed/Documents/data_paths/ssc.csv\",\n",
    "    index_col=0\n",
    ").value[\"clinical_data\"]"
   ]
  },
  {
   "cell_type": "code",
   "execution_count": 6,
   "id": "c61239ef-beb0-4cad-848a-876ca9134ebc",
   "metadata": {},
   "outputs": [],
   "source": [
    "out_path = os.path.join(data_path, \"processed\")\n",
    "os.makedirs(out_path, exist_ok=True)"
   ]
  },
  {
   "cell_type": "code",
   "execution_count": 7,
   "id": "c94dfb0c-20fb-4088-8aeb-ad1246132ae4",
   "metadata": {},
   "outputs": [],
   "source": [
    "def redcap_column_names_from_dict(dictionary, prefix):\n",
    "    return [f\"{prefix}___{k}\" for k in dictionary.keys()]"
   ]
  },
  {
   "cell_type": "code",
   "execution_count": 8,
   "id": "3c6a74ef-f1b7-40a1-aae6-31769824cc6f",
   "metadata": {},
   "outputs": [],
   "source": [
    "def parse_redcap_dict_field(data, dictionary, prefix, check_radio=True):\n",
    "    columns = redcap_column_names_from_dict(dictionary, prefix)\n",
    "    if check_radio:\n",
    "        for col in columns:\n",
    "            assert len({0, 1} - set(data[col].astype(int))) >= 0, f\"Data for column {col} is out 0 or 1\"\n",
    "        assert np.all(data[columns].sum(axis=1).eq(1)), \"For some rows there is more than 1 value\"\n",
    "\n",
    "    result = pd.Series(index=data.index, dtype=str)\n",
    "    # relying on the .keys() iterator to be in the same order\n",
    "    for i, key in enumerate(dictionary.keys()):\n",
    "        result[data[columns[i]].eq(1)] = dictionary[key]\n",
    "    return result"
   ]
  },
  {
   "cell_type": "markdown",
   "id": "8226c7b8-035c-4c1e-9e1c-6d1df830b992",
   "metadata": {},
   "source": [
    "# Clinical data preprocessing"
   ]
  },
  {
   "cell_type": "markdown",
   "id": "1200848e-d1fc-4858-938c-8880f6f93ab8",
   "metadata": {},
   "source": [
    "The goal of this notebook is to automatically integrate clinical data from \n",
    "1. Redcap\n",
    "2. Yale\n",
    "3. Single-cell table\n",
    "\n",
    "and to preprocess and verify it"
   ]
  },
  {
   "cell_type": "markdown",
   "id": "81856797-9d04-4544-9028-506e3066d4ad",
   "metadata": {},
   "source": [
    "Load sample information"
   ]
  },
  {
   "cell_type": "code",
   "execution_count": 10,
   "id": "91bb0dca-98dd-484b-9c48-9c11ffb5e384",
   "metadata": {},
   "outputs": [],
   "source": [
    "samples = pd.read_csv(\"../00all-samples.csv\")"
   ]
  },
  {
   "cell_type": "markdown",
   "id": "8e76faf4-9226-44ca-9191-af0b7d222f86",
   "metadata": {},
   "source": [
    "Load redcap data snapshot"
   ]
  },
  {
   "cell_type": "code",
   "execution_count": 11,
   "id": "2cd7b26d-f3d1-4fc1-8fef-e50b71ca6205",
   "metadata": {},
   "outputs": [],
   "source": [
    "redcap = pd.read_csv(os.path.join(data_path, \"WntbetacateninInSScI_DATA_2023-02-17_1744.csv\"))"
   ]
  },
  {
   "cell_type": "markdown",
   "id": "caa43d8b",
   "metadata": {},
   "source": [
    "Add publication IDs from GEO table"
   ]
  },
  {
   "cell_type": "code",
   "execution_count": 12,
   "id": "4e042785",
   "metadata": {},
   "outputs": [],
   "source": [
    "samples[\"Patient_id\"] = samples.Sample"
   ]
  },
  {
   "cell_type": "markdown",
   "id": "110e9f53",
   "metadata": {},
   "source": [
    "Strip `_followup` to get Redcap patient ids"
   ]
  },
  {
   "cell_type": "code",
   "execution_count": 13,
   "id": "dd337c24",
   "metadata": {},
   "outputs": [],
   "source": [
    "samples.Patient_id = samples.Patient_id.str.replace(\"_followup$\", \"\", regex=True)"
   ]
  },
  {
   "cell_type": "code",
   "execution_count": 14,
   "id": "97bf2820",
   "metadata": {},
   "outputs": [],
   "source": [
    "paper_ids = pd.read_csv(os.path.join(\n",
    "    os.path.dirname(os.path.dirname(data_path)),\n",
    "    '04_bioRxiv',\n",
    "    'GEO',\n",
    "    'SSc_BAL_GEO_ID_MAPPING - ID mapping.csv'\n",
    "))"
   ]
  },
  {
   "cell_type": "code",
   "execution_count": 15,
   "id": "54600646",
   "metadata": {},
   "outputs": [],
   "source": [
    "paper_ids = paper_ids.merge(\n",
    "    samples[['External Sample ID', 'Patient_id']],\n",
    "    on='External Sample ID'\n",
    ")"
   ]
  },
  {
   "cell_type": "markdown",
   "id": "ec5a846a-9952-4d6a-9ab1-18bf4c0b356f",
   "metadata": {},
   "source": [
    "Take Duke separately"
   ]
  },
  {
   "cell_type": "code",
   "execution_count": 16,
   "id": "5ccb1d0c-14f3-4d2d-906e-41a2fbfbd122",
   "metadata": {},
   "outputs": [],
   "source": [
    "duke = samples.loc[samples.Study.eq('Duke')].copy()"
   ]
  },
  {
   "cell_type": "markdown",
   "id": "c907aad8-1d51-4693-b18c-166d97fb1edf",
   "metadata": {},
   "source": [
    "Take only our samples"
   ]
  },
  {
   "cell_type": "code",
   "execution_count": 17,
   "id": "fdc9f770-c9a3-4d4d-9081-f90d38066725",
   "metadata": {},
   "outputs": [],
   "source": [
    "samples = samples.loc[samples.Study.eq(\"this\"), :].copy()"
   ]
  },
  {
   "cell_type": "markdown",
   "id": "83ccce80",
   "metadata": {},
   "source": [
    "Number of unique patients among our samples"
   ]
  },
  {
   "cell_type": "code",
   "execution_count": 18,
   "id": "58441bc8",
   "metadata": {},
   "outputs": [
    {
     "data": {
      "text/plain": [
       "14"
      ]
     },
     "execution_count": 18,
     "metadata": {},
     "output_type": "execute_result"
    }
   ],
   "source": [
    "samples.Patient_id.nunique()"
   ]
  },
  {
   "cell_type": "markdown",
   "id": "1d9b1deb-f129-4291-aa2b-ccadc992e7a2",
   "metadata": {},
   "source": [
    "Number of unique patients with information in Redcap"
   ]
  },
  {
   "cell_type": "code",
   "execution_count": 19,
   "id": "105ba52a-3466-417e-96db-6cd408c7fea9",
   "metadata": {},
   "outputs": [
    {
     "data": {
      "text/plain": [
       "13"
      ]
     },
     "execution_count": 19,
     "metadata": {},
     "output_type": "execute_result"
    }
   ],
   "source": [
    "redcap.study_code[redcap.study_code.isin(samples.Patient_id)].nunique()"
   ]
  },
  {
   "cell_type": "markdown",
   "id": "0b87b498-750e-4c13-8134-509480629678",
   "metadata": {},
   "source": [
    "Patient without information in Redcap"
   ]
  },
  {
   "cell_type": "code",
   "execution_count": null,
   "id": "6817b40c-b074-4b0b-9afb-9c36e67566e8",
   "metadata": {},
   "outputs": [],
   "source": [
    "samples.Patient_id[~samples.Patient_id.isin(redcap.study_code)]"
   ]
  },
  {
   "cell_type": "markdown",
   "id": "ff6a7b4b-d7b7-43f1-abf1-865eb443db15",
   "metadata": {},
   "source": [
    "Correct, this is the Yale patient"
   ]
  },
  {
   "cell_type": "code",
   "execution_count": 21,
   "id": "fb8d35f2-cd4b-4525-b845-1652d291aa52",
   "metadata": {},
   "outputs": [],
   "source": [
    "yale_pts = samples.Patient_id[~samples.Patient_id.isin(redcap.study_code)]"
   ]
  },
  {
   "cell_type": "code",
   "execution_count": 22,
   "id": "73f3f2ac-f607-46b9-809c-99e1f7ca0724",
   "metadata": {},
   "outputs": [],
   "source": [
    "yale_data = pd.read_csv(\n",
    "    os.path.join(data_path, 'Yale', 'PathogenicWntbetaCat-WntDataForNU_DATA_2023-04-24_1607.csv')\n",
    ")"
   ]
  },
  {
   "cell_type": "code",
   "execution_count": 23,
   "id": "07bd56ea-1e07-4e37-8601-00b8a06683e7",
   "metadata": {},
   "outputs": [],
   "source": [
    "yale_data = yale_data.loc[yale_data.study_code.isin(yale_pts)].copy()"
   ]
  },
  {
   "cell_type": "code",
   "execution_count": 24,
   "id": "20ae7b97-4c8a-4a1e-88e8-435418cb7857",
   "metadata": {},
   "outputs": [],
   "source": [
    "redcap = redcap.loc[redcap.study_code.isin(samples.Patient_id)].copy()"
   ]
  },
  {
   "cell_type": "markdown",
   "id": "bbc8fac4-6dc4-4f72-a926-0ebd8cab131b",
   "metadata": {},
   "source": [
    "## What we want!\n",
    "\n",
    "1. Table 1 information\n",
    "    1. Patient information\n",
    "        * age (at bronch)\n",
    "        * sex\n",
    "        * race/ethnicity\n",
    "        * smoking status\n",
    "        * height\n",
    "        * BMI\n",
    "    2. Disease information\n",
    "        * SSc subtype\n",
    "        * Raynauld first symptom\n",
    "        * non-Raynauld first symptom\n",
    "        * MRSS\n",
    "        * autoantibodies\n",
    "        * ILD status\n",
    "        * digital ulcers\n",
    "        * hypertension status\n",
    "    3. Clinical measurements\n",
    "        * CRP\n",
    "        * FVC\n",
    "        * DLCO\n",
    "        * FEV1\n",
    "        * Monocyte count\n",
    "        * 6MWD\n",
    "        * RVSP\n",
    "    4. Medications\n",
    "        * prednisone\n",
    "        * mycophenolate mofetil\n",
    "        * ofev\n",
    "        * actemra\n",
    "        * rituximab\n",
    "2. Timeline dates\n",
    "    * non-Raynauld onset\n",
    "    * Raynauld onset\n",
    "    * PFT date\n",
    "    * Bronch date\n",
    "    * ILD diagnosis date\n",
    "    * HRCT date\n",
    "    * MRSS date\n",
    "    * 6MWD date\n",
    "    * TTE date (for RVSP)\n",
    "    * Blood date (for monocytes)\n",
    "3. Clinical correlation data\n",
    "    * Table 1 +\n",
    "    * 6MWD\n",
    "    * TTE\n",
    "    * Blood\n",
    "    * HRCT scoring (from Hatice)"
   ]
  },
  {
   "cell_type": "code",
   "execution_count": 25,
   "id": "fe13dba8-fe1d-4c44-a034-664ea960f532",
   "metadata": {},
   "outputs": [],
   "source": [
    "base_columns = [\"study_code\", \"redcap_event_name\", \"redcap_repeat_instance\"]"
   ]
  },
  {
   "cell_type": "code",
   "execution_count": 26,
   "id": "5849726f-e6c3-4ec1-9e78-e8e898619919",
   "metadata": {},
   "outputs": [],
   "source": [
    "yale_base_columns = [\"study_code\", \"redcap_event_name\"]"
   ]
  },
  {
   "cell_type": "markdown",
   "id": "2e34b6f0-b2c0-428e-a250-a8a690592da8",
   "metadata": {},
   "source": [
    "### 1. Patient info"
   ]
  },
  {
   "cell_type": "code",
   "execution_count": 27,
   "id": "9d822258-c4d8-459c-9457-aa9ba776196a",
   "metadata": {},
   "outputs": [],
   "source": [
    "pt_info_columns = \"\"\"\n",
    "year_of_birth\n",
    "sex\n",
    "race\n",
    "height\n",
    "bmi\n",
    "smoker\n",
    "smoker_packyrs\n",
    "\"\"\".strip().split(\"\\n\")"
   ]
  },
  {
   "cell_type": "code",
   "execution_count": 28,
   "id": "70e7121f-5722-44de-abf9-c6b7ec141ed8",
   "metadata": {},
   "outputs": [],
   "source": [
    "pt_info = redcap[base_columns + pt_info_columns].copy()"
   ]
  },
  {
   "cell_type": "code",
   "execution_count": 29,
   "id": "fcd4e9dc-38f7-4703-b34c-02545ac291be",
   "metadata": {},
   "outputs": [],
   "source": [
    "pt_info = pt_info.loc[~pt_info.year_of_birth.isna()]"
   ]
  },
  {
   "cell_type": "code",
   "execution_count": 30,
   "id": "93741743-0328-403c-98c9-0566f0ca1b79",
   "metadata": {},
   "outputs": [],
   "source": [
    "pt_info.drop(columns=[\"redcap_event_name\", \"redcap_repeat_instance\"], inplace=True)"
   ]
  },
  {
   "cell_type": "code",
   "execution_count": 31,
   "id": "4cf1a275-5300-436f-a30b-fa94042420eb",
   "metadata": {},
   "outputs": [],
   "source": [
    "pt_info.sex = pt_info.sex.map({1: \"Male\", 2: \"Female\"})"
   ]
  },
  {
   "cell_type": "code",
   "execution_count": 32,
   "id": "e3192316-0452-4c88-bf12-3f53c0ae29bb",
   "metadata": {},
   "outputs": [],
   "source": [
    "pt_info.race = pt_info.race.map({\n",
    "    1: \"Caucasian\",\n",
    "    2: \"African American\",\n",
    "    3: \"Asian\",\n",
    "    4: \"American Indian or Alaska Native\",\n",
    "    5: \"Hawaiian/Pacific Islander\",\n",
    "    6: \"Hispanic or Latino\",\n",
    "})"
   ]
  },
  {
   "cell_type": "code",
   "execution_count": 33,
   "id": "bd84e8da-641e-41ca-8915-41ab63f2925d",
   "metadata": {},
   "outputs": [],
   "source": [
    "pt_info.smoker = pt_info.smoker.astype(bool)"
   ]
  },
  {
   "cell_type": "code",
   "execution_count": 34,
   "id": "f5531313-7c30-468d-9bb5-9d4b907900ea",
   "metadata": {},
   "outputs": [],
   "source": [
    "pt_info.year_of_birth = pt_info.year_of_birth.astype(int)"
   ]
  },
  {
   "cell_type": "code",
   "execution_count": 35,
   "id": "6622a05d-74b7-4548-ba11-5b02e3346db6",
   "metadata": {},
   "outputs": [
    {
     "data": {
      "text/plain": [
       "(13, 8)"
      ]
     },
     "execution_count": 35,
     "metadata": {},
     "output_type": "execute_result"
    }
   ],
   "source": [
    "pt_info.shape"
   ]
  },
  {
   "cell_type": "code",
   "execution_count": 36,
   "id": "5382e3c6-fce9-4de0-b45f-efb406eb744b",
   "metadata": {},
   "outputs": [],
   "source": [
    "yale_pt_info_columns = \"\"\"\n",
    "pt_form_dob\n",
    "pt_form_gender\n",
    "ssc_screen_q6\n",
    "ssc_screen_q10\n",
    "smoker\n",
    "smoker_packyrs\n",
    "\"\"\".strip().split(\"\\n\")"
   ]
  },
  {
   "cell_type": "code",
   "execution_count": 37,
   "id": "c3efb1da-099e-4b8b-960b-c29fe24293a1",
   "metadata": {},
   "outputs": [],
   "source": [
    "YALE_RACE = {\n",
    "    1: \"American Indian or Alaska Native\",\n",
    "    2: \"Asian\",\n",
    "    3: \"Black or African American\",\n",
    "    4: \"Hispanic or Latino\",\n",
    "    5: \"Native Hawaiian or Other Pacific Islander\",\n",
    "    6: \"White\",\n",
    "    9: \"Decline to Answer\",\n",
    "}\n",
    "yale_pt_info_columns += redcap_column_names_from_dict(YALE_RACE, \"pt_form_race\")"
   ]
  },
  {
   "cell_type": "code",
   "execution_count": 38,
   "id": "92d05122-f57e-4c6c-8004-5761e0bde1ec",
   "metadata": {},
   "outputs": [],
   "source": [
    "yale_pt_info = yale_data[yale_base_columns + yale_pt_info_columns].copy()"
   ]
  },
  {
   "cell_type": "code",
   "execution_count": 39,
   "id": "d20d9cb6-acb7-44c0-84e6-d97c5d3be3d2",
   "metadata": {},
   "outputs": [],
   "source": [
    "yale_pt_info = yale_pt_info.loc[~yale_pt_info.pt_form_dob.isna()].copy()"
   ]
  },
  {
   "cell_type": "code",
   "execution_count": 40,
   "id": "add844da-9491-4cc4-b44f-6e4eee8369a6",
   "metadata": {},
   "outputs": [],
   "source": [
    "yale_pt_info.pt_form_dob = pd.to_datetime(yale_pt_info.pt_form_dob)"
   ]
  },
  {
   "cell_type": "code",
   "execution_count": 41,
   "id": "36c6dd5c-fed5-4320-a6da-ebed88315e89",
   "metadata": {},
   "outputs": [],
   "source": [
    "def correct_year_after_2020(dt):\n",
    "    if dt.year >= 2020:\n",
    "        dt = datetime.date(year=dt.year - 100, month=dt.month, day=dt.day)\n",
    "    return dt\n",
    "\n",
    "yale_pt_info.pt_form_dob = pd.to_datetime(yale_pt_info.pt_form_dob.apply(correct_year_after_2020))"
   ]
  },
  {
   "cell_type": "code",
   "execution_count": 42,
   "id": "027b5d9d-0cb8-4840-9126-a1809b2ea6d1",
   "metadata": {},
   "outputs": [],
   "source": [
    "yale_pt_info[\"year_of_birth\"] = yale_pt_info.pt_form_dob.dt.year"
   ]
  },
  {
   "cell_type": "code",
   "execution_count": 43,
   "id": "88239f7b-93d2-4b48-96c5-e96d147e26e6",
   "metadata": {},
   "outputs": [],
   "source": [
    "yale_pt_info[\"sex\"] = yale_pt_info.pt_form_gender.map({1: \"Male\", 2: \"Female\"})"
   ]
  },
  {
   "cell_type": "code",
   "execution_count": 44,
   "id": "f1af651e-ded7-4ade-97cd-8b18a13c1c5a",
   "metadata": {},
   "outputs": [],
   "source": [
    "yale_pt_info[\"race\"] = parse_redcap_dict_field(yale_pt_info, YALE_RACE, \"pt_form_race\")"
   ]
  },
  {
   "cell_type": "markdown",
   "id": "3e1c2a60-808e-4cb7-90b6-a75564a498ef",
   "metadata": {},
   "source": [
    "Normalize Race to Northwestern definitions."
   ]
  },
  {
   "cell_type": "code",
   "execution_count": 45,
   "id": "4ce90ae7-aa30-4885-8e88-107becb33da2",
   "metadata": {},
   "outputs": [],
   "source": [
    "yale_pt_info.race = yale_pt_info.race.replace({\n",
    "    \"White\": \"Caucasian\",\n",
    "    \"Black or African American\": \"African American\",\n",
    "    \"Native Hawaiian or Other Pacific Islander\": \"Hawaiian/Pacific Islander\"\n",
    "})"
   ]
  },
  {
   "cell_type": "code",
   "execution_count": 46,
   "id": "37866bfa-c75a-4653-a5bc-a7a5522ea9bf",
   "metadata": {},
   "outputs": [],
   "source": [
    "yale_pt_info[\"height\"] = yale_pt_info.ssc_screen_q6"
   ]
  },
  {
   "cell_type": "code",
   "execution_count": 47,
   "id": "c768c071-72ae-4313-bbdf-565e4225cf59",
   "metadata": {},
   "outputs": [],
   "source": [
    "yale_pt_info[\"bmi\"] = yale_pt_info.ssc_screen_q10"
   ]
  },
  {
   "cell_type": "code",
   "execution_count": 48,
   "id": "3e8cebb1-0b15-47f7-a046-e4850b07bea2",
   "metadata": {},
   "outputs": [],
   "source": [
    "yale_pt_info.smoker = yale_pt_info.smoker.astype(bool)"
   ]
  },
  {
   "cell_type": "code",
   "execution_count": 49,
   "id": "7716755f-22a0-46d2-b681-abf82b5df6cd",
   "metadata": {},
   "outputs": [],
   "source": [
    "duke_pt = duke[['Sample', 'Age', 'Sex', 'Race', 'BMI', 'Smoking status']].copy()"
   ]
  },
  {
   "cell_type": "code",
   "execution_count": 50,
   "id": "bbfb211b-1be2-4947-8ba0-266314bb069b",
   "metadata": {},
   "outputs": [],
   "source": [
    "duke_pt.rename(columns={\n",
    "    'Sample': 'study_code',\n",
    "    'Age': 'age',\n",
    "    'Sex': 'sex',\n",
    "    'Race': 'race',\n",
    "    'BMI': 'bmi',\n",
    "    'Smoking status': 'smoker',\n",
    "}, inplace=True)"
   ]
  },
  {
   "cell_type": "code",
   "execution_count": 51,
   "id": "bb6572ae-8ebf-4439-b2a9-0b7b4da71812",
   "metadata": {},
   "outputs": [],
   "source": [
    "duke_pt.sex.replace({'male': 'Male', 'female': 'Female'}, inplace=True)"
   ]
  },
  {
   "cell_type": "code",
   "execution_count": 52,
   "id": "2cb8c333-30af-410e-b577-f4f7650762dc",
   "metadata": {},
   "outputs": [],
   "source": [
    "duke_pt.smoker.replace({'never': False}, inplace=True)"
   ]
  },
  {
   "cell_type": "code",
   "execution_count": 53,
   "id": "aa9f4ad3-6835-4c0c-840f-38e11e7e5053",
   "metadata": {},
   "outputs": [],
   "source": [
    "duke_pt.race.replace({\n",
    "    'White': 'Caucasian',\n",
    "    'Hispanic': 'Hispanic or Latino'\n",
    "}, inplace=True)"
   ]
  },
  {
   "cell_type": "code",
   "execution_count": 54,
   "id": "e14c90f9-e835-4d27-9644-decfb76c6373",
   "metadata": {},
   "outputs": [],
   "source": [
    "pt_info = pd.concat([pt_info, yale_pt_info, duke_pt])[\n",
    "    pt_info.columns.tolist() + ['age']\n",
    "].reset_index(drop=True)"
   ]
  },
  {
   "cell_type": "code",
   "execution_count": 55,
   "id": "1851e09d-d5e1-4720-828e-ead1d926258e",
   "metadata": {},
   "outputs": [],
   "source": [
    "pt_info.height *= 2.54"
   ]
  },
  {
   "cell_type": "code",
   "execution_count": 56,
   "id": "ae6fe562",
   "metadata": {},
   "outputs": [],
   "source": [
    "patient_paper_ids = paper_ids.drop_duplicates(subset=['Patient_id']).copy()\n",
    "patient_paper_ids['Publication ID'] = patient_paper_ids['Publication ID'].str.replace(r'-\\d+$', '', regex=True)"
   ]
  },
  {
   "cell_type": "code",
   "execution_count": 57,
   "id": "a4046c16",
   "metadata": {},
   "outputs": [],
   "source": [
    "pt_info = pt_info.merge(\n",
    "    patient_paper_ids[['Patient_id', 'Publication ID']].rename(columns={'Publication ID': 'paper_id'}),\n",
    "    left_on='study_code',\n",
    "    right_on='Patient_id',\n",
    "    how='left'\n",
    ")"
   ]
  },
  {
   "cell_type": "code",
   "execution_count": 64,
   "id": "4c2007cb-0f8b-439f-a354-c1577d4211b5",
   "metadata": {},
   "outputs": [],
   "source": [
    "pt_info.to_csv(os.path.join(out_path, \"01_pt_info.csv\"))"
   ]
  },
  {
   "cell_type": "markdown",
   "id": "a3def429-63f8-49c9-9040-1cc0bc18d9d7",
   "metadata": {},
   "source": [
    "### 2. Disease info"
   ]
  },
  {
   "cell_type": "code",
   "execution_count": 58,
   "id": "2201ff68-dbb6-484b-aa95-3ec10c34307d",
   "metadata": {},
   "outputs": [],
   "source": [
    "disease_info_columns = \"\"\"\n",
    "disease\n",
    "ssc_subtype\n",
    "nonraynaud_sx\n",
    "diagnosis_date\n",
    "acr_ulc_pit\n",
    "ab_ana\n",
    "ab_ana_pattern1\n",
    "ab_ana_pattern2\n",
    "ab_scl70\n",
    "ab_aca\n",
    "ab_rnaiii\n",
    "mrss_total\n",
    "mrss\n",
    "\"\"\".strip().split(\"\\n\")"
   ]
  },
  {
   "cell_type": "code",
   "execution_count": 59,
   "id": "7fcb94a7-ac24-4803-9f87-596ad99288a5",
   "metadata": {},
   "outputs": [],
   "source": [
    "disease_info = redcap[base_columns + disease_info_columns].copy()"
   ]
  },
  {
   "cell_type": "code",
   "execution_count": 60,
   "id": "96396a2a-660a-4d8f-af0c-54fe04518f6c",
   "metadata": {},
   "outputs": [],
   "source": [
    "disease_info = disease_info.loc[~disease_info.disease.isna()]"
   ]
  },
  {
   "cell_type": "code",
   "execution_count": 61,
   "id": "5a92197a-8abd-4e69-bcc4-5c637d9bfdde",
   "metadata": {},
   "outputs": [],
   "source": [
    "disease_info.drop(columns=[\"redcap_event_name\", \"redcap_repeat_instance\"], inplace=True)"
   ]
  },
  {
   "cell_type": "code",
   "execution_count": 62,
   "id": "87cc0cde-075c-478f-8c7a-ea68f613d6f4",
   "metadata": {},
   "outputs": [],
   "source": [
    "disease_info.disease = disease_info.disease.map({\n",
    "    1: \"control\",\n",
    "    2: \"SSc\",\n",
    "    3: \"COPD\",\n",
    "    4: \"Sarcoidosis\",\n",
    "})"
   ]
  },
  {
   "cell_type": "code",
   "execution_count": 63,
   "id": "d1d454b3-abfb-4f4a-bc7e-14360a7f3eef",
   "metadata": {},
   "outputs": [],
   "source": [
    "disease_info.ssc_subtype = disease_info.ssc_subtype.map({\n",
    "    1: \"SSS\",\n",
    "    2: \"lcSSc\",\n",
    "    3: \"dcSSc\",\n",
    "})"
   ]
  },
  {
   "cell_type": "code",
   "execution_count": 64,
   "id": "646edd88-f9f0-4f3f-866a-033edac1c717",
   "metadata": {},
   "outputs": [],
   "source": [
    "disease_info.nonraynaud_sx = disease_info.nonraynaud_sx.map({\n",
    "    1: \"anemia\",\n",
    "    2: \"calcinosis\",\n",
    "    3: \"diarrhea\",\n",
    "    4: \"DOE\",\n",
    "    5: \"dysphagia\",\n",
    "    6: \"fingertip ulcers\",\n",
    "    7: \"GERD\",\n",
    "    8: \"hyperpigmentation\",\n",
    "    9: \"joint pain\",\n",
    "    10: \"puffy hands\",\n",
    "    11: \"sicca syndrome\",\n",
    "    12: \"skin thickening\",\n",
    "    13: \"SOB\",\n",
    "    14: \"swelling\",\n",
    "    15: \"telangiectasias\",\n",
    "    16: \"other\",\n",
    "})"
   ]
  },
  {
   "cell_type": "code",
   "execution_count": 65,
   "id": "0b22584d-6dae-4a6b-a490-6202f30735a9",
   "metadata": {},
   "outputs": [],
   "source": [
    "disease_info.diagnosis_date = pd.to_datetime(disease_info.diagnosis_date)"
   ]
  },
  {
   "cell_type": "code",
   "execution_count": 66,
   "id": "a779ea39-f4f8-460d-9675-b8cf1a4a3743",
   "metadata": {},
   "outputs": [],
   "source": [
    "disease_info.acr_ulc_pit = disease_info.acr_ulc_pit.map({\n",
    "    0: \"no digital ulcers or pitting scars\",\n",
    "    2: \"digital tip ulcers\",\n",
    "    3: \"fingertip pitting scars\"\n",
    "})"
   ]
  },
  {
   "cell_type": "code",
   "execution_count": 67,
   "id": "0e91f753-040a-4911-a3b0-c55f9e96bdb6",
   "metadata": {},
   "outputs": [],
   "source": [
    "ab_map = {\n",
    "    0: \"Negative\",\n",
    "    1: \"Positive\",\n",
    "    2: \"Unknown\",\n",
    "}\n",
    "disease_info.ab_ana = disease_info.ab_ana.map(ab_map)\n",
    "disease_info.ab_scl70 = disease_info.ab_scl70.map(ab_map)\n",
    "disease_info.ab_aca = disease_info.ab_aca.map(ab_map)\n",
    "disease_info.ab_rnaiii = disease_info.ab_rnaiii.map(ab_map)"
   ]
  },
  {
   "cell_type": "code",
   "execution_count": 68,
   "id": "286e6b8a-e0b9-463d-bec5-ee1784d4690f",
   "metadata": {},
   "outputs": [],
   "source": [
    "ab_pattern_map = {\n",
    "    0: np.nan,\n",
    "    1: \"centromere\",\n",
    "    2: \"speckled\",\n",
    "    3: \"homogenous\",\n",
    "    4: \"nucleolar\",\n",
    "    5: \"other\",\n",
    "}\n",
    "disease_info.ab_ana_pattern1 = disease_info.ab_ana_pattern1.map(ab_pattern_map)\n",
    "disease_info.ab_ana_pattern2 = disease_info.ab_ana_pattern2.map(ab_pattern_map)"
   ]
  },
  {
   "cell_type": "markdown",
   "id": "d58a9ebd-c86b-4248-9d47-99d5c774f732",
   "metadata": {},
   "source": [
    "MRSS is in 2 columns, some values are in both, some in one or another  \n",
    "Verify that values are equal between columns and then merge them"
   ]
  },
  {
   "cell_type": "code",
   "execution_count": 69,
   "id": "5507d33f-b1ba-4237-8cee-2a6d2a7b58a1",
   "metadata": {},
   "outputs": [],
   "source": [
    "mrss_present = ~disease_info.mrss.isna() & ~disease_info.mrss_total.isna()\n",
    "assert np.all(disease_info.mrss[mrss_present] == disease_info.mrss_total[mrss_present])\n",
    "disease_info.loc[disease_info.mrss.isna(), \"mrss\"] = disease_info.mrss_total[disease_info.mrss.isna()]"
   ]
  },
  {
   "cell_type": "code",
   "execution_count": 70,
   "id": "0d190027-b0c0-4f64-9279-3d9bb872d514",
   "metadata": {},
   "outputs": [],
   "source": [
    "disease_info.drop(columns=[\"mrss_total\"], inplace=True)"
   ]
  },
  {
   "cell_type": "code",
   "execution_count": 71,
   "id": "a54b73b2-adc4-45a7-bbd3-de4af30cc002",
   "metadata": {},
   "outputs": [
    {
     "data": {
      "text/plain": [
       "(13, 13)"
      ]
     },
     "execution_count": 71,
     "metadata": {},
     "output_type": "execute_result"
    }
   ],
   "source": [
    "disease_info.shape"
   ]
  },
  {
   "cell_type": "code",
   "execution_count": 72,
   "id": "0b295a7e-18f4-4a3e-a7b7-b4f641460f2f",
   "metadata": {},
   "outputs": [],
   "source": [
    "yale_disease_info = yale_data[yale_base_columns + disease_info_columns].copy()"
   ]
  },
  {
   "cell_type": "code",
   "execution_count": 73,
   "id": "e9a58aeb-3ad5-4821-b2bb-a09a43d81760",
   "metadata": {},
   "outputs": [],
   "source": [
    "yale_disease_info = yale_disease_info.loc[~yale_disease_info.disease.isna()]"
   ]
  },
  {
   "cell_type": "code",
   "execution_count": 74,
   "id": "e74d2f47-b33f-49ae-8b76-4f41c9611ee1",
   "metadata": {},
   "outputs": [],
   "source": [
    "yale_disease_info.disease = yale_disease_info.disease.map({\n",
    "    1: \"control\",\n",
    "    2: \"SSc\",\n",
    "})"
   ]
  },
  {
   "cell_type": "code",
   "execution_count": 75,
   "id": "dfaf9a9c-1a33-4ab5-8e05-aa0e3e7cc0c3",
   "metadata": {},
   "outputs": [],
   "source": [
    "yale_disease_info.ssc_subtype = yale_disease_info.ssc_subtype.map({\n",
    "    1: \"lcSSc\",\n",
    "    2: \"dcSSc\",\n",
    "    3: \"SSS\",\n",
    "})"
   ]
  },
  {
   "cell_type": "code",
   "execution_count": 76,
   "id": "0073c3fa-39db-4f3b-92ce-4d8645b32333",
   "metadata": {},
   "outputs": [],
   "source": [
    "yale_disease_info.nonraynaud_sx = yale_disease_info.nonraynaud_sx.map({\n",
    "    1: \"anemia\",\n",
    "    2: \"calcinosis\",\n",
    "    3: \"diarrhea\",\n",
    "    4: \"DOE\",\n",
    "    5: \"dysphagia\",\n",
    "    6: \"fingertip ulcers\",\n",
    "    7: \"GERD\",\n",
    "    8: \"hyperpigmentation\",\n",
    "    9: \"joint pain\",\n",
    "    10: \"puffy hands\",\n",
    "    11: \"sicca syndrome\",\n",
    "    12: \"skin thickening\",\n",
    "    13: \"SOB\",\n",
    "    14: \"swelling\",\n",
    "    15: \"telangiectasias\",\n",
    "    16: \"other\",\n",
    "})"
   ]
  },
  {
   "cell_type": "code",
   "execution_count": 77,
   "id": "06ee1dc8-7813-4535-bc30-ba7439e1d61e",
   "metadata": {},
   "outputs": [],
   "source": [
    "yale_disease_info.diagnosis_date = pd.to_datetime(yale_disease_info.diagnosis_date)"
   ]
  },
  {
   "cell_type": "code",
   "execution_count": 78,
   "id": "638d53ee-db08-4470-a644-872c3a3fff37",
   "metadata": {},
   "outputs": [],
   "source": [
    "yale_disease_info.acr_ulc_pit = yale_disease_info.acr_ulc_pit.map({\n",
    "    0: \"no digital ulcers or pitting scars\",\n",
    "    2: \"digital tip ulcers\",\n",
    "    3: \"fingertip pitting scars\"\n",
    "})"
   ]
  },
  {
   "cell_type": "code",
   "execution_count": 79,
   "id": "2f290b0d-7c1e-4d45-bd9e-4c6d18cf3a04",
   "metadata": {},
   "outputs": [],
   "source": [
    "ab_map = {\n",
    "    0: \"Negative\",\n",
    "    1: \"Positive\",\n",
    "    2: \"Unknown\",\n",
    "}\n",
    "yale_disease_info.ab_ana = yale_disease_info.ab_ana.map(ab_map)\n",
    "yale_disease_info.ab_scl70 = yale_disease_info.ab_scl70.map(ab_map)\n",
    "yale_disease_info.ab_aca = yale_disease_info.ab_aca.map(ab_map)\n",
    "yale_disease_info.ab_rnaiii = yale_disease_info.ab_rnaiii.map(ab_map)"
   ]
  },
  {
   "cell_type": "code",
   "execution_count": 80,
   "id": "cf5d0c14-ce71-4def-8355-d5273289f3d4",
   "metadata": {},
   "outputs": [],
   "source": [
    "ab_pattern_map = {\n",
    "    0: np.nan,\n",
    "    1: \"centromere\",\n",
    "    2: \"speckled\",\n",
    "    3: \"homogenous\",\n",
    "    4: \"nucleolar\",\n",
    "    5: \"dense fine speckled\",\n",
    "    6: \"other\"\n",
    "}\n",
    "yale_disease_info.ab_ana_pattern1 = yale_disease_info.ab_ana_pattern1.map(ab_pattern_map)\n",
    "yale_disease_info.ab_ana_pattern2 = yale_disease_info.ab_ana_pattern2.map(ab_pattern_map)"
   ]
  },
  {
   "cell_type": "markdown",
   "id": "59594ef6-e45d-4812-a738-3614bc5af199",
   "metadata": {},
   "source": [
    "MRSS is in 2 columns, some values are in both, some in one or another  \n",
    "Verify that values are equal between columns and then merge them"
   ]
  },
  {
   "cell_type": "code",
   "execution_count": 81,
   "id": "58fd75e0-447f-4f34-a713-eb2cdad84c93",
   "metadata": {},
   "outputs": [],
   "source": [
    "mrss_present = ~yale_disease_info.mrss.isna() & ~yale_disease_info.mrss_total.isna()\n",
    "assert np.all(yale_disease_info.mrss[mrss_present] == yale_disease_info.mrss_total[mrss_present])\n",
    "yale_disease_info.loc[\n",
    "    yale_disease_info.mrss.isna(),\n",
    "    \"mrss\"\n",
    "] = yale_disease_info.mrss_total[yale_disease_info.mrss.isna()]"
   ]
  },
  {
   "cell_type": "code",
   "execution_count": 82,
   "id": "37966d59-da8d-4c34-ad8d-9a774c5e34a8",
   "metadata": {},
   "outputs": [],
   "source": [
    "disease_info = pd.concat(\n",
    "    [disease_info, yale_disease_info]\n",
    ")[disease_info.columns].reset_index(drop=True)"
   ]
  },
  {
   "cell_type": "code",
   "execution_count": 83,
   "id": "c4a6413d-ce38-42ca-a02d-88de06181ea9",
   "metadata": {},
   "outputs": [],
   "source": [
    "duke_disease = duke[['Sample']].rename(columns={'Sample': 'study_code'})"
   ]
  },
  {
   "cell_type": "code",
   "execution_count": 84,
   "id": "895309fd-25c6-47d9-8a8b-b0eec55698fb",
   "metadata": {},
   "outputs": [],
   "source": [
    "duke_disease['disease'] = 'control'"
   ]
  },
  {
   "cell_type": "code",
   "execution_count": 85,
   "id": "c8656ae2-d383-4faf-8f02-da921cb25b1b",
   "metadata": {},
   "outputs": [],
   "source": [
    "disease_info = pd.concat([disease_info, duke_disease])"
   ]
  },
  {
   "cell_type": "code",
   "execution_count": 86,
   "id": "905dbd10-e333-4780-abf3-c4b97dafeb73",
   "metadata": {},
   "outputs": [],
   "source": [
    "additional_info = pd.read_excel(os.path.join(data_path, \"pHTN_Data.xlsx\")).rename(\n",
    "    columns={'Sample': 'study_code'}\n",
    ")"
   ]
  },
  {
   "cell_type": "code",
   "execution_count": 87,
   "id": "5815e6f1-de33-43dc-9674-3b3ae649c065",
   "metadata": {},
   "outputs": [],
   "source": [
    "additional_info = additional_info[[\n",
    "    \"study_code\", 'cough', 'dyspnea'\n",
    "]]"
   ]
  },
  {
   "cell_type": "code",
   "execution_count": 88,
   "id": "5b9a4f99-fc0e-4c5d-a561-bd2ff93c2b26",
   "metadata": {},
   "outputs": [],
   "source": [
    "disease_info = disease_info.merge(additional_info, on=\"study_code\", how=\"left\")"
   ]
  },
  {
   "cell_type": "code",
   "execution_count": 86,
   "id": "7655799d-6112-4cee-b98d-667abbffeeef",
   "metadata": {},
   "outputs": [],
   "source": [
    "disease_info.to_csv(os.path.join(out_path, \"02_disease_info.csv\"))"
   ]
  },
  {
   "cell_type": "markdown",
   "id": "07371644-776d-4911-a991-9d9dafd996f5",
   "metadata": {},
   "source": [
    "### 3. Clinical info"
   ]
  },
  {
   "cell_type": "markdown",
   "id": "83901caf-bcce-4ff4-ad6b-73c7ecd6adbb",
   "metadata": {},
   "source": [
    "Includes recalculating FVC, FEV1, TLC"
   ]
  },
  {
   "cell_type": "code",
   "execution_count": 89,
   "id": "5f3aa8b3-eab0-4207-8eb0-dda15eab2ded",
   "metadata": {},
   "outputs": [],
   "source": [
    "clinical_info_columns = \"\"\"\n",
    "crp\n",
    "crp_date\n",
    "pft_ivc_meas\n",
    "pft_fvc_meas\n",
    "pft_fev1_meas\n",
    "pft_tlc_meas\n",
    "pft_fvc_pred\n",
    "pft_fev1_pred\n",
    "pft_dlco_meas\n",
    "pft_dlco_pred\n",
    "pft_tlc_pred\n",
    "pft_date\n",
    "monocyte_absolute\n",
    "monocyte_percentage\n",
    "monocyte_date\n",
    "\"\"\".strip().split(\"\\n\")"
   ]
  },
  {
   "cell_type": "code",
   "execution_count": 90,
   "id": "12b313fb-e37a-464f-9b40-e17e6fcb0829",
   "metadata": {},
   "outputs": [],
   "source": [
    "clin_info = redcap[base_columns + clinical_info_columns].copy()"
   ]
  },
  {
   "cell_type": "code",
   "execution_count": 91,
   "id": "3273dbfa-75c6-4a69-bdef-0fef26487cb2",
   "metadata": {},
   "outputs": [],
   "source": [
    "additional_info = pd.read_excel(os.path.join(data_path, \"pHTN_Data.xlsx\"))"
   ]
  },
  {
   "cell_type": "code",
   "execution_count": 92,
   "id": "e085878b-409b-496b-af5c-7114a2058a6e",
   "metadata": {},
   "outputs": [],
   "source": [
    "additional_info = additional_info[[\n",
    "    \"Sample\", \"TTE_date\", \"RVSP\", \"6MWD_date\", \"6MWD_pct\", \"6MWD_act\",\n",
    "    'k_score_gg', 'k_score_fib'\n",
    "]]"
   ]
  },
  {
   "cell_type": "code",
   "execution_count": 93,
   "id": "a1a49d1f-0f13-4349-b190-2f8626452804",
   "metadata": {},
   "outputs": [],
   "source": [
    "clin_info = clin_info.merge(additional_info, left_on=\"study_code\", right_on=\"Sample\", how=\"left\")"
   ]
  },
  {
   "cell_type": "code",
   "execution_count": 94,
   "id": "00229581-893b-4db4-aa99-0a5f6643fcb0",
   "metadata": {},
   "outputs": [],
   "source": [
    "clin_info.drop(columns=[\"Sample\"], inplace=True)"
   ]
  },
  {
   "cell_type": "code",
   "execution_count": 95,
   "id": "bb32b021-6b1a-4c9e-9fea-fd68cb0b96b8",
   "metadata": {},
   "outputs": [],
   "source": [
    "ssc_patients = disease_info.study_code[disease_info.disease.eq(\"SSc\")]"
   ]
  },
  {
   "cell_type": "code",
   "execution_count": 96,
   "id": "7a0625b5-c5b0-4b60-aa31-bd23a98ed253",
   "metadata": {},
   "outputs": [],
   "source": [
    "clin_info = clin_info.loc[clin_info.study_code.isin(ssc_patients)].copy()"
   ]
  },
  {
   "cell_type": "markdown",
   "id": "e3b9bfa7-4a72-4d12-aa9c-3e8a22a6d5e7",
   "metadata": {},
   "source": [
    "Keep rows where CRP or PFT data is present"
   ]
  },
  {
   "cell_type": "code",
   "execution_count": 97,
   "id": "899b48af-2d23-4722-84e5-3d39c3075dc1",
   "metadata": {},
   "outputs": [],
   "source": [
    "clin_info = clin_info.loc[\n",
    "    ~clin_info.crp.isna() | ~clin_info.pft_fvc_pred.isna()\n",
    "].copy()"
   ]
  },
  {
   "cell_type": "code",
   "execution_count": 98,
   "id": "76ec7109-08e4-4a03-8945-10e72d5b1891",
   "metadata": {},
   "outputs": [],
   "source": [
    "clin_info.rename(columns={\n",
    "    \"RVSP\": \"echo_rvsp\",\n",
    "    \"TTE_date\": \"tte_date\",\n",
    "    \"6MWD_pct\": \"6mwd_pct\",\n",
    "    \"6MWD_act\": \"6mwd_act\",\n",
    "    \"6MWD_date\": \"6mwd_date\"\n",
    "}, inplace=True)"
   ]
  },
  {
   "cell_type": "code",
   "execution_count": 99,
   "id": "904d02cb-4220-43ca-920d-319307d5887e",
   "metadata": {},
   "outputs": [],
   "source": [
    "clin_info.echo_rvsp = (\n",
    "    clin_info.echo_rvsp.astype(str).str.strip().str.replace(\n",
    "        \".\", \"\", regex=False\n",
    "    ).replace(\"\", np.nan).astype(float)\n",
    ")"
   ]
  },
  {
   "cell_type": "code",
   "execution_count": 100,
   "id": "d4fae4ae-7068-41c9-8c29-f0f2ab53a887",
   "metadata": {},
   "outputs": [],
   "source": [
    "clin_info[\"6mwd_pct\"] = (\n",
    "    clin_info[\"6mwd_pct\"].astype(str).str.strip().str.replace(\".\", \"\", regex=False).replace(\n",
    "        \"\",\n",
    "        np.nan\n",
    "    ).astype(float)\n",
    ")"
   ]
  },
  {
   "cell_type": "code",
   "execution_count": 101,
   "id": "16347a4a-2df5-4a61-8f56-f86921549b99",
   "metadata": {},
   "outputs": [],
   "source": [
    "clin_info[\"6mwd_act\"] = (\n",
    "    clin_info[\"6mwd_act\"].astype(str).str.strip().str.replace(\".\", \"\", regex=False).replace(\n",
    "        \"\",\n",
    "        np.nan\n",
    "    ).astype(float)\n",
    ")"
   ]
  },
  {
   "cell_type": "code",
   "execution_count": 102,
   "id": "8fd526c8-7f08-409d-b0d0-232cbcf66498",
   "metadata": {},
   "outputs": [],
   "source": [
    "clin_info[\"6mwd_date\"] = clin_info[\"6mwd_date\"].astype(str).str.strip().replace(\".\", \"\")"
   ]
  },
  {
   "cell_type": "code",
   "execution_count": 103,
   "id": "f1345e8b-b6fd-436a-bdb4-8c3fb0cb01e2",
   "metadata": {},
   "outputs": [],
   "source": [
    "yale_clinical_info_columns = \"\"\"\n",
    "crp\n",
    "crp_date\n",
    "pft_ivc_meas\n",
    "pft_fvc_meas\n",
    "pft_fev1_meas\n",
    "pft_tlc_meas\n",
    "pft_fvc_pred\n",
    "pft_fev1_pred\n",
    "pft_dlco_meas\n",
    "pft_dlco_pred\n",
    "pft_tlc_pred\n",
    "pft_date\n",
    "monocyte_absolute\n",
    "monocyte_percentage\n",
    "cbc_date\n",
    "pro_form_echo_q9\n",
    "pro_form_echo_q2\n",
    "\"\"\".strip().split(\"\\n\")"
   ]
  },
  {
   "cell_type": "code",
   "execution_count": 104,
   "id": "17941a8f-c705-452b-be6d-a2a0711c4802",
   "metadata": {},
   "outputs": [],
   "source": [
    "yale_clin_info = yale_data[yale_base_columns + yale_clinical_info_columns].copy()"
   ]
  },
  {
   "cell_type": "code",
   "execution_count": 105,
   "id": "098c068f-9f95-44ec-8541-dbe3f5c4ef6a",
   "metadata": {},
   "outputs": [],
   "source": [
    "yale_clin_info = yale_clin_info.loc[yale_clin_info.study_code.isin(ssc_patients)].copy()"
   ]
  },
  {
   "cell_type": "code",
   "execution_count": 106,
   "id": "81531e7d-54c4-4450-82d5-9f649c745dd8",
   "metadata": {},
   "outputs": [],
   "source": [
    "yale_clin_info = yale_clin_info.merge(\n",
    "    additional_info,\n",
    "    left_on=\"study_code\",\n",
    "    right_on=\"Sample\",\n",
    "    how=\"left\"\n",
    ")"
   ]
  },
  {
   "cell_type": "code",
   "execution_count": 107,
   "id": "67bc9500-cd37-4d13-84ec-221bc6aa8317",
   "metadata": {},
   "outputs": [],
   "source": [
    "yale_clin_info.drop(columns=[\"Sample\", \"RVSP\"], inplace=True)"
   ]
  },
  {
   "cell_type": "code",
   "execution_count": 108,
   "id": "e632a6bd-4567-4a19-992e-5f01dc3c4639",
   "metadata": {},
   "outputs": [],
   "source": [
    "yale_clin_info.rename(columns={\n",
    "    \"pro_form_echo_q9\": \"echo_rvsp\",\n",
    "    \"pro_form_echo_q2\": \"tte_date\",\n",
    "    \"6MWD_pct\": \"6mwd_pct\",\n",
    "    \"6MWD_act\": \"6mwd_act\",\n",
    "    \"6MWD_date\": \"6mwd_date\",\n",
    "    \"cbc_date\": \"monocyte_date\"\n",
    "}, inplace=True)"
   ]
  },
  {
   "cell_type": "code",
   "execution_count": 109,
   "id": "ffd6e11f-5c5a-498d-87de-18b3afdb9681",
   "metadata": {},
   "outputs": [],
   "source": [
    "yale_clin_info.echo_rvsp = yale_clin_info.echo_rvsp.str.replace(\n",
    "    \"mmHg\", \"\", regex=False\n",
    ").str.strip().astype(float)"
   ]
  },
  {
   "cell_type": "code",
   "execution_count": 110,
   "id": "7c5b6d4b-e065-4e0c-8685-661b07b7a0a0",
   "metadata": {},
   "outputs": [],
   "source": [
    "yale_clin_info[\"6mwd_pct\"] = yale_clin_info[\"6mwd_pct\"].astype(float)"
   ]
  },
  {
   "cell_type": "code",
   "execution_count": 111,
   "id": "cb786348-3791-4f86-b362-6a6f62155d53",
   "metadata": {},
   "outputs": [],
   "source": [
    "yale_clin_info[\"6mwd_act\"] = yale_clin_info[\"6mwd_act\"].astype(float)"
   ]
  },
  {
   "cell_type": "markdown",
   "id": "a0bc067b-59d1-4ad6-ac24-ba473b344943",
   "metadata": {},
   "source": [
    "Keep rows where CRP or PFT data is present"
   ]
  },
  {
   "cell_type": "code",
   "execution_count": 112,
   "id": "eb426a54-a905-49ef-98bc-120f69cef761",
   "metadata": {},
   "outputs": [],
   "source": [
    "yale_clin_info = yale_clin_info.loc[\n",
    "    ~yale_clin_info.crp.isna() | ~yale_clin_info.pft_fvc_pred.isna()\n",
    "].copy()"
   ]
  },
  {
   "cell_type": "code",
   "execution_count": 113,
   "id": "ff9d5b56-c1e5-4203-9873-cfd8cf1a0a3d",
   "metadata": {},
   "outputs": [],
   "source": [
    "yale_clin_info.monocyte_percentage = yale_clin_info.monocyte_percentage.str.replace(\"%\", \"\").astype(float)"
   ]
  },
  {
   "cell_type": "code",
   "execution_count": 114,
   "id": "1ce7ee62-cf9c-43ac-a2b7-3b40ad300d2c",
   "metadata": {},
   "outputs": [],
   "source": [
    "clin_info = pd.concat(\n",
    "    [clin_info, yale_clin_info]\n",
    ")[clin_info.columns].reset_index(drop=True)"
   ]
  },
  {
   "cell_type": "code",
   "execution_count": 115,
   "id": "b7a307e9-7fdb-4a06-a6d4-57d7ba88f35d",
   "metadata": {},
   "outputs": [],
   "source": [
    "for col in (\"crp_date\", \"pft_date\", \"monocyte_date\", \"tte_date\", \"6mwd_date\"):\n",
    "    clin_info[col] = pd.to_datetime(clin_info[col], format='mixed', infer_datetime_format=True)"
   ]
  },
  {
   "cell_type": "code",
   "execution_count": 116,
   "id": "eb201cc8-e519-419c-8892-9038aec95b38",
   "metadata": {},
   "outputs": [],
   "source": [
    "clin_info['fev1_fvc'] = 100 * clin_info.pft_fev1_meas / clin_info.pft_fvc_meas"
   ]
  },
  {
   "cell_type": "code",
   "execution_count": 117,
   "id": "93041a69-dea5-4423-a8ed-5c0a2b668cf6",
   "metadata": {},
   "outputs": [],
   "source": [
    "clin_info['dlco_ratio'] = clin_info.pft_ivc_meas / clin_info.pft_fvc_meas"
   ]
  },
  {
   "cell_type": "markdown",
   "id": "d52ba851-8803-4c4f-8321-c3b1d83e71df",
   "metadata": {},
   "source": [
    "Recalculate PFT with new GLI calculator"
   ]
  },
  {
   "cell_type": "code",
   "execution_count": 118,
   "id": "ae0fc5a3-0620-4847-bc07-b743316867c7",
   "metadata": {},
   "outputs": [],
   "source": [
    "pft_calc = clin_info.merge(pt_info, on='study_code')"
   ]
  },
  {
   "cell_type": "code",
   "execution_count": 119,
   "id": "bdff7078-8d93-42e0-9af1-797705e176fb",
   "metadata": {},
   "outputs": [],
   "source": [
    "idx = pft_calc.year_of_birth.notna()\n",
    "pft_calc.loc[idx, 'year_of_birth'] = pd.to_datetime(\n",
    "    pft_calc.year_of_birth[idx].astype(int).astype(str) + '-01-01'\n",
    ")\n",
    "pft_calc['year_of_birth'] = pd.to_datetime(pft_calc.year_of_birth)"
   ]
  },
  {
   "cell_type": "code",
   "execution_count": 120,
   "id": "e8e9485c-5317-4ad9-a922-35f7767fb24f",
   "metadata": {},
   "outputs": [],
   "source": [
    "pft_calc.pft_date = pd.to_datetime(pft_calc.pft_date)"
   ]
  },
  {
   "cell_type": "code",
   "execution_count": 121,
   "id": "1034a40b-51bd-46b0-9b77-8ba3744cd954",
   "metadata": {},
   "outputs": [],
   "source": [
    "pft_calc['pft_age'] = (pft_calc.pft_date - pft_calc.year_of_birth).dt.days / 365"
   ]
  },
  {
   "cell_type": "code",
   "execution_count": 122,
   "id": "92ae20d2-cce5-4f81-b797-718354cb385f",
   "metadata": {},
   "outputs": [],
   "source": [
    "pft_calc['tlc_pred'] = gli_calc.tlc_percent_predicted(\n",
    "    pft_calc.sex.str.lower(),\n",
    "    pft_calc.pft_age,\n",
    "    pft_calc.height,\n",
    "    pft_calc.pft_tlc_meas\n",
    ")"
   ]
  },
  {
   "cell_type": "code",
   "execution_count": 123,
   "id": "48e91fd4-a70d-4ee1-81f8-297bc49c68a7",
   "metadata": {},
   "outputs": [],
   "source": [
    "pft_calc['fev1_pred'] = gli_calc.fev1_percent_predicted(\n",
    "    pft_calc.sex.str.lower(),\n",
    "    pft_calc.pft_age,\n",
    "    pft_calc.height,\n",
    "    pft_calc.pft_fev1_meas\n",
    ")"
   ]
  },
  {
   "cell_type": "code",
   "execution_count": 124,
   "id": "9f2b07e6-8bab-4647-a3ff-e3cc18b9c7ed",
   "metadata": {},
   "outputs": [],
   "source": [
    "pft_calc['fvc_pred'] = gli_calc.fvc_percent_predicted(\n",
    "    pft_calc.sex.str.lower(),\n",
    "    pft_calc.pft_age,\n",
    "    pft_calc.height,\n",
    "    pft_calc.pft_fvc_meas\n",
    ")"
   ]
  },
  {
   "cell_type": "code",
   "execution_count": 125,
   "id": "b541bb32-28b4-4998-b2c0-adfd7bbab869",
   "metadata": {},
   "outputs": [],
   "source": [
    "pft_calc['dlco_pred'] = gli_calc.dlco_percent_predicted(\n",
    "    pft_calc.sex.str.lower(),\n",
    "    pft_calc.pft_age,\n",
    "    pft_calc.height,\n",
    "    pft_calc.pft_dlco_meas\n",
    ")"
   ]
  },
  {
   "cell_type": "code",
   "execution_count": 138,
   "id": "cc68cf0f-901c-4e7e-9263-39e6af5845ee",
   "metadata": {},
   "outputs": [],
   "source": [
    "df = pft_calc.reset_index()[[\n",
    "    'index', 'study_code', 'tlc_pred', 'pft_tlc_pred',\n",
    "    'fev1_pred', 'pft_fev1_pred',\n",
    "    'fvc_pred', 'pft_fvc_pred',\n",
    "    'dlco_pred', 'pft_dlco_pred'\n",
    "]]\n",
    "df['index'] = df['index'].astype(str) + '_' + df.study_code\n",
    "df = df.drop(columns='study_code').rename(columns={\n",
    "    'tlc_pred': 'TLC new',\n",
    "    'pft_tlc_pred': 'TLC old',\n",
    "    'fev1_pred': 'FEV1 new',\n",
    "    'pft_fev1_pred': 'FEV1 old',\n",
    "    'fvc_pred': 'FVC new',\n",
    "    'pft_fvc_pred': 'FVC old',\n",
    "    'dlco_pred': 'DLCO new',\n",
    "    'pft_dlco_pred': 'DLCO old'\n",
    "}).melt(\n",
    "    id_vars='index',\n",
    ")"
   ]
  },
  {
   "cell_type": "code",
   "execution_count": 139,
   "id": "b3fcb2a9",
   "metadata": {},
   "outputs": [],
   "source": [
    "df['Patient_id'] = df['index'].str.split('_').str[1:].str.join('_')\n",
    "df = df.merge(\n",
    "    paper_ids[['Patient_id', 'Publication ID']].rename(columns={'Publication ID': 'paper_id'}),\n",
    "    on='Patient_id',\n",
    "    how='left'\n",
    ")\n",
    "df['index'] = df['index'].str.split('_').str[0] + '_' + df['paper_id']"
   ]
  },
  {
   "cell_type": "code",
   "execution_count": 140,
   "id": "010b3586-c63f-42df-9cb6-5da317474826",
   "metadata": {},
   "outputs": [
    {
     "data": {
      "image/png": "[encoded data removed]",
      "text/plain": [
       "<Figure size 1200x400 with 1 Axes>"
      ]
     },
     "metadata": {
      "image/png": {
       "height": 411,
       "width": 1211
      }
     },
     "output_type": "display_data"
    }
   ],
   "source": [
    "fig, ax = plt.subplots(figsize=(12, 4), constrained_layout=True)\n",
    "sns.barplot(\n",
    "    data=df.dropna(),\n",
    "    x='index',\n",
    "    y='value',\n",
    "    hue='variable',\n",
    "    palette=['dimgray', 'coral'],\n",
    ")\n",
    "ax.legend_.set_bbox_to_anchor((1, 1))\n",
    "trans = mpl.transforms.Affine2D().translate(6, 0)\n",
    "for t in ax.get_xticklabels():\n",
    "    t.set_rotation(45)\n",
    "    t.set_ha('right')\n",
    "    t.set_transform(t.get_transform() + trans)\n",
    "fig.savefig('01_pft_calc.pdf')"
   ]
  },
  {
   "cell_type": "code",
   "execution_count": 141,
   "id": "61fe5ad0-607d-4472-8e96-1048310115a7",
   "metadata": {},
   "outputs": [],
   "source": [
    "clin_info['fvc_pred'] = pft_calc.fvc_pred\n",
    "clin_info['fev1_pred'] = pft_calc.fev1_pred\n",
    "clin_info['tlc_pred'] = pft_calc.tlc_pred\n",
    "clin_info['dlco_pred'] = pft_calc.dlco_pred"
   ]
  },
  {
   "cell_type": "code",
   "execution_count": 142,
   "id": "27c9b2cf-2c18-4861-ba87-51ef488adba5",
   "metadata": {},
   "outputs": [],
   "source": [
    "hrct_scoring_all = pd.read_csv(os.path.join(data_path, 'hrct_scoring_all.csv'))\n",
    "hrct_scoring_all.study_code = hrct_scoring_all.study_code.str.strip()"
   ]
  },
  {
   "cell_type": "code",
   "execution_count": 143,
   "id": "e9bc37a3-f60d-4e4a-88dc-e2ad577ef0c2",
   "metadata": {},
   "outputs": [],
   "source": [
    "hrct_scoring = hrct_scoring_all.groupby('study_code').agg({\n",
    "    'ggo_score': 'mean',\n",
    "    'fib_score': 'mean'\n",
    "}).reset_index()"
   ]
  },
  {
   "cell_type": "code",
   "execution_count": 144,
   "id": "cdf3217b-4c67-4d39-8511-6e63f342cd04",
   "metadata": {},
   "outputs": [],
   "source": [
    "clin_info = clin_info.merge(hrct_scoring, on='study_code', how='left').drop(\n",
    "    columns=['k_score_gg', 'k_score_fib']\n",
    ").rename(columns={'ggo_score': 'k_score_ggo', 'fib_score': 'k_score_fib'})"
   ]
  },
  {
   "cell_type": "markdown",
   "id": "bb727a82-b8c8-436e-ba2b-b90192925d74",
   "metadata": {},
   "source": [
    "### Now add bronched lobe Kazerooni for each patient"
   ]
  },
  {
   "cell_type": "markdown",
   "id": "f35b242a-819b-48b5-89e5-cc1ee111e7a9",
   "metadata": {},
   "source": [
    "To get the bronched lobe, we need sample table"
   ]
  },
  {
   "cell_type": "code",
   "execution_count": 145,
   "id": "a9f1a388-dbcc-49cc-a398-024d1b3b399d",
   "metadata": {},
   "outputs": [],
   "source": [
    "clin_info['Sample'] = clin_info.study_code.copy()\n",
    "idx = clin_info.redcap_event_name.eq('follow_up_arm_1')\n",
    "clin_info.loc[idx, 'Sample'] += '_followup'"
   ]
  },
  {
   "cell_type": "code",
   "execution_count": 146,
   "id": "45194e18-f0c3-47ce-ac6f-9633a15dfd2d",
   "metadata": {},
   "outputs": [
    {
     "data": {
      "text/plain": [
       "9"
      ]
     },
     "execution_count": 146,
     "metadata": {},
     "output_type": "execute_result"
    }
   ],
   "source": [
    "samples.Sample.isin(clin_info.Sample).sum()"
   ]
  },
  {
   "cell_type": "markdown",
   "id": "fd3be22a-a775-4852-b40e-73c017851fb5",
   "metadata": {},
   "source": [
    "We're missing 1 followup sample, but it's ok, since this sample has the same location as the main one for this patient, and since we will be reporting just 1 HRCT per patient, and HRCT is closer to baseline sample"
   ]
  },
  {
   "cell_type": "code",
   "execution_count": 147,
   "id": "087a999d-67f0-476a-8f3e-b77035e08c65",
   "metadata": {},
   "outputs": [],
   "source": [
    "clin_info = clin_info.merge(samples[['Sample', 'Tissue location']], on='Sample', how='left')"
   ]
  },
  {
   "cell_type": "code",
   "execution_count": 148,
   "id": "f4055c4c-9fe5-44b3-bb54-e845d65f1381",
   "metadata": {},
   "outputs": [
    {
     "data": {
      "text/plain": [
       "(20, 33)"
      ]
     },
     "execution_count": 148,
     "metadata": {},
     "output_type": "execute_result"
    }
   ],
   "source": [
    "clin_info.shape"
   ]
  },
  {
   "cell_type": "code",
   "execution_count": 149,
   "id": "98ada96d-283b-4a01-8eee-476ce4b8f5dc",
   "metadata": {},
   "outputs": [],
   "source": [
    "clin_info = clin_info.merge(\n",
    "    hrct_scoring_all[['study_code', 'lobe', 'ggo_score', 'fib_score']],\n",
    "    left_on=['study_code', 'Tissue location'],\n",
    "    right_on=['study_code', 'lobe'],\n",
    "    how='left'\n",
    ").rename(columns={'ggo_score': 'lobe_ggo_score', 'fib_score': 'lobe_fib_score'}).drop(\n",
    "    columns=['Sample', 'Tissue location', 'lobe']\n",
    ")"
   ]
  },
  {
   "cell_type": "code",
   "execution_count": 143,
   "id": "892e4c38-9d29-427b-9137-959a7a47bf73",
   "metadata": {},
   "outputs": [],
   "source": [
    "clin_info.to_csv(os.path.join(out_path, \"03_clin_info.csv\"))"
   ]
  },
  {
   "cell_type": "markdown",
   "id": "7bf29935-0639-4a9d-bf78-51decd241bc8",
   "metadata": {},
   "source": [
    "### 4. Medications"
   ]
  },
  {
   "cell_type": "code",
   "execution_count": 150,
   "id": "ff62e122-2e3b-4e66-8ad3-0d34caea63d8",
   "metadata": {},
   "outputs": [],
   "source": [
    "meds_columns = \"\"\"\n",
    "cv_med_mmf_v2\n",
    "cv_med_pred_v2\n",
    "pred_dose\n",
    "cv_med_rtx_v2\n",
    "\"\"\".strip().split(\"\\n\")"
   ]
  },
  {
   "cell_type": "code",
   "execution_count": 151,
   "id": "8ac209dd-e9b4-4e88-9e3a-6984fc042919",
   "metadata": {},
   "outputs": [],
   "source": [
    "meds_info = redcap[base_columns + meds_columns].copy()"
   ]
  },
  {
   "cell_type": "code",
   "execution_count": 152,
   "id": "5c29475f-d228-45df-904e-999280118477",
   "metadata": {},
   "outputs": [],
   "source": [
    "meds_info = meds_info.loc[~meds_info.cv_med_mmf_v2.isna()].copy()"
   ]
  },
  {
   "cell_type": "code",
   "execution_count": 153,
   "id": "23908c58-7f1c-499d-a25c-dc9087997891",
   "metadata": {},
   "outputs": [],
   "source": [
    "meds_info.cv_med_mmf_v2 = meds_info.cv_med_mmf_v2.astype(bool)\n",
    "meds_info.cv_med_pred_v2 = meds_info.cv_med_pred_v2.astype(bool)\n",
    "meds_info.cv_med_rtx_v2 = meds_info.cv_med_rtx_v2.astype(bool)"
   ]
  },
  {
   "cell_type": "markdown",
   "id": "abafd035-6c47-411f-a98d-cde6b8c061e6",
   "metadata": {},
   "source": [
    "Check that values at baseline and followup are all the same"
   ]
  },
  {
   "cell_type": "code",
   "execution_count": 154,
   "id": "9da1bf42-7bc3-4cf1-ab41-4a10cd1a2baa",
   "metadata": {},
   "outputs": [
    {
     "data": {
      "text/html": [
       "<div>\n",
       "<style scoped>\n",
       "    .dataframe tbody tr th:only-of-type {\n",
       "        vertical-align: middle;\n",
       "    }\n",
       "\n",
       "    .dataframe tbody tr th {\n",
       "        vertical-align: top;\n",
       "    }\n",
       "\n",
       "    .dataframe thead th {\n",
       "        text-align: right;\n",
       "    }\n",
       "</style>\n",
       "<table border=\"1\" class=\"dataframe\">\n",
       "  <thead>\n",
       "    <tr style=\"text-align: right;\">\n",
       "      <th></th>\n",
       "    </tr>\n",
       "  </thead>\n",
       "  <tbody>\n",
       "  </tbody>\n",
       "</table>\n",
       "</div>"
      ],
      "text/plain": [
       "Empty DataFrame\n",
       "Columns: []\n",
       "Index: []"
      ]
     },
     "execution_count": 154,
     "metadata": {},
     "output_type": "execute_result"
    }
   ],
   "source": [
    "def check_meds_baseline_followup(df):\n",
    "    if df.shape[0] < 2:\n",
    "        return\n",
    "    for c in meds_columns:\n",
    "        assert df[c].nunique() <= 1, f\"column {c} has more than 1 value for {df.study_code}\"\n",
    "\n",
    "meds_info.groupby(\"study_code\").apply(check_meds_baseline_followup)"
   ]
  },
  {
   "cell_type": "code",
   "execution_count": 155,
   "id": "8f55327b-f0a1-464b-b086-a89cbd95c980",
   "metadata": {},
   "outputs": [],
   "source": [
    "meds_info = meds_info.loc[meds_info.redcap_event_name.eq(\"baseline_arm_1\")].copy()"
   ]
  },
  {
   "cell_type": "code",
   "execution_count": 156,
   "id": "04699cd1-c420-41db-aa96-50f6fd3c603f",
   "metadata": {},
   "outputs": [],
   "source": [
    "meds_info.drop(columns=[\"redcap_event_name\", \"redcap_repeat_instance\"], inplace=True)"
   ]
  },
  {
   "cell_type": "code",
   "execution_count": 157,
   "id": "5d52659e-250e-4641-949f-a0261f7567da",
   "metadata": {},
   "outputs": [
    {
     "data": {
      "text/plain": [
       "(8, 5)"
      ]
     },
     "execution_count": 157,
     "metadata": {},
     "output_type": "execute_result"
    }
   ],
   "source": [
    "meds_info.shape"
   ]
  },
  {
   "cell_type": "code",
   "execution_count": 158,
   "id": "0d7d87e3-e1dc-479a-9692-042478bc3409",
   "metadata": {},
   "outputs": [],
   "source": [
    "yale_meds_columns = \"\"\"\n",
    "cv_med_mmf_v2\n",
    "cv_med_pred_v2\n",
    "pred_dose_freq\n",
    "cv_med_rtx_v2\n",
    "\"\"\".strip().split(\"\\n\")"
   ]
  },
  {
   "cell_type": "code",
   "execution_count": 159,
   "id": "c1891e2a-0810-4483-9831-728ee35c871c",
   "metadata": {},
   "outputs": [
    {
     "data": {
      "text/plain": [
       "0"
      ]
     },
     "execution_count": 159,
     "metadata": {},
     "output_type": "execute_result"
    }
   ],
   "source": [
    "yale_data.columns.str.contains('actemra').sum()"
   ]
  },
  {
   "cell_type": "code",
   "execution_count": 160,
   "id": "02b2bf5b-709b-43b0-8bfd-3d993e064709",
   "metadata": {},
   "outputs": [],
   "source": [
    "yale_meds_info = yale_data[yale_base_columns + yale_meds_columns].copy()"
   ]
  },
  {
   "cell_type": "code",
   "execution_count": 161,
   "id": "c6739407-d454-4b8a-ae2a-6bb606774a56",
   "metadata": {},
   "outputs": [],
   "source": [
    "yale_meds_info = yale_meds_info.loc[~yale_meds_info.cv_med_mmf_v2.isna()].copy()"
   ]
  },
  {
   "cell_type": "code",
   "execution_count": 162,
   "id": "1df26816-de5c-41d0-9456-62dac130c704",
   "metadata": {},
   "outputs": [],
   "source": [
    "yale_meds_info.cv_med_mmf_v2 = yale_meds_info.cv_med_mmf_v2.astype(bool)\n",
    "yale_meds_info.cv_med_pred_v2 = yale_meds_info.cv_med_pred_v2.astype(bool)\n",
    "yale_meds_info.cv_med_rtx_v2 = yale_meds_info.cv_med_rtx_v2.astype(bool)"
   ]
  },
  {
   "cell_type": "code",
   "execution_count": 163,
   "id": "cd2733b1-816c-445c-8dc8-5d26413ccd59",
   "metadata": {},
   "outputs": [],
   "source": [
    "yale_meds_info.rename(columns={\"pred_dose_freq\": \"pred_dose\"}, inplace=True)"
   ]
  },
  {
   "cell_type": "code",
   "execution_count": 164,
   "id": "44a717df-f314-4bc0-9279-6ab2d372acbd",
   "metadata": {},
   "outputs": [],
   "source": [
    "meds_info = pd.concat(\n",
    "    [meds_info, yale_meds_info]\n",
    ")[meds_info.columns].reset_index(drop=True)"
   ]
  },
  {
   "cell_type": "code",
   "execution_count": 142,
   "id": "092dbc0a-1183-4200-b00e-863308252855",
   "metadata": {},
   "outputs": [],
   "source": [
    "meds_info.to_csv(os.path.join(out_path, \"04_meds_info.csv\"))"
   ]
  },
  {
   "cell_type": "markdown",
   "id": "f955cafb-218e-491e-a2bc-4c6a480eeb5b",
   "metadata": {},
   "source": [
    "### 5. Timeline dates\n",
    "\n",
    "Let's put this in a table of: patient, event, date"
   ]
  },
  {
   "cell_type": "code",
   "execution_count": 165,
   "id": "a3c5cf35-e5e5-4cca-8192-0f5cff13def8",
   "metadata": {},
   "outputs": [],
   "source": [
    "date_columns = \"\"\"\n",
    "ssc_raynaud_date\n",
    "ssc_nonraynaud_date\n",
    "mrss_date\n",
    "diagnosis_date\n",
    "crp_date\n",
    "mmf_bronch_start_date\n",
    "pft_date\n",
    "hrct_date\n",
    "bronch_date\n",
    "monocyte_date\n",
    "\"\"\".strip().split(\"\\n\")"
   ]
  },
  {
   "cell_type": "code",
   "execution_count": 166,
   "id": "1a8f3751-b4d3-482d-a36d-c917f479f53d",
   "metadata": {},
   "outputs": [],
   "source": [
    "date_info = redcap[base_columns + date_columns].copy()"
   ]
  },
  {
   "cell_type": "code",
   "execution_count": 167,
   "id": "48f0d87e-39af-468f-8541-9a54526714db",
   "metadata": {},
   "outputs": [],
   "source": [
    "yale_date_columns = \"\"\"\n",
    "ssc_raynaud_date\n",
    "ssc_nonraynaud_date\n",
    "mrss_date\n",
    "diagnosis_date\n",
    "crp_date\n",
    "mmf_bronch_start_date\n",
    "pft_date\n",
    "hrct_date\n",
    "pro_form_bronch_q3_7f420c\n",
    "cbc_date\n",
    "pro_form_echo_q2\n",
    "\"\"\".strip().split(\"\\n\")"
   ]
  },
  {
   "cell_type": "code",
   "execution_count": 168,
   "id": "24b79aff-95c8-4de4-843a-77beb8d75d35",
   "metadata": {},
   "outputs": [],
   "source": [
    "yale_date_info = yale_data[yale_base_columns + yale_date_columns].copy()"
   ]
  },
  {
   "cell_type": "code",
   "execution_count": 169,
   "id": "9d9bddcd-d63b-4fd3-9476-f5574d3db551",
   "metadata": {},
   "outputs": [],
   "source": [
    "yale_date_info.rename(columns={\n",
    "    \"pro_form_bronch_q3_7f420c\": \"bronch_date\",\n",
    "    \"cbc_date\": \"monocyte_date\",\n",
    "    \"pro_form_echo_q2\": \"tte_date\"\n",
    "}, inplace=True)"
   ]
  },
  {
   "cell_type": "code",
   "execution_count": 170,
   "id": "43c7be1a-5cee-4ebf-b644-22062a07303e",
   "metadata": {},
   "outputs": [],
   "source": [
    "idx = ~yale_date_info.ssc_raynaud_date.isna()\n",
    "yale_date_info.loc[idx, \"ssc_raynaud_date\"] = (\n",
    "    yale_date_info.ssc_raynaud_date[idx].astype(int).astype(str) + \"-01-01\"\n",
    ")\n",
    "idx = ~yale_date_info.ssc_nonraynaud_date.isna()\n",
    "yale_date_info.loc[idx, \"ssc_nonraynaud_date\"] = (\n",
    "    yale_date_info.ssc_nonraynaud_date[idx].astype(int).astype(str) + \"-01-01\"\n",
    ")"
   ]
  },
  {
   "cell_type": "code",
   "execution_count": 171,
   "id": "7c0e234b-117d-43cb-8385-e8d0ad5b2e90",
   "metadata": {},
   "outputs": [],
   "source": [
    "date_info = pd.concat(\n",
    "    [date_info, yale_date_info]\n",
    ")[date_info.columns].reset_index(drop=True)"
   ]
  },
  {
   "cell_type": "code",
   "execution_count": 172,
   "id": "76d8adfb-83fe-411e-9d9c-7f638e7968a5",
   "metadata": {},
   "outputs": [],
   "source": [
    "date_info = date_info.melt(\n",
    "    id_vars=[\"study_code\", \"redcap_event_name\", \"redcap_repeat_instance\"],\n",
    "    var_name=\"event\",\n",
    "    value_name=\"date\"\n",
    ")"
   ]
  },
  {
   "cell_type": "code",
   "execution_count": 173,
   "id": "3d1fd6bd-31fb-48be-9f12-bbc4e1e2766e",
   "metadata": {},
   "outputs": [],
   "source": [
    "date_info = date_info.loc[~date_info.date.isna()].copy()"
   ]
  },
  {
   "cell_type": "code",
   "execution_count": 174,
   "id": "779c8598-8d91-4f7e-8419-6e72de394183",
   "metadata": {},
   "outputs": [],
   "source": [
    "date_info.date = pd.to_datetime(date_info.date, format='mixed', infer_datetime_format=True)"
   ]
  },
  {
   "cell_type": "markdown",
   "id": "6bff2394-2dbe-4602-81e4-e320280317f5",
   "metadata": {},
   "source": [
    "Load dates manually sent by Anthony, which include ILD diagnosis date (year)"
   ]
  },
  {
   "cell_type": "code",
   "execution_count": 175,
   "id": "05b739d0-a748-494b-a79e-771deeadbac9",
   "metadata": {},
   "outputs": [],
   "source": [
    "anthony_dates = pd.read_excel(os.path.join(data_path, \"clin-dates_AJE_deintified.xlsx\"), index_col=0)"
   ]
  },
  {
   "cell_type": "code",
   "execution_count": 176,
   "id": "1afbc34c-e6ff-4ee2-a507-6cf8495c90f3",
   "metadata": {},
   "outputs": [],
   "source": [
    "anthony_dates = anthony_dates[[\n",
    "    \"Participant ID\",\n",
    "    \"Event Name\",\n",
    "    \"Date of bronchoscopy\",\n",
    "    \"Date of PFT\",\n",
    "    \"Date of ILD Diagnosis\",\n",
    "    \"Date of HRCT\",\n",
    "]]"
   ]
  },
  {
   "cell_type": "code",
   "execution_count": 177,
   "id": "8a4d030c-4a8d-4e4a-9bd6-cf73ad7438bc",
   "metadata": {},
   "outputs": [],
   "source": [
    "anthony_dates.rename(columns={\n",
    "    \"Participant ID\": \"study_code\",\n",
    "    \"Event Name\": \"redcap_event_name\",\n",
    "    \"Date of bronchoscopy\": \"bronch_date\",\n",
    "    \"Date of PFT\": \"pft_date\",\n",
    "    \"Date of ILD Diagnosis\": \"ild_diag_date\",\n",
    "    \"Date of HRCT\": \"hrct_date\"\n",
    "}, inplace=True)"
   ]
  },
  {
   "cell_type": "code",
   "execution_count": 178,
   "id": "b97428d9-a089-45ef-bbad-3575276d1808",
   "metadata": {},
   "outputs": [],
   "source": [
    "anthony_dates = anthony_dates.loc[anthony_dates.study_code.isin(ssc_patients)].copy()"
   ]
  },
  {
   "cell_type": "code",
   "execution_count": 179,
   "id": "2dbb958c-1203-4e8f-b48d-d06fa0110d19",
   "metadata": {},
   "outputs": [],
   "source": [
    "anthony_dates = anthony_dates.melt(\n",
    "    id_vars=[\"study_code\", \"redcap_event_name\"],\n",
    "    var_name=\"event\",\n",
    "    value_name=\"date\"\n",
    ")"
   ]
  },
  {
   "cell_type": "code",
   "execution_count": 180,
   "id": "4038a17c-57f7-4781-93b1-7656b6a41f56",
   "metadata": {},
   "outputs": [],
   "source": [
    "anthony_dates.loc[anthony_dates.date.eq(\".\"), \"date\"] = np.nan"
   ]
  },
  {
   "cell_type": "code",
   "execution_count": 181,
   "id": "d00e8433-0603-4b29-a415-9373d6b5037c",
   "metadata": {},
   "outputs": [],
   "source": [
    "anthony_dates = anthony_dates.loc[~anthony_dates.date.isna()].copy()"
   ]
  },
  {
   "cell_type": "code",
   "execution_count": 182,
   "id": "08c66723-a77f-4e0d-b24a-14da724e3134",
   "metadata": {},
   "outputs": [],
   "source": [
    "idx = anthony_dates.event.eq(\"ild_diag_date\")\n",
    "anthony_dates.loc[idx, \"date\"] = anthony_dates.date[idx].astype(int).astype(str) + \"-01-01\""
   ]
  },
  {
   "cell_type": "code",
   "execution_count": 183,
   "id": "be51bedd-590c-4b75-9588-23000ddd7c6d",
   "metadata": {},
   "outputs": [],
   "source": [
    "anthony_dates.date = pd.to_datetime(anthony_dates.date)"
   ]
  },
  {
   "cell_type": "code",
   "execution_count": 184,
   "id": "e2ba0ad2-59d8-4367-898c-5b642abfc9de",
   "metadata": {},
   "outputs": [],
   "source": [
    "anthony_dates.redcap_event_name = anthony_dates.redcap_event_name.str.strip().map({\n",
    "    \"Baseline\": \"baseline_arm_1\",\n",
    "    \"Follow up\": \"follow_up_arm_1\",\n",
    "    \"Longitudinal Data\": \"longitudinal_data_arm_1\",\n",
    "})"
   ]
  },
  {
   "cell_type": "markdown",
   "id": "8110c53d-b474-4974-9c78-079f916004dc",
   "metadata": {},
   "source": [
    "Let's verify that all dates from Anthony are the same"
   ]
  },
  {
   "cell_type": "code",
   "execution_count": 185,
   "id": "c4573fc2-f3e3-4473-8ee4-b80b3735cdc2",
   "metadata": {},
   "outputs": [
    {
     "data": {
      "text/plain": [
       "(39, 4)"
      ]
     },
     "execution_count": 185,
     "metadata": {},
     "output_type": "execute_result"
    }
   ],
   "source": [
    "anthony_dates.shape"
   ]
  },
  {
   "cell_type": "markdown",
   "id": "14ed916f-0fb5-4c35-94f1-8dea3b6e7126",
   "metadata": {},
   "source": [
    "Manual inspection shows the same below"
   ]
  },
  {
   "cell_type": "code",
   "execution_count": 186,
   "id": "81647f3e-3012-44db-8efb-3ef4ccfaeb0b",
   "metadata": {},
   "outputs": [],
   "source": [
    "# anthony_dates.merge(\n",
    "#     date_info,\n",
    "#     on=[\"study_code\", \"redcap_event_name\", \"event\"],\n",
    "#     how=\"left\"\n",
    "# )"
   ]
  },
  {
   "cell_type": "markdown",
   "id": "dfccf4be-eff2-44cb-9992-d01be3580b88",
   "metadata": {},
   "source": [
    "Let's add ILD diagnosis date"
   ]
  },
  {
   "cell_type": "code",
   "execution_count": 187,
   "id": "d716b605-72dc-43d7-9bfe-14712a1b5009",
   "metadata": {},
   "outputs": [],
   "source": [
    "date_info = pd.concat([date_info, anthony_dates.loc[anthony_dates.event.eq(\"ild_diag_date\")]])"
   ]
  },
  {
   "cell_type": "code",
   "execution_count": 188,
   "id": "ec83585a-40f6-40e3-88ac-439a79bde0cf",
   "metadata": {},
   "outputs": [],
   "source": [
    "additional_info = pd.read_excel(os.path.join(data_path, \"pHTN_Data.xlsx\"))"
   ]
  },
  {
   "cell_type": "code",
   "execution_count": 189,
   "id": "13f74f8c-0f9c-4dd5-b96f-e6d78abdac44",
   "metadata": {},
   "outputs": [],
   "source": [
    "additional_info = additional_info[[\"Sample\", \"6MWD_date\", \"TTE_date\"]]"
   ]
  },
  {
   "cell_type": "code",
   "execution_count": 190,
   "id": "7e48320f-5a92-4639-983a-4b671c0cee45",
   "metadata": {},
   "outputs": [],
   "source": [
    "additional_info.rename(columns={\n",
    "    \"Sample\": \"study_code\",\n",
    "    \"6MWD_date\": \"6mwd_date\",\n",
    "    \"TTE_date\": \"tte_date\"\n",
    "}, inplace=True)"
   ]
  },
  {
   "cell_type": "code",
   "execution_count": 191,
   "id": "f3d40133-ffe2-4d0b-b6a5-b1e17b73a0e7",
   "metadata": {},
   "outputs": [],
   "source": [
    "additional_info = additional_info.melt(\n",
    "    id_vars=[\"study_code\"],\n",
    "    var_name=\"event\",\n",
    "    value_name=\"date\"\n",
    ")"
   ]
  },
  {
   "cell_type": "code",
   "execution_count": 192,
   "id": "a0611ea6-6752-4b60-a6a7-46fa01864839",
   "metadata": {},
   "outputs": [],
   "source": [
    "additional_info.date = pd.to_datetime(\n",
    "    additional_info.date.fillna(\".\").astype(str).str.strip().replace(\".\", np.nan)\n",
    ")"
   ]
  },
  {
   "cell_type": "code",
   "execution_count": 193,
   "id": "b9785846-06e8-4d73-a8f8-222686d4a4c7",
   "metadata": {},
   "outputs": [],
   "source": [
    "additional_info = additional_info.loc[~additional_info.date.isna()]"
   ]
  },
  {
   "cell_type": "code",
   "execution_count": 194,
   "id": "cf232a6b-68ee-42fc-b651-411215e2c7c2",
   "metadata": {},
   "outputs": [],
   "source": [
    "date_info = pd.concat([date_info, additional_info])"
   ]
  },
  {
   "cell_type": "code",
   "execution_count": 195,
   "id": "d07d2015-5066-4d61-aea6-0b5cb80d4b4e",
   "metadata": {},
   "outputs": [],
   "source": [
    "date_info = date_info.sort_values([\"study_code\", \"date\"])"
   ]
  },
  {
   "cell_type": "code",
   "execution_count": 174,
   "id": "d806d310-2dae-4dc1-8107-b55cfa8657b2",
   "metadata": {},
   "outputs": [],
   "source": [
    "date_info.to_csv(os.path.join(out_path, \"05_date_info.csv\"))"
   ]
  },
  {
   "cell_type": "markdown",
   "id": "1343018d-41c0-4754-939d-c18d28b3095f",
   "metadata": {},
   "source": [
    "# Duke samples"
   ]
  },
  {
   "cell_type": "code",
   "execution_count": 196,
   "id": "23e0cc79-ce95-4a95-8c27-03d479722143",
   "metadata": {},
   "outputs": [],
   "source": [
    "duke_pft = pd.read_excel(os.path.join(data_path, '05APR2024 DUKE PFTs.xlsx')).dropna()"
   ]
  },
  {
   "cell_type": "code",
   "execution_count": 197,
   "id": "3cc01cf0-8b2a-466b-8cb1-3aafacc05195",
   "metadata": {},
   "outputs": [],
   "source": [
    "duke_pft['height'] = duke_pft['HT (in)'] * 2.54"
   ]
  },
  {
   "cell_type": "code",
   "execution_count": 198,
   "id": "414ea3e3-1738-4144-9dba-77db705e8369",
   "metadata": {},
   "outputs": [],
   "source": [
    "duke_pft['fev1_pred'] = gli_calc.fev1_percent_predicted(\n",
    "    duke_pft.Gender.str.lower(),\n",
    "    duke_pft.Age,\n",
    "    duke_pft.height,\n",
    "    duke_pft['FEV1 (L)']\n",
    ")"
   ]
  },
  {
   "cell_type": "code",
   "execution_count": 199,
   "id": "280647b3-a610-4ceb-9702-99582d8f319f",
   "metadata": {},
   "outputs": [],
   "source": [
    "duke_pft['fvc_pred'] = gli_calc.fvc_percent_predicted(\n",
    "    duke_pft.Gender.str.lower(),\n",
    "    duke_pft.Age,\n",
    "    duke_pft.height,\n",
    "    duke_pft['FVC (L)']\n",
    ")"
   ]
  },
  {
   "cell_type": "code",
   "execution_count": 200,
   "id": "238367ee-eeda-46ba-8285-73ef8e599aa7",
   "metadata": {},
   "outputs": [],
   "source": [
    "df = duke_pft.reset_index()[[\n",
    "    'ID',\n",
    "    'fev1_pred', '% Pred',\n",
    "    'fvc_pred', '% Pred.1'\n",
    "]]\n",
    "df = df.rename(columns={\n",
    "    'fev1_pred': 'FEV1 new',\n",
    "    '% Pred': 'FEV1 old',\n",
    "    'fvc_pred': 'FVC new',\n",
    "    '% Pred.1': 'FVC old'\n",
    "}).melt(\n",
    "    id_vars='ID',\n",
    ")"
   ]
  },
  {
   "cell_type": "code",
   "execution_count": 205,
   "id": "fdee7b8e",
   "metadata": {},
   "outputs": [],
   "source": [
    "df = df.merge(\n",
    "    paper_ids[['Patient_id', 'Publication ID']].rename(columns={'Publication ID': 'paper_id'}),\n",
    "    left_on='ID',\n",
    "    right_on='Patient_id',\n",
    "    how='left'\n",
    ")"
   ]
  },
  {
   "cell_type": "code",
   "execution_count": 206,
   "id": "bdbec123-f9b9-4ccf-bb5b-814ddb255868",
   "metadata": {},
   "outputs": [
    {
     "data": {
      "image/png": "[encoded data removed]",
      "text/plain": [
       "<Figure size 1200x400 with 1 Axes>"
      ]
     },
     "metadata": {
      "image/png": {
       "height": 411,
       "width": 1211
      }
     },
     "output_type": "display_data"
    }
   ],
   "source": [
    "fig, ax = plt.subplots(figsize=(12, 4), constrained_layout=True)\n",
    "sns.barplot(\n",
    "    data=df.dropna(),\n",
    "    x='paper_id',\n",
    "    y='value',\n",
    "    hue='variable',\n",
    "    palette=['dimgray', 'coral'],\n",
    ")\n",
    "ax.legend_.set_bbox_to_anchor((1, 1))\n",
    "trans = mpl.transforms.Affine2D().translate(6, 0)\n",
    "for t in ax.get_xticklabels():\n",
    "    t.set_rotation(45)\n",
    "    t.set_ha('right')\n",
    "    t.set_transform(t.get_transform() + trans)"
   ]
  },
  {
   "cell_type": "code",
   "execution_count": 207,
   "id": "c01b1bf5-0c6a-446a-9e6d-68b0f4f02674",
   "metadata": {},
   "outputs": [],
   "source": [
    "duke_pft = duke_pft.merge(duke, left_on='ID', right_on='Sample')[\n",
    "    ['Sample', 'fvc_pred', 'fev1_pred']\n",
    "]"
   ]
  },
  {
   "cell_type": "code",
   "execution_count": 182,
   "id": "8a264195-9ab6-4466-9950-ae730531d786",
   "metadata": {},
   "outputs": [],
   "source": [
    "duke_pft.to_csv(os.path.join(out_path, \"06_duke_pft.csv\"))"
   ]
  },
  {
   "cell_type": "code",
   "execution_count": null,
   "id": "6add844f",
   "metadata": {},
   "outputs": [],
   "source": []
  }
 ],
 "metadata": {
  "kernelspec": {
   "display_name": "Python 3",
   "language": "python",
   "name": "python3"
  },
  "language_info": {
   "codemirror_mode": {
    "name": "ipython",
    "version": 3
   },
   "file_extension": ".py",
   "mimetype": "text/x-python",
   "name": "python",
   "nbconvert_exporter": "python",
   "pygments_lexer": "ipython3",
   "version": "3.9.19"
  }
 },
 "nbformat": 4,
 "nbformat_minor": 5
}
