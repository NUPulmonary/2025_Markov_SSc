{
 "cells": [
  {
   "cell_type": "code",
   "execution_count": 1,
   "id": "bebc3487-8f7a-494b-8c4a-1c4a23b0f7a7",
   "metadata": {},
   "outputs": [],
   "source": [
    "import os\n",
    "\n",
    "import numpy as np\n",
    "import matplotlib as mpl\n",
    "import matplotlib.pyplot as plt\n",
    "import pandas as pd\n",
    "import tableone\n",
    "import warnings"
   ]
  },
  {
   "cell_type": "code",
   "execution_count": 2,
   "id": "3f399a99-f30a-48d4-950d-caab3b2d2da0",
   "metadata": {},
   "outputs": [],
   "source": [
    "pd.options.display.max_columns = 200"
   ]
  },
  {
   "cell_type": "code",
   "execution_count": 5,
   "id": "65a42a73-4513-4f20-a232-81100008c784",
   "metadata": {},
   "outputs": [],
   "source": [
    "data_path = pd.read_csv(\n",
    "    \"/Users/mxposed/Documents/data_paths/ssc.csv\",\n",
    "    index_col=0\n",
    ").value[\"clinical_data\"]"
   ]
  },
  {
   "cell_type": "markdown",
   "id": "f62c1605-bbe0-485d-bc43-33f397fa10d2",
   "metadata": {},
   "source": [
    "# Create Supplementary table with stats over all 5 lobes"
   ]
  },
  {
   "cell_type": "markdown",
   "id": "fb8c7842-8df6-4e76-89da-e9025fedc6b6",
   "metadata": {},
   "source": [
    "## 1. Load all processed data"
   ]
  },
  {
   "cell_type": "code",
   "execution_count": 6,
   "id": "8e01c152-f753-488b-8ec3-0cf8bbcf8e15",
   "metadata": {},
   "outputs": [],
   "source": [
    "hrct_scores = pd.read_csv(os.path.join(data_path, 'hrct_scoring_all.csv'), index_col=0)"
   ]
  },
  {
   "cell_type": "markdown",
   "id": "2c827b4c-af3d-4d12-bf3d-7ac9a124fbfe",
   "metadata": {},
   "source": [
    "Verify each patient has all 5 lobes"
   ]
  },
  {
   "cell_type": "code",
   "execution_count": 10,
   "id": "df72a550-b05c-4480-aa6a-12b7c45ab06f",
   "metadata": {},
   "outputs": [
    {
     "data": {
      "text/plain": [
       "True"
      ]
     },
     "execution_count": 10,
     "metadata": {},
     "output_type": "execute_result"
    }
   ],
   "source": [
    "hrct_scores.groupby('study_code').size().eq(5).all()"
   ]
  },
  {
   "cell_type": "code",
   "execution_count": 20,
   "id": "f12809d5-5977-4d75-8d41-6e885f99199b",
   "metadata": {},
   "outputs": [],
   "source": [
    "hrct_scores.lobe = pd.Categorical(hrct_scores.lobe, categories=['LUL', 'RUL', 'RML', 'LLL', 'RLL'])"
   ]
  },
  {
   "cell_type": "markdown",
   "id": "0db7bc39-015a-4997-bad4-b9465a8807e4",
   "metadata": {},
   "source": [
    "## X. Create table 1"
   ]
  },
  {
   "cell_type": "code",
   "execution_count": null,
   "id": "7c9a0333-b2bd-479c-a297-bfdebe37bb0a",
   "metadata": {},
   "outputs": [],
   "source": [
    "columns = [\n",
    "    'lobe', 'ggo_score', 'fib_score'\n",
    "]\n",
    "nonnormal = [\n",
    "    'ggo_score', 'fib_score'\n",
    "]\n",
    "renames = {\n",
    "    'ggo_score': 'Ground-glass opacity score',\n",
    "    'fib_score': 'Fibrosis score'\n",
    "}\n",
    "with warnings.catch_warnings():\n",
    "    warnings.simplefilter(\"ignore\")\n",
    "    table1 = tableone.TableOne(\n",
    "        hrct_scores.reset_index(),\n",
    "        columns=columns,\n",
    "        nonnormal=nonnormal,\n",
    "        groupby=['lobe'],\n",
    "        missing=False,\n",
    "        overall=False,\n",
    "        decimals={\n",
    "            'ggo_score': 1,\n",
    "            'fib_score': 1,\n",
    "        },\n",
    "        order={\n",
    "            'lobe': ['LUL', 'RUL', 'RML', 'LLL', 'RLL']\n",
    "        },\n",
    "        # limit=1,\n",
    "        rename=renames\n",
    "    )"
   ]
  },
  {
   "cell_type": "code",
   "execution_count": 52,
   "id": "32d49c83-d3d8-4e7e-8eb0-0563bc80e7eb",
   "metadata": {},
   "outputs": [],
   "source": [
    "table1.tableone = table1.tableone.T"
   ]
  },
  {
   "cell_type": "code",
   "execution_count": 53,
   "id": "15992512-21f6-4c46-832a-7c5ed439450b",
   "metadata": {},
   "outputs": [],
   "source": [
    "table1.tableone.index = table1.tableone.index.droplevel(0)"
   ]
  },
  {
   "cell_type": "code",
   "execution_count": 54,
   "id": "eb1cc929-bf58-4af9-9d09-b3210d71e2c0",
   "metadata": {},
   "outputs": [],
   "source": [
    "table1.tableone.index.name = 'level_0'"
   ]
  },
  {
   "cell_type": "code",
   "execution_count": 55,
   "id": "8673a598-3db3-40f8-8982-62155386fe9a",
   "metadata": {},
   "outputs": [
    {
     "name": "stdout",
     "output_type": "stream",
     "text": [
      "\\begin{tabular}{lrll}\n",
      "\\hline\n",
      " Lobe   &   n & Ground-glass opacity score, median [Q1,Q3]   & Fibrosis score, median [Q1,Q3]   \\\\\n",
      "\\hline\n",
      " LUL    &   9 & 1.0 [1.0,2.0]                                & 2.0 [0.0,2.0]                    \\\\\n",
      " RUL    &   9 & 1.0 [0.0,1.0]                                & 1.0 [0.0,2.0]                    \\\\\n",
      " RML    &   9 & 1.0 [0.0,2.0]                                & 1.0 [0.0,2.0]                    \\\\\n",
      " LLL    &   9 & 2.0 [2.0,3.0]                                & 3.0 [2.0,3.0]                    \\\\\n",
      " RLL    &   9 & 3.0 [2.0,3.0]                                & 3.0 [3.0,3.0]                    \\\\\n",
      "\\hline\n",
      "\\end{tabular}\n"
     ]
    }
   ],
   "source": [
    "print(\n",
    "    table1.tabulate(tablefmt=\"latex\", headers=['Lobe'] + table1.tableone.columns.get_level_values(0).tolist())\n",
    "        .replace('\\\\textbackslash{}', '\\\\')\n",
    "        .replace('\\\\{', '{')\n",
    "        .replace('\\\\}', '}')\n",
    ")"
   ]
  },
  {
   "cell_type": "markdown",
   "id": "1c699f22-56c2-4a16-9606-8388ee196c33",
   "metadata": {},
   "source": [
    "Copying the above to [Overleaf project](https://www.overleaf.com/project/676e45db0ebdb3ce76c559fc) to get nice pdf table"
   ]
  },
  {
   "cell_type": "code",
   "execution_count": null,
   "id": "c82baca1-108b-468c-acf4-eec5c808fc66",
   "metadata": {},
   "outputs": [],
   "source": []
  }
 ],
 "metadata": {
  "kernelspec": {
   "display_name": "Python 3 (ipykernel)",
   "language": "python",
   "name": "python3"
  },
  "language_info": {
   "codemirror_mode": {
    "name": "ipython",
    "version": 3
   },
   "file_extension": ".py",
   "mimetype": "text/x-python",
   "name": "python",
   "nbconvert_exporter": "python",
   "pygments_lexer": "ipython3",
   "version": "3.9.19"
  }
 },
 "nbformat": 4,
 "nbformat_minor": 5
}
