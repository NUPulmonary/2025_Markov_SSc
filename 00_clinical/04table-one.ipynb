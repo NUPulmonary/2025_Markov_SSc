{
 "cells": [
  {
   "cell_type": "code",
   "execution_count": 1,
   "id": "bebc3487-8f7a-494b-8c4a-1c4a23b0f7a7",
   "metadata": {},
   "outputs": [],
   "source": [
    "import os\n",
    "\n",
    "import numpy as np\n",
    "import matplotlib as mpl\n",
    "import matplotlib.pyplot as plt\n",
    "import pandas as pd\n",
    "import tableone\n",
    "import warnings"
   ]
  },
  {
   "cell_type": "code",
   "execution_count": 2,
   "id": "3f399a99-f30a-48d4-950d-caab3b2d2da0",
   "metadata": {},
   "outputs": [],
   "source": [
    "pd.options.display.max_columns = 200"
   ]
  },
  {
   "cell_type": "code",
   "execution_count": 3,
   "id": "65a42a73-4513-4f20-a232-81100008c784",
   "metadata": {},
   "outputs": [],
   "source": [
    "data_path = pd.read_csv(\n",
    "    \"/Users/mxposed/Documents/data_paths/ssc.csv\",\n",
    "    index_col=0\n",
    ").value[\"clinical_data\"]"
   ]
  },
  {
   "cell_type": "code",
   "execution_count": 4,
   "id": "9acc6fb1-b4f8-4dec-9182-46ed71c579d9",
   "metadata": {},
   "outputs": [],
   "source": [
    "data_path = os.path.join(data_path, \"processed\")"
   ]
  },
  {
   "cell_type": "markdown",
   "id": "f62c1605-bbe0-485d-bc43-33f397fa10d2",
   "metadata": {},
   "source": [
    "# Create Table 1 for the cohort\n",
    "\n",
    "The goal of this notebook is to create clinical Table 1 for our cohort.\n",
    "\n",
    "We will combine all processed data tables"
   ]
  },
  {
   "cell_type": "markdown",
   "id": "fb8c7842-8df6-4e76-89da-e9025fedc6b6",
   "metadata": {},
   "source": [
    "## 1. Load all processed data"
   ]
  },
  {
   "cell_type": "code",
   "execution_count": 5,
   "id": "8e01c152-f753-488b-8ec3-0cf8bbcf8e15",
   "metadata": {},
   "outputs": [],
   "source": [
    "samples = pd.read_csv(\"../00all-samples.csv\")"
   ]
  },
  {
   "cell_type": "markdown",
   "id": "659f0f56-d031-4f15-b7c1-4c3dbdd4e9d1",
   "metadata": {},
   "source": [
    "Take only our samples"
   ]
  },
  {
   "cell_type": "code",
   "execution_count": 6,
   "id": "af383360-d4ff-4a50-bfde-ede81253121e",
   "metadata": {},
   "outputs": [],
   "source": [
    "samples = samples.loc[samples.Study.eq(\"this\"), :].copy()"
   ]
  },
  {
   "cell_type": "code",
   "execution_count": 7,
   "id": "09fd43bf-3ef9-4ed6-b1c7-77037bfea37e",
   "metadata": {},
   "outputs": [],
   "source": [
    "samples[\"Patient_id\"] = samples.Sample"
   ]
  },
  {
   "cell_type": "markdown",
   "id": "cbbc91b1-4e7a-44a5-a792-5f22a23d5dea",
   "metadata": {},
   "source": [
    "Strip `_followup` to get Redcap patient ids"
   ]
  },
  {
   "cell_type": "code",
   "execution_count": 8,
   "id": "e8112de5-edbd-4446-a020-7da95f1af06f",
   "metadata": {},
   "outputs": [],
   "source": [
    "samples.Patient_id = samples.Patient_id.str.replace(\"_followup$\", \"\", regex=True)"
   ]
  },
  {
   "cell_type": "markdown",
   "id": "23208638-40e5-4fcf-bdc2-6059b2e304dc",
   "metadata": {},
   "source": [
    "Number of unique patients among our samples"
   ]
  },
  {
   "cell_type": "code",
   "execution_count": 9,
   "id": "0f6d3540-dc8c-4b9d-b8fd-0bee2f5de933",
   "metadata": {},
   "outputs": [
    {
     "data": {
      "text/plain": [
       "14"
      ]
     },
     "execution_count": 9,
     "metadata": {},
     "output_type": "execute_result"
    }
   ],
   "source": [
    "samples.Patient_id.nunique()"
   ]
  },
  {
   "cell_type": "code",
   "execution_count": 10,
   "id": "5e75a2d1-1d0e-4ab6-803c-39e99dd5798a",
   "metadata": {},
   "outputs": [],
   "source": [
    "pt_info = pd.read_csv(os.path.join(data_path, \"01_pt_info.csv\"), index_col=0)"
   ]
  },
  {
   "cell_type": "code",
   "execution_count": 11,
   "id": "1548db9e-6e73-49b1-81b0-d54da43f791b",
   "metadata": {},
   "outputs": [],
   "source": [
    "disease_info = pd.read_csv(os.path.join(data_path, \"02_disease_info.csv\"), index_col=0)"
   ]
  },
  {
   "cell_type": "code",
   "execution_count": 12,
   "id": "c4b1e57e-b2a8-4313-82e0-1c7804218dff",
   "metadata": {},
   "outputs": [],
   "source": [
    "clin_info = pd.read_csv(os.path.join(data_path, \"03_clin_info.csv\"), index_col=0)"
   ]
  },
  {
   "cell_type": "code",
   "execution_count": 13,
   "id": "66b76776-6e85-4c9a-b341-15a05a041b5e",
   "metadata": {},
   "outputs": [],
   "source": [
    "meds_info = pd.read_csv(os.path.join(data_path, \"04_meds_info.csv\"), index_col=0)"
   ]
  },
  {
   "cell_type": "code",
   "execution_count": 14,
   "id": "7e1e5b98-981d-44d8-b503-47100c102d93",
   "metadata": {},
   "outputs": [],
   "source": [
    "date_info = pd.read_csv(os.path.join(data_path, \"05_date_info.csv\"), index_col=0)"
   ]
  },
  {
   "cell_type": "markdown",
   "id": "39a6e400-e578-4b0e-aef8-427b421501bf",
   "metadata": {},
   "source": [
    "## 2. Determine day-0 BAL per patient"
   ]
  },
  {
   "cell_type": "code",
   "execution_count": 15,
   "id": "358b0daf-f173-4779-a1a4-5f59d0f82e01",
   "metadata": {},
   "outputs": [],
   "source": [
    "bronchs = date_info.loc[date_info.event.eq(\"bronch_date\")].copy()"
   ]
  },
  {
   "cell_type": "code",
   "execution_count": 16,
   "id": "9e9e2b52-f0c3-40c8-bdc1-32fea8cbe0a3",
   "metadata": {},
   "outputs": [],
   "source": [
    "bronchs[\"Sample\"] = bronchs.study_code"
   ]
  },
  {
   "cell_type": "code",
   "execution_count": 17,
   "id": "1dc3389d-88ef-4f80-8b9c-c1682799c676",
   "metadata": {},
   "outputs": [],
   "source": [
    "bronchs.loc[bronchs.redcap_event_name.eq(\"follow_up_arm_1\"), \"Sample\"] += \"_followup\""
   ]
  },
  {
   "cell_type": "code",
   "execution_count": 18,
   "id": "b420416d-133a-4f1b-8db2-7609ecde15be",
   "metadata": {},
   "outputs": [],
   "source": [
    "bronchs = bronchs.merge(samples, on=\"Sample\")"
   ]
  },
  {
   "cell_type": "code",
   "execution_count": 19,
   "id": "b0afe625-d1c8-4411-a2f8-1b4783e62cb4",
   "metadata": {},
   "outputs": [],
   "source": [
    "bronchs.sort_values(\"date\", inplace=True)"
   ]
  },
  {
   "cell_type": "code",
   "execution_count": 21,
   "id": "a5d7cf5b-9212-42d6-8762-7bb12500ef4d",
   "metadata": {},
   "outputs": [],
   "source": [
    "day0_dates = bronchs.groupby(\"study_code\").head(1)[\n",
    "    [\"study_code\", \"date\"]\n",
    "].set_index(\"study_code\").date"
   ]
  },
  {
   "cell_type": "markdown",
   "id": "a3c1b66c-36b1-4d94-a182-9e92108c0f2f",
   "metadata": {},
   "source": [
    "## 3. Determine non-Raynaud symptom onset"
   ]
  },
  {
   "cell_type": "code",
   "execution_count": 22,
   "id": "d0166557-6ddf-49e4-abdc-5f3c2b147d05",
   "metadata": {},
   "outputs": [],
   "source": [
    "non_raynaud = date_info.loc[date_info.event.eq(\"ssc_nonraynaud_date\")].copy()"
   ]
  },
  {
   "cell_type": "code",
   "execution_count": 23,
   "id": "156cf6b1-39cc-4ebe-ae90-741050811eae",
   "metadata": {},
   "outputs": [],
   "source": [
    "non_raynaud.sort_values(\"date\", inplace=True)"
   ]
  },
  {
   "cell_type": "code",
   "execution_count": 24,
   "id": "dc008a88-7007-4f38-b5be-11af960e8e0f",
   "metadata": {},
   "outputs": [],
   "source": [
    "non_raynaud_dates = non_raynaud.groupby(\"study_code\").head(1)[\n",
    "    [\"study_code\", \"date\"]\n",
    "].set_index(\"study_code\").date"
   ]
  },
  {
   "cell_type": "code",
   "execution_count": 25,
   "id": "a5435914-2bc6-4fe6-acbd-a06ca465252d",
   "metadata": {},
   "outputs": [],
   "source": [
    "ild_diag = date_info.loc[date_info.event.eq('ild_diag_date')].copy()"
   ]
  },
  {
   "cell_type": "code",
   "execution_count": 26,
   "id": "4c788c5b-2748-42c9-a686-61bd1a373555",
   "metadata": {},
   "outputs": [],
   "source": [
    "ild_diag.sort_values('date', inplace=True)"
   ]
  },
  {
   "cell_type": "code",
   "execution_count": 27,
   "id": "9e026075-8c4f-404e-9923-15fd45b4af1b",
   "metadata": {},
   "outputs": [],
   "source": [
    "ild_diag_dates = ild_diag.set_index('study_code').date"
   ]
  },
  {
   "cell_type": "markdown",
   "id": "ae74c363-6d57-48ec-a4c7-771c7fe0a476",
   "metadata": {},
   "source": [
    "## 4. Take Clinical values closest to BAL"
   ]
  },
  {
   "cell_type": "markdown",
   "id": "78914d3c-dd14-4dc0-953a-2a11278a8f8f",
   "metadata": {},
   "source": [
    "This step possibly needs curation, because the closest BAL date could be miles away"
   ]
  },
  {
   "cell_type": "code",
   "execution_count": 28,
   "id": "b11045b4-3e56-4e1c-9a51-ff3d2380f77b",
   "metadata": {},
   "outputs": [],
   "source": [
    "clin_info[\"bal_date\"] = pd.to_datetime(day0_dates[clin_info.study_code].values)"
   ]
  },
  {
   "cell_type": "code",
   "execution_count": 29,
   "id": "c660efe8-139f-4d88-970a-50a7b85bdbae",
   "metadata": {},
   "outputs": [],
   "source": [
    "for col in (\"crp_date\", \"pft_date\", \"monocyte_date\", \"tte_date\", \"6mwd_date\"):\n",
    "    clin_info[col] = pd.to_datetime(clin_info[col])\n",
    "    clin_info[f\"{col}_delta\"] = (clin_info.bal_date - clin_info[col]).dt.days.abs()"
   ]
  },
  {
   "cell_type": "code",
   "execution_count": 30,
   "id": "caa982fd-5b76-460c-ae19-a5d81b172e46",
   "metadata": {},
   "outputs": [],
   "source": [
    "idx = clin_info.dlco_ratio >= 0.85\n",
    "clin_info.loc[idx, 'dlco_delta'] = (\n",
    "    clin_info.bal_date[idx] - clin_info.pft_date[idx]\n",
    ").dt.days.abs()\n",
    "clin_info.loc[~idx, 'dlco_pred'] = np.nan"
   ]
  },
  {
   "cell_type": "markdown",
   "id": "8a7930ae-adfd-4ac3-8a40-4d5d7e3bd0dd",
   "metadata": {},
   "source": [
    "All deltas in days"
   ]
  },
  {
   "cell_type": "code",
   "execution_count": null,
   "id": "3881f29f-07ec-49d6-9916-b85b6f1227b9",
   "metadata": {},
   "outputs": [],
   "source": [
    "clin_info[\n",
    "    [\"study_code\", \"redcap_event_name\"]\n",
    "    + clin_info.columns[clin_info.columns.str.contains(\"delta\")].tolist()\n",
    "]"
   ]
  },
  {
   "cell_type": "code",
   "execution_count": 32,
   "id": "36efc635-6e96-4efc-b97d-46d9c7074440",
   "metadata": {},
   "outputs": [],
   "source": [
    "clin_condensed = pd.DataFrame(index=pt_info.study_code)"
   ]
  },
  {
   "cell_type": "code",
   "execution_count": 33,
   "id": "d37a6742-79f1-4755-9c78-fa44c289120e",
   "metadata": {},
   "outputs": [],
   "source": [
    "cols = {\n",
    "    \"crp_date\": [\"crp\"],\n",
    "    \"pft_date\": [\"fvc_pred\", \"fev1_pred\", \"tlc_pred\", \"fev1_fvc\", \"dlco_pred\"],\n",
    "    \"monocyte_date\": [\"monocyte_absolute\", \"monocyte_percentage\"],\n",
    "    \"tte_date\": [\"echo_rvsp\"],\n",
    "    \"6mwd_date\": [\"6mwd_act\"]\n",
    "}\n",
    "for col, to_take in cols.items():\n",
    "    df = clin_info.sort_values(f\"{col}_delta\").groupby(\"study_code\").head(1).set_index(\"study_code\")\n",
    "    clin_condensed[to_take] = df[to_take]"
   ]
  },
  {
   "cell_type": "code",
   "execution_count": 34,
   "id": "c8f84f7f-97d5-42cc-b1f9-53642a59be44",
   "metadata": {},
   "outputs": [],
   "source": [
    "duke_pft = pd.read_csv(os.path.join(data_path, \"06_duke_pft.csv\"), index_col=0).set_index('Sample')"
   ]
  },
  {
   "cell_type": "code",
   "execution_count": 36,
   "id": "bbf0c568-6474-4296-aa1f-99c29d75cb6a",
   "metadata": {},
   "outputs": [],
   "source": [
    "for col in duke_pft.columns:\n",
    "    clin_condensed.loc[duke_pft.index, col] = duke_pft[col]"
   ]
  },
  {
   "cell_type": "markdown",
   "id": "524c5976-586b-4eeb-8306-88a9a7550a2b",
   "metadata": {},
   "source": [
    "Add Kazerooni scores because they are per-patient, without specific dates"
   ]
  },
  {
   "cell_type": "code",
   "execution_count": 37,
   "id": "7e919ed2-40c8-4709-8e4a-d9430e6f42b6",
   "metadata": {},
   "outputs": [],
   "source": [
    "clin_condensed_2 = clin_condensed.merge(\n",
    "    clin_info[['study_code', 'k_score_ggo', 'k_score_fib']].drop_duplicates(),\n",
    "    left_index=True,\n",
    "    right_on='study_code',\n",
    "    how='left'\n",
    ")"
   ]
  },
  {
   "cell_type": "markdown",
   "id": "4ef8d0ea-98fa-41d2-aadd-9a4a5866e3a3",
   "metadata": {},
   "source": [
    "Index was not preserved, but rows didn't change, we just copy it"
   ]
  },
  {
   "cell_type": "code",
   "execution_count": 38,
   "id": "2d35c572-b11f-41ef-9ac0-f789fb29c927",
   "metadata": {},
   "outputs": [],
   "source": [
    "clin_condensed_2.index = clin_condensed.index.copy()"
   ]
  },
  {
   "cell_type": "code",
   "execution_count": 39,
   "id": "f3bb8182-c780-4cf2-8922-12739857538b",
   "metadata": {},
   "outputs": [],
   "source": [
    "clin_condensed_2.drop(columns='study_code', inplace=True)"
   ]
  },
  {
   "cell_type": "markdown",
   "id": "936b2f97-a5a3-461d-a45a-dfc4fa8d7e66",
   "metadata": {},
   "source": [
    "Add Kazerooni scores for bronched lobe"
   ]
  },
  {
   "cell_type": "code",
   "execution_count": 40,
   "id": "03f80684-c8d0-40e4-8f46-945819bb8720",
   "metadata": {},
   "outputs": [],
   "source": [
    "clin_condensed_2 = clin_condensed_2.merge(\n",
    "    clin_info[['study_code', 'lobe_ggo_score', 'lobe_fib_score']].dropna().drop_duplicates(),\n",
    "    left_index=True,\n",
    "    right_on='study_code',\n",
    "    how='left'\n",
    ")"
   ]
  },
  {
   "cell_type": "code",
   "execution_count": 41,
   "id": "4896b768-776d-43af-bf6f-a605cb6d1bd6",
   "metadata": {},
   "outputs": [],
   "source": [
    "clin_condensed_2.index = clin_condensed.index.copy()"
   ]
  },
  {
   "cell_type": "code",
   "execution_count": 42,
   "id": "72dec856-1c00-42db-94fa-04b0c4056279",
   "metadata": {},
   "outputs": [],
   "source": [
    "clin_condensed_2.drop(columns='study_code', inplace=True)"
   ]
  },
  {
   "cell_type": "code",
   "execution_count": null,
   "id": "f743c3af-23cb-4348-acc4-28f0d75fae85",
   "metadata": {},
   "outputs": [],
   "source": [
    "clin_condensed_2 = clin_condensed_2.reset_index().merge(\n",
    "    meds_info.loc[:, ['study_code', 'cv_med_mmf_v2']],\n",
    "    on='study_code',\n",
    "    how='left'\n",
    ").set_index('study_code').rename(columns={'cv_med_mmf_v2': 'patient_on_mmf'})"
   ]
  },
  {
   "cell_type": "code",
   "execution_count": 44,
   "id": "7413ba0b-b224-47d3-bc16-6bf5494080cc",
   "metadata": {},
   "outputs": [],
   "source": [
    "clin_condensed_2.to_csv(\"../00clinical-v2.csv\")"
   ]
  },
  {
   "cell_type": "markdown",
   "id": "0db7bc39-015a-4997-bad4-b9465a8807e4",
   "metadata": {},
   "source": [
    "## X. Create table 1"
   ]
  },
  {
   "cell_type": "code",
   "execution_count": 45,
   "id": "5115a58c-0284-4fc4-83dc-3d215ded34da",
   "metadata": {},
   "outputs": [],
   "source": [
    "data = pt_info.copy()"
   ]
  },
  {
   "cell_type": "code",
   "execution_count": 46,
   "id": "48d76424-7d86-4b4d-bb47-1293b50b9894",
   "metadata": {},
   "outputs": [],
   "source": [
    "data[\"age_at_bal\"] = pd.NaT"
   ]
  },
  {
   "cell_type": "code",
   "execution_count": 47,
   "id": "830ad567-8742-44b0-b9ed-23ae3bfad372",
   "metadata": {},
   "outputs": [],
   "source": [
    "idx = data.year_of_birth.notna()\n",
    "data.loc[idx, 'age_at_bal'] = (\n",
    "    data.year_of_birth[idx].astype(int).astype(str) + '-01-01'\n",
    ")"
   ]
  },
  {
   "cell_type": "code",
   "execution_count": 48,
   "id": "343141c1-b792-47d5-8576-af28f1d52edd",
   "metadata": {},
   "outputs": [],
   "source": [
    "idx = data.study_code.isin(day0_dates.index)\n",
    "data.loc[idx, \"bal_date\"] = pd.to_datetime(day0_dates[data.study_code[idx]].values)"
   ]
  },
  {
   "cell_type": "code",
   "execution_count": 49,
   "id": "071ca46e-8145-48c9-9116-9e7ca13b711e",
   "metadata": {},
   "outputs": [],
   "source": [
    "data.age_at_bal = (data.bal_date - data.age_at_bal).dt.days / 365"
   ]
  },
  {
   "cell_type": "code",
   "execution_count": 50,
   "id": "8c3df237-9fa1-4f3a-b085-e364db7cfc6f",
   "metadata": {},
   "outputs": [],
   "source": [
    "idx = data.age.notna()\n",
    "data.loc[idx, 'age_at_bal'] = data.age[idx]"
   ]
  },
  {
   "cell_type": "code",
   "execution_count": 51,
   "id": "233f4c36-0d41-434c-8d67-728d0deb73ed",
   "metadata": {},
   "outputs": [],
   "source": [
    "idx = data.study_code.isin(non_raynaud_dates.index)\n",
    "data.loc[idx, \"disease_duration\"] = pd.to_datetime(non_raynaud_dates[data.study_code[idx]].values)"
   ]
  },
  {
   "cell_type": "code",
   "execution_count": 52,
   "id": "a38e443b-c637-4417-84eb-7244161b22f4",
   "metadata": {},
   "outputs": [],
   "source": [
    "data.disease_duration = (data.bal_date - data.disease_duration).dt.days / 365"
   ]
  },
  {
   "cell_type": "code",
   "execution_count": 53,
   "id": "d695466d-ecf5-43d1-a808-4128fc60a93b",
   "metadata": {},
   "outputs": [],
   "source": [
    "idx = data.study_code.isin(ild_diag_dates.index)\n",
    "data.loc[idx, \"ild_disease_duration\"] = pd.to_datetime(ild_diag_dates[data.study_code[idx]].values)"
   ]
  },
  {
   "cell_type": "code",
   "execution_count": 54,
   "id": "07da8fe7-a279-4b52-bb7d-8cd608614e7a",
   "metadata": {},
   "outputs": [],
   "source": [
    "data.ild_disease_duration = (data.bal_date - data.ild_disease_duration).dt.days / 365"
   ]
  },
  {
   "cell_type": "code",
   "execution_count": 55,
   "id": "a62289b2-0a30-4c90-bfbb-ab24b1cca64c",
   "metadata": {},
   "outputs": [
    {
     "data": {
      "text/plain": [
       "(22, 14)"
      ]
     },
     "execution_count": 55,
     "metadata": {},
     "output_type": "execute_result"
    }
   ],
   "source": [
    "data.shape"
   ]
  },
  {
   "cell_type": "code",
   "execution_count": 56,
   "id": "e5545709-a078-4ed3-bf8f-e2199d7868b8",
   "metadata": {},
   "outputs": [],
   "source": [
    "data = data.merge(disease_info, on=\"study_code\")"
   ]
  },
  {
   "cell_type": "code",
   "execution_count": 57,
   "id": "d33e936b-c55e-4f79-bc8d-353870d32c7b",
   "metadata": {},
   "outputs": [],
   "source": [
    "data.smoker = data.smoker.replace({\n",
    "    True: \"current or former\",\n",
    "    False: \"never\"\n",
    "})"
   ]
  },
  {
   "cell_type": "code",
   "execution_count": 58,
   "id": "cd75af9f-bb11-45bc-a13e-f5802535cf54",
   "metadata": {},
   "outputs": [],
   "source": [
    "pos = \"Positive\"\n",
    "data[\"ab_any\"] = (\n",
    "    data.ab_scl70.eq(pos) | data.ab_aca.eq(pos) | data.ab_rnaiii.eq(pos) | data.ab_ana.eq(pos)\n",
    ")\n",
    "data.loc[data.disease.eq(\"control\"), \"ab_any\"] = np.nan\n",
    "data.ab_any = data.ab_any.replace({\n",
    "    True: \"positive\",\n",
    "    False: \"negative\"\n",
    "})"
   ]
  },
  {
   "cell_type": "code",
   "execution_count": 59,
   "id": "d5c52502-580e-4eb9-8f60-38bb9cd36cf8",
   "metadata": {},
   "outputs": [],
   "source": [
    "for ab_col in (\"ab_scl70\", \"ab_aca\", \"ab_rnaiii\", \"ab_ana\"):\n",
    "    data[ab_col] = data[ab_col].replace({\"Unknown\": np.nan}).str.lower()"
   ]
  },
  {
   "cell_type": "code",
   "execution_count": 60,
   "id": "cd9b3d00-0a03-48f8-8076-614a519e09a4",
   "metadata": {},
   "outputs": [],
   "source": [
    "data = data.merge(meds_info, on=\"study_code\", how=\"left\")"
   ]
  },
  {
   "cell_type": "markdown",
   "id": "4bbaa60a-5a50-4aad-a244-7c2016d63a5e",
   "metadata": {},
   "source": [
    "Remove `Prednisone` becasuse its dose is just 1mg/day"
   ]
  },
  {
   "cell_type": "code",
   "execution_count": 61,
   "id": "586903eb-dd0f-4e73-b463-4262e4e57b6a",
   "metadata": {},
   "outputs": [],
   "source": [
    "data[\"any_meds\"] = data.cv_med_mmf_v2 | data.cv_med_rtx_v2"
   ]
  },
  {
   "cell_type": "code",
   "execution_count": 62,
   "id": "451387b6-81f8-472e-9856-7e7fc2717fa9",
   "metadata": {},
   "outputs": [],
   "source": [
    "data.loc[data.disease.eq(\"control\"), \"any_meds\"] = np.nan"
   ]
  },
  {
   "cell_type": "code",
   "execution_count": 63,
   "id": "7de05b7a-d123-4267-9a73-695be08b1276",
   "metadata": {},
   "outputs": [],
   "source": [
    "data.any_meds = data.any_meds.replace({\n",
    "    True: \"taking\",\n",
    "    False: \"not taking\"\n",
    "})"
   ]
  },
  {
   "cell_type": "code",
   "execution_count": 64,
   "id": "7b15f3dd-77b3-4e0c-8ffd-8c9c237c4c2e",
   "metadata": {},
   "outputs": [],
   "source": [
    "for med_col in (\"cv_med_mmf_v2\", \"cv_med_rtx_v2\"):\n",
    "    data[med_col] = data[med_col].replace({\n",
    "        True: \"taking\",\n",
    "        False: \"not taking\"\n",
    "    })"
   ]
  },
  {
   "cell_type": "code",
   "execution_count": 65,
   "id": "f5cc017b-c9a8-42aa-8d04-5256fdb70bb9",
   "metadata": {},
   "outputs": [],
   "source": [
    "data = data.merge(clin_condensed_2.astype(float), on=\"study_code\")"
   ]
  },
  {
   "cell_type": "code",
   "execution_count": 66,
   "id": "660e91c1-118a-442e-abfa-c180dec075d3",
   "metadata": {},
   "outputs": [],
   "source": [
    "idx = data.ssc_subtype.eq('lcSSc')\n",
    "data.loc[idx, 'mrss_lcssc'] = data.mrss[idx]\n",
    "idx = data.ssc_subtype.eq('dcSSc')\n",
    "data.loc[idx, 'mrss_dcssc'] = data.mrss[idx]"
   ]
  },
  {
   "cell_type": "code",
   "execution_count": 67,
   "id": "fca6b0a8-73e6-4036-9ab5-181731f2a652",
   "metadata": {},
   "outputs": [],
   "source": [
    "data.cough = data.cough.replace({0: 'negative', 1: 'Cough'})"
   ]
  },
  {
   "cell_type": "code",
   "execution_count": 68,
   "id": "730501b9-4f78-496e-95ab-7b7ccda3a217",
   "metadata": {},
   "outputs": [],
   "source": [
    "data.dyspnea = data.dyspnea.replace({0: 'negative', 1: 'Dyspnea'})"
   ]
  },
  {
   "cell_type": "code",
   "execution_count": null,
   "id": "396b636e-2244-4fa8-99d9-1629860e8ea7",
   "metadata": {},
   "outputs": [],
   "source": [
    "columns = [\n",
    "    \"disease\", \"age_at_bal\", \"sex\", \"race\", \"smoker\",\n",
    "    \"ssc_subtype\", \"disease_duration\", 'ild_disease_duration', 'cough', 'dyspnea',\n",
    "    \"ab_ana\", \"ab_scl70\", \"ab_aca\", \"ab_rnaiii\", \"crp\",\n",
    "    \"monocyte_percentage\", \"mrss\", \"mrss_lcssc\", \"mrss_dcssc\", \"acr_ulc_pit\",\n",
    "    \"any_meds\", \"cv_med_mmf_v2\", \"cv_med_rtx_v2\",\n",
    "    \"fvc_pred\", \"fev1_pred\", \"fev1_fvc\", \"tlc_pred\",\n",
    "    \"dlco_pred\", \"echo_rvsp\", \"6mwd_act\",\n",
    "    'k_score_ggo', 'k_score_fib', 'lobe_ggo_score', 'lobe_fib_score'\n",
    "]\n",
    "nonnormal = [\n",
    "    \"age_at_bal\", \"disease_duration\", 'ild_disease_duration',\n",
    "    \"crp\", \"monocyte_percentage\", \"mrss\", \"mrss_lcssc\", \"mrss_dcssc\",\n",
    "    \"fvc_pred\", \"fev1_pred\", \"fev1_fvc\", \"tlc_pred\",\n",
    "    \"dlco_pred\", \"echo_rvsp\", \"6mwd_act\",\n",
    "    'k_score_ggo', 'k_score_fib', 'lobe_ggo_score', 'lobe_fib_score'\n",
    "]\n",
    "renames = {\n",
    "    \"disease\": \"Patient disease\",\n",
    "    \"age_at_bal\": \"Age, years\",\n",
    "    \"sex\": \"Sex\",\n",
    "    \"race\": \"Race\",\n",
    "    \"smoker\": \"Smoker\",\n",
    "    \"ssc_subtype\": \"SSc subtype\",\n",
    "    \"disease_duration\": \"Time since SSc diagnosis, years\",\n",
    "    \"ild_disease_duration\": \"Time since SSc-ILD diagnosis, years\",\n",
    "    'cough': 'Symptoms',\n",
    "    'dyspnea': 'Dyspnea',\n",
    "    # \"ab_any\": \"SSc-specific autoantibodies\",\n",
    "    \"ab_ana\": \"Anti-nuclear\",\n",
    "    \"ab_scl70\": \"Anti-topoisomerase I (Scl-70)\",\n",
    "    \"ab_aca\": \"Anti-centromere\",\n",
    "    \"ab_rnaiii\": \"Anti-RNA polymerase III\",\n",
    "    \"crp\": \"C-reactive protein, mg/l\",\n",
    "    \"monocyte_percentage\": \"Blood monocyte %\",\n",
    "    \"mrss\": \"Modified Rodnan skin score\",\n",
    "    \"acr_ulc_pit\": \"Digital ulcer or pitting scars\",\n",
    "    \"any_meds\": \"Medications\",\n",
    "    \"cv_med_mmf_v2\": \"Mycophenolate\",\n",
    "    # \"cv_med_pred_v2\": \"Prednisone\",\n",
    "    \"cv_med_rtx_v2\": \"Rituximab\",\n",
    "    \"fvc_pred\": \"FVC % predicted\",\n",
    "    \"fev1_pred\": \"FEV1 % predicted\",\n",
    "    \"fev1_fvc\": \"FEV1/FVC ratio, %\",\n",
    "    \"tlc_pred\": \"TLC % predicted\",\n",
    "    \"dlco_pred\": \"DLCO % predicted\",\n",
    "    \"echo_rvsp\": \"Estimated RVSP, mmHg\",\n",
    "    \"6mwd_act\": \"6MWD distance, m\",\n",
    "    'k_score_ggo': 'Average Ground-glass opacity score per lobe',\n",
    "    'k_score_fib': 'Average Fibrosis score per lobe',\n",
    "    'lobe_ggo_score': 'Ground-glass opacity score',\n",
    "    'lobe_fib_score': 'Fibrosis score'\n",
    "}\n",
    "with warnings.catch_warnings():\n",
    "    warnings.simplefilter(\"ignore\")\n",
    "    table1 = tableone.TableOne(\n",
    "        data,\n",
    "        columns=columns,\n",
    "        nonnormal=nonnormal,\n",
    "        groupby=[\"disease\"],\n",
    "        missing=False,\n",
    "        overall=False,\n",
    "        decimals={\n",
    "            \"age_at_bal\": 1,\n",
    "            \"sex\": 0,\n",
    "            \"race\": 0,\n",
    "            \"smoker\": 0,\n",
    "            \"ssc_subtype\": 0,\n",
    "            \"disease_duration\": 1,\n",
    "            \"ild_disease_duration\": 1,\n",
    "            'cough': 0,\n",
    "            'dyspnea': 0,\n",
    "            # \"ab_any\": 0,\n",
    "            \"ab_ana\": 0,\n",
    "            \"ab_scl70\": 0,\n",
    "            \"ab_aca\": 0,\n",
    "            \"ab_rnaiii\": 0,\n",
    "            \"crp\": 1,\n",
    "            \"monocyte_percentage\": 1,\n",
    "            \"mrss\": 0,\n",
    "            \"mrss_lcssc\": 0,\n",
    "            \"mrss_dcssc\": 0,\n",
    "            \"acr_ulc_pit\": 0,\n",
    "            \"any_meds\": 0,\n",
    "            \"cv_med_mmf_v2\": 0,\n",
    "            \"cv_med_pred_v2\": 0,\n",
    "            \"cv_med_rtx_v2\": 0,\n",
    "            \"fvc_pred\": 1,\n",
    "            \"fev1_pred\": 1,\n",
    "            \"fev1_fvc\": 1,\n",
    "            \"tlc_pred\": 1,\n",
    "            \"dlco_pred\": 1,\n",
    "            \"echo_rvsp\": 1,\n",
    "            \"6mwd_pct\": 1,\n",
    "            'k_score_gg': 1,\n",
    "            'k_score_fib': 1,\n",
    "            'lobe_ggo_score': 1,\n",
    "            'lobe_fib_score': 1,\n",
    "        },\n",
    "        # limit=1,\n",
    "        rename=renames\n",
    "    )"
   ]
  },
  {
   "cell_type": "markdown",
   "id": "75e8a3a7-ee1d-44a4-ba5f-9b2dfb2d6b06",
   "metadata": {},
   "source": [
    "Heavy manual curation of Table One output below"
   ]
  },
  {
   "cell_type": "code",
   "execution_count": 70,
   "id": "a632e058-a091-43d4-aa3c-49b513588be4",
   "metadata": {},
   "outputs": [],
   "source": [
    "table1.tableone.replace(\"nan (nan)\", \"\", inplace=True)\n",
    "table1.tableone.replace(\"nan [nan,nan]\", \"\", inplace=True)"
   ]
  },
  {
   "cell_type": "code",
   "execution_count": 71,
   "id": "91b687f3-59c4-45c7-a32b-65f35672c731",
   "metadata": {},
   "outputs": [],
   "source": [
    "table1.tableone.reset_index(inplace=True)"
   ]
  },
  {
   "cell_type": "markdown",
   "id": "d58ff395-775f-4b56-9fe0-240577fb0b42",
   "metadata": {},
   "source": [
    "Add number of datapoints where it is not full"
   ]
  },
  {
   "cell_type": "code",
   "execution_count": 72,
   "id": "56a793cb-f5b5-4abf-b81b-9d10be50c197",
   "metadata": {},
   "outputs": [
    {
     "name": "stdout",
     "output_type": "stream",
     "text": [
      "1 NA values for ab_rnaiii for SSc\n",
      "1 NA values for crp for SSc\n",
      "5 NA values for fvc_pred for control\n",
      "5 NA values for fev1_pred for control\n",
      "1 NA values for tlc_pred for SSc\n",
      "2 NA values for dlco_pred for SSc\n",
      "1 NA values for echo_rvsp for SSc\n",
      "2 NA values for 6mwd_act for SSc\n"
     ]
    }
   ],
   "source": [
    "for var, name in renames.items():\n",
    "    for disease in data.disease.unique():\n",
    "        n_na = data.loc[data.disease.eq(disease), var].isna().sum()\n",
    "        n_not_na = data.loc[data.disease.eq(disease), var].notna().sum()\n",
    "        if n_na > 0:\n",
    "            idx = table1.tableone.level_0.str.startswith(name)\n",
    "            col = ('Grouped by Patient disease', disease)\n",
    "            val = table1.tableone.loc[idx, col].values[0]\n",
    "            if len(val) > 0:\n",
    "                table1.tableone.loc[idx, col] = (\n",
    "                    table1.tableone.loc[idx, col] + f'\\\\newline(\\\\textit{{n}} = {n_not_na})'\n",
    "                )\n",
    "                print(f'{n_na} NA values for {var} for {disease}')"
   ]
  },
  {
   "cell_type": "code",
   "execution_count": 73,
   "id": "46b42ecc-d588-4b6b-9a88-66df36e8686a",
   "metadata": {},
   "outputs": [
    {
     "data": {
      "text/html": [
       "<div>\n",
       "<style scoped>\n",
       "    .dataframe tbody tr th:only-of-type {\n",
       "        vertical-align: middle;\n",
       "    }\n",
       "\n",
       "    .dataframe tbody tr th {\n",
       "        vertical-align: top;\n",
       "    }\n",
       "\n",
       "    .dataframe thead tr th {\n",
       "        text-align: left;\n",
       "    }\n",
       "</style>\n",
       "<table border=\"1\" class=\"dataframe\">\n",
       "  <thead>\n",
       "    <tr>\n",
       "      <th></th>\n",
       "      <th>level_0</th>\n",
       "      <th>level_1</th>\n",
       "      <th colspan=\"2\" halign=\"left\">Grouped by Patient disease</th>\n",
       "    </tr>\n",
       "    <tr>\n",
       "      <th></th>\n",
       "      <th></th>\n",
       "      <th></th>\n",
       "      <th>SSc</th>\n",
       "      <th>control</th>\n",
       "    </tr>\n",
       "  </thead>\n",
       "  <tbody>\n",
       "    <tr>\n",
       "      <th>0</th>\n",
       "      <td>n</td>\n",
       "      <td></td>\n",
       "      <td>9</td>\n",
       "      <td>13</td>\n",
       "    </tr>\n",
       "    <tr>\n",
       "      <th>1</th>\n",
       "      <td>Age, years, median [Q1,Q3]</td>\n",
       "      <td></td>\n",
       "      <td>53.8 [37.9,60.4]</td>\n",
       "      <td>29.0 [24.0,34.0]</td>\n",
       "    </tr>\n",
       "    <tr>\n",
       "      <th>2</th>\n",
       "      <td>Sex, n (%)</td>\n",
       "      <td>Female</td>\n",
       "      <td>6 (67)</td>\n",
       "      <td>9 (69)</td>\n",
       "    </tr>\n",
       "    <tr>\n",
       "      <th>3</th>\n",
       "      <td>Sex, n (%)</td>\n",
       "      <td>Male</td>\n",
       "      <td>3 (33)</td>\n",
       "      <td>4 (31)</td>\n",
       "    </tr>\n",
       "    <tr>\n",
       "      <th>4</th>\n",
       "      <td>Race, n (%)</td>\n",
       "      <td>African American</td>\n",
       "      <td>1 (11)</td>\n",
       "      <td>2 (15)</td>\n",
       "    </tr>\n",
       "    <tr>\n",
       "      <th>5</th>\n",
       "      <td>Race, n (%)</td>\n",
       "      <td>Caucasian</td>\n",
       "      <td>5 (56)</td>\n",
       "      <td>8 (62)</td>\n",
       "    </tr>\n",
       "    <tr>\n",
       "      <th>6</th>\n",
       "      <td>Race, n (%)</td>\n",
       "      <td>Hispanic or Latino</td>\n",
       "      <td>3 (33)</td>\n",
       "      <td>2 (15)</td>\n",
       "    </tr>\n",
       "    <tr>\n",
       "      <th>7</th>\n",
       "      <td>Race, n (%)</td>\n",
       "      <td>Asian</td>\n",
       "      <td></td>\n",
       "      <td>1 (8)</td>\n",
       "    </tr>\n",
       "    <tr>\n",
       "      <th>8</th>\n",
       "      <td>Smoker, n (%)</td>\n",
       "      <td>current or former</td>\n",
       "      <td>1 (11)</td>\n",
       "      <td></td>\n",
       "    </tr>\n",
       "    <tr>\n",
       "      <th>9</th>\n",
       "      <td>Smoker, n (%)</td>\n",
       "      <td>never</td>\n",
       "      <td>8 (89)</td>\n",
       "      <td>13 (100)</td>\n",
       "    </tr>\n",
       "    <tr>\n",
       "      <th>10</th>\n",
       "      <td>SSc subtype, n (%)</td>\n",
       "      <td>dcSSc</td>\n",
       "      <td>5 (56)</td>\n",
       "      <td></td>\n",
       "    </tr>\n",
       "    <tr>\n",
       "      <th>11</th>\n",
       "      <td>SSc subtype, n (%)</td>\n",
       "      <td>lcSSc</td>\n",
       "      <td>4 (44)</td>\n",
       "      <td></td>\n",
       "    </tr>\n",
       "    <tr>\n",
       "      <th>12</th>\n",
       "      <td>Time since SSc diagnosis, years, median [Q1,Q3]</td>\n",
       "      <td></td>\n",
       "      <td>16.9 [8.7,19.4]</td>\n",
       "      <td></td>\n",
       "    </tr>\n",
       "    <tr>\n",
       "      <th>13</th>\n",
       "      <td>Time since SSc-ILD diagnosis, years, median [Q...</td>\n",
       "      <td></td>\n",
       "      <td>8.1 [4.3,11.7]</td>\n",
       "      <td></td>\n",
       "    </tr>\n",
       "    <tr>\n",
       "      <th>14</th>\n",
       "      <td>Symptoms, n (%)</td>\n",
       "      <td>Cough</td>\n",
       "      <td>6 (67)</td>\n",
       "      <td></td>\n",
       "    </tr>\n",
       "    <tr>\n",
       "      <th>15</th>\n",
       "      <td>Symptoms, n (%)</td>\n",
       "      <td>negative</td>\n",
       "      <td>3 (33)</td>\n",
       "      <td></td>\n",
       "    </tr>\n",
       "    <tr>\n",
       "      <th>16</th>\n",
       "      <td>Dyspnea, n (%)</td>\n",
       "      <td>Dyspnea</td>\n",
       "      <td>7 (78)</td>\n",
       "      <td></td>\n",
       "    </tr>\n",
       "    <tr>\n",
       "      <th>17</th>\n",
       "      <td>Dyspnea, n (%)</td>\n",
       "      <td>negative</td>\n",
       "      <td>2 (22)</td>\n",
       "      <td></td>\n",
       "    </tr>\n",
       "    <tr>\n",
       "      <th>18</th>\n",
       "      <td>Anti-nuclear, n (%)</td>\n",
       "      <td>positive</td>\n",
       "      <td>9 (100)</td>\n",
       "      <td></td>\n",
       "    </tr>\n",
       "    <tr>\n",
       "      <th>19</th>\n",
       "      <td>Anti-topoisomerase I (Scl-70), n (%)</td>\n",
       "      <td>negative</td>\n",
       "      <td>4 (44)</td>\n",
       "      <td></td>\n",
       "    </tr>\n",
       "    <tr>\n",
       "      <th>20</th>\n",
       "      <td>Anti-topoisomerase I (Scl-70), n (%)</td>\n",
       "      <td>positive</td>\n",
       "      <td>5 (56)</td>\n",
       "      <td></td>\n",
       "    </tr>\n",
       "    <tr>\n",
       "      <th>21</th>\n",
       "      <td>Anti-centromere, n (%)</td>\n",
       "      <td>negative</td>\n",
       "      <td>9 (100)</td>\n",
       "      <td></td>\n",
       "    </tr>\n",
       "    <tr>\n",
       "      <th>22</th>\n",
       "      <td>Anti-RNA polymerase III, n (%)</td>\n",
       "      <td>negative</td>\n",
       "      <td>6 (75)\\newline(\\textit{n} = 8)</td>\n",
       "      <td></td>\n",
       "    </tr>\n",
       "    <tr>\n",
       "      <th>23</th>\n",
       "      <td>Anti-RNA polymerase III, n (%)</td>\n",
       "      <td>positive</td>\n",
       "      <td>2 (25)\\newline(\\textit{n} = 8)</td>\n",
       "      <td></td>\n",
       "    </tr>\n",
       "    <tr>\n",
       "      <th>24</th>\n",
       "      <td>C-reactive protein, mg/l, median [Q1,Q3]</td>\n",
       "      <td></td>\n",
       "      <td>6.8 [2.1,12.8]\\newline(\\textit{n} = 8)</td>\n",
       "      <td></td>\n",
       "    </tr>\n",
       "    <tr>\n",
       "      <th>25</th>\n",
       "      <td>Blood monocyte %, median [Q1,Q3]</td>\n",
       "      <td></td>\n",
       "      <td>8.0 [6.0,10.0]</td>\n",
       "      <td></td>\n",
       "    </tr>\n",
       "    <tr>\n",
       "      <th>26</th>\n",
       "      <td>Modified Rodnan skin score, median [Q1,Q3]</td>\n",
       "      <td></td>\n",
       "      <td>6 [4,11]</td>\n",
       "      <td></td>\n",
       "    </tr>\n",
       "    <tr>\n",
       "      <th>27</th>\n",
       "      <td>mrss_lcssc, median [Q1,Q3]</td>\n",
       "      <td></td>\n",
       "      <td>4 [3,6]</td>\n",
       "      <td></td>\n",
       "    </tr>\n",
       "    <tr>\n",
       "      <th>28</th>\n",
       "      <td>mrss_dcssc, median [Q1,Q3]</td>\n",
       "      <td></td>\n",
       "      <td>8 [6,13]</td>\n",
       "      <td></td>\n",
       "    </tr>\n",
       "    <tr>\n",
       "      <th>29</th>\n",
       "      <td>Digital ulcer or pitting scars, n (%)</td>\n",
       "      <td>digital tip ulcers</td>\n",
       "      <td>3 (33)</td>\n",
       "      <td></td>\n",
       "    </tr>\n",
       "    <tr>\n",
       "      <th>30</th>\n",
       "      <td>Digital ulcer or pitting scars, n (%)</td>\n",
       "      <td>fingertip pitting scars</td>\n",
       "      <td>3 (33)</td>\n",
       "      <td></td>\n",
       "    </tr>\n",
       "    <tr>\n",
       "      <th>31</th>\n",
       "      <td>Digital ulcer or pitting scars, n (%)</td>\n",
       "      <td>no digital ulcers or pitting scars</td>\n",
       "      <td>3 (33)</td>\n",
       "      <td></td>\n",
       "    </tr>\n",
       "    <tr>\n",
       "      <th>32</th>\n",
       "      <td>Medications, n (%)</td>\n",
       "      <td>not taking</td>\n",
       "      <td>5 (56)</td>\n",
       "      <td></td>\n",
       "    </tr>\n",
       "    <tr>\n",
       "      <th>33</th>\n",
       "      <td>Medications, n (%)</td>\n",
       "      <td>taking</td>\n",
       "      <td>4 (44)</td>\n",
       "      <td></td>\n",
       "    </tr>\n",
       "    <tr>\n",
       "      <th>34</th>\n",
       "      <td>Mycophenolate, n (%)</td>\n",
       "      <td>not taking</td>\n",
       "      <td>5 (56)</td>\n",
       "      <td></td>\n",
       "    </tr>\n",
       "    <tr>\n",
       "      <th>35</th>\n",
       "      <td>Mycophenolate, n (%)</td>\n",
       "      <td>taking</td>\n",
       "      <td>4 (44)</td>\n",
       "      <td></td>\n",
       "    </tr>\n",
       "    <tr>\n",
       "      <th>36</th>\n",
       "      <td>Rituximab, n (%)</td>\n",
       "      <td>not taking</td>\n",
       "      <td>8 (89)</td>\n",
       "      <td></td>\n",
       "    </tr>\n",
       "    <tr>\n",
       "      <th>37</th>\n",
       "      <td>Rituximab, n (%)</td>\n",
       "      <td>taking</td>\n",
       "      <td>1 (11)</td>\n",
       "      <td></td>\n",
       "    </tr>\n",
       "    <tr>\n",
       "      <th>38</th>\n",
       "      <td>FVC % predicted, median [Q1,Q3]</td>\n",
       "      <td></td>\n",
       "      <td>70.0 [65.9,74.4]</td>\n",
       "      <td>108.0 [100.2,110.2]\\newline(\\textit{n} = 8)</td>\n",
       "    </tr>\n",
       "    <tr>\n",
       "      <th>39</th>\n",
       "      <td>FEV1 % predicted, median [Q1,Q3]</td>\n",
       "      <td></td>\n",
       "      <td>72.1 [64.4,76.1]</td>\n",
       "      <td>95.5 [90.5,102.8]\\newline(\\textit{n} = 8)</td>\n",
       "    </tr>\n",
       "    <tr>\n",
       "      <th>40</th>\n",
       "      <td>FEV1/FVC ratio, %, median [Q1,Q3]</td>\n",
       "      <td></td>\n",
       "      <td>80.4 [78.3,84.7]</td>\n",
       "      <td></td>\n",
       "    </tr>\n",
       "    <tr>\n",
       "      <th>41</th>\n",
       "      <td>TLC % predicted, median [Q1,Q3]</td>\n",
       "      <td></td>\n",
       "      <td>59.1 [53.7,62.6]\\newline(\\textit{n} = 8)</td>\n",
       "      <td></td>\n",
       "    </tr>\n",
       "    <tr>\n",
       "      <th>42</th>\n",
       "      <td>DLCO % predicted, median [Q1,Q3]</td>\n",
       "      <td></td>\n",
       "      <td>55.7 [48.7,62.8]\\newline(\\textit{n} = 7)</td>\n",
       "      <td></td>\n",
       "    </tr>\n",
       "    <tr>\n",
       "      <th>43</th>\n",
       "      <td>Estimated RVSP, mmHg, median [Q1,Q3]</td>\n",
       "      <td></td>\n",
       "      <td>27.0 [18.0,37.0]\\newline(\\textit{n} = 8)</td>\n",
       "      <td></td>\n",
       "    </tr>\n",
       "    <tr>\n",
       "      <th>44</th>\n",
       "      <td>6MWD distance, m, median [Q1,Q3]</td>\n",
       "      <td></td>\n",
       "      <td>450.0 [432.0,456.0]\\newline(\\textit{n} = 7)</td>\n",
       "      <td></td>\n",
       "    </tr>\n",
       "    <tr>\n",
       "      <th>45</th>\n",
       "      <td>Average Ground-glass opacity score per lobe, m...</td>\n",
       "      <td></td>\n",
       "      <td>1.6 [1.2,2.4]</td>\n",
       "      <td></td>\n",
       "    </tr>\n",
       "    <tr>\n",
       "      <th>46</th>\n",
       "      <td>Average Fibrosis score per lobe, median [Q1,Q3]</td>\n",
       "      <td></td>\n",
       "      <td>2.0 [1.2,2.4]</td>\n",
       "      <td></td>\n",
       "    </tr>\n",
       "    <tr>\n",
       "      <th>47</th>\n",
       "      <td>Ground-glass opacity score, median [Q1,Q3]</td>\n",
       "      <td></td>\n",
       "      <td>2.0 [1.0,3.0]</td>\n",
       "      <td></td>\n",
       "    </tr>\n",
       "    <tr>\n",
       "      <th>48</th>\n",
       "      <td>Fibrosis score, median [Q1,Q3]</td>\n",
       "      <td></td>\n",
       "      <td>2.0 [1.0,3.0]</td>\n",
       "      <td></td>\n",
       "    </tr>\n",
       "  </tbody>\n",
       "</table>\n",
       "</div>"
      ],
      "text/plain": [
       "                                              level_0  \\\n",
       "                                                        \n",
       "0                                                   n   \n",
       "1                          Age, years, median [Q1,Q3]   \n",
       "2                                          Sex, n (%)   \n",
       "3                                          Sex, n (%)   \n",
       "4                                         Race, n (%)   \n",
       "5                                         Race, n (%)   \n",
       "6                                         Race, n (%)   \n",
       "7                                         Race, n (%)   \n",
       "8                                       Smoker, n (%)   \n",
       "9                                       Smoker, n (%)   \n",
       "10                                 SSc subtype, n (%)   \n",
       "11                                 SSc subtype, n (%)   \n",
       "12    Time since SSc diagnosis, years, median [Q1,Q3]   \n",
       "13  Time since SSc-ILD diagnosis, years, median [Q...   \n",
       "14                                    Symptoms, n (%)   \n",
       "15                                    Symptoms, n (%)   \n",
       "16                                     Dyspnea, n (%)   \n",
       "17                                     Dyspnea, n (%)   \n",
       "18                                Anti-nuclear, n (%)   \n",
       "19               Anti-topoisomerase I (Scl-70), n (%)   \n",
       "20               Anti-topoisomerase I (Scl-70), n (%)   \n",
       "21                             Anti-centromere, n (%)   \n",
       "22                     Anti-RNA polymerase III, n (%)   \n",
       "23                     Anti-RNA polymerase III, n (%)   \n",
       "24           C-reactive protein, mg/l, median [Q1,Q3]   \n",
       "25                   Blood monocyte %, median [Q1,Q3]   \n",
       "26         Modified Rodnan skin score, median [Q1,Q3]   \n",
       "27                         mrss_lcssc, median [Q1,Q3]   \n",
       "28                         mrss_dcssc, median [Q1,Q3]   \n",
       "29              Digital ulcer or pitting scars, n (%)   \n",
       "30              Digital ulcer or pitting scars, n (%)   \n",
       "31              Digital ulcer or pitting scars, n (%)   \n",
       "32                                 Medications, n (%)   \n",
       "33                                 Medications, n (%)   \n",
       "34                               Mycophenolate, n (%)   \n",
       "35                               Mycophenolate, n (%)   \n",
       "36                                   Rituximab, n (%)   \n",
       "37                                   Rituximab, n (%)   \n",
       "38                    FVC % predicted, median [Q1,Q3]   \n",
       "39                   FEV1 % predicted, median [Q1,Q3]   \n",
       "40                  FEV1/FVC ratio, %, median [Q1,Q3]   \n",
       "41                    TLC % predicted, median [Q1,Q3]   \n",
       "42                   DLCO % predicted, median [Q1,Q3]   \n",
       "43               Estimated RVSP, mmHg, median [Q1,Q3]   \n",
       "44                   6MWD distance, m, median [Q1,Q3]   \n",
       "45  Average Ground-glass opacity score per lobe, m...   \n",
       "46    Average Fibrosis score per lobe, median [Q1,Q3]   \n",
       "47         Ground-glass opacity score, median [Q1,Q3]   \n",
       "48                     Fibrosis score, median [Q1,Q3]   \n",
       "\n",
       "                               level_1  \\\n",
       "                                         \n",
       "0                                        \n",
       "1                                        \n",
       "2                               Female   \n",
       "3                                 Male   \n",
       "4                     African American   \n",
       "5                            Caucasian   \n",
       "6                   Hispanic or Latino   \n",
       "7                                Asian   \n",
       "8                    current or former   \n",
       "9                                never   \n",
       "10                               dcSSc   \n",
       "11                               lcSSc   \n",
       "12                                       \n",
       "13                                       \n",
       "14                               Cough   \n",
       "15                            negative   \n",
       "16                             Dyspnea   \n",
       "17                            negative   \n",
       "18                            positive   \n",
       "19                            negative   \n",
       "20                            positive   \n",
       "21                            negative   \n",
       "22                            negative   \n",
       "23                            positive   \n",
       "24                                       \n",
       "25                                       \n",
       "26                                       \n",
       "27                                       \n",
       "28                                       \n",
       "29                  digital tip ulcers   \n",
       "30             fingertip pitting scars   \n",
       "31  no digital ulcers or pitting scars   \n",
       "32                          not taking   \n",
       "33                              taking   \n",
       "34                          not taking   \n",
       "35                              taking   \n",
       "36                          not taking   \n",
       "37                              taking   \n",
       "38                                       \n",
       "39                                       \n",
       "40                                       \n",
       "41                                       \n",
       "42                                       \n",
       "43                                       \n",
       "44                                       \n",
       "45                                       \n",
       "46                                       \n",
       "47                                       \n",
       "48                                       \n",
       "\n",
       "                     Grouped by Patient disease  \\\n",
       "                                            SSc   \n",
       "0                                             9   \n",
       "1                              53.8 [37.9,60.4]   \n",
       "2                                        6 (67)   \n",
       "3                                        3 (33)   \n",
       "4                                        1 (11)   \n",
       "5                                        5 (56)   \n",
       "6                                        3 (33)   \n",
       "7                                                 \n",
       "8                                        1 (11)   \n",
       "9                                        8 (89)   \n",
       "10                                       5 (56)   \n",
       "11                                       4 (44)   \n",
       "12                              16.9 [8.7,19.4]   \n",
       "13                               8.1 [4.3,11.7]   \n",
       "14                                       6 (67)   \n",
       "15                                       3 (33)   \n",
       "16                                       7 (78)   \n",
       "17                                       2 (22)   \n",
       "18                                      9 (100)   \n",
       "19                                       4 (44)   \n",
       "20                                       5 (56)   \n",
       "21                                      9 (100)   \n",
       "22               6 (75)\\newline(\\textit{n} = 8)   \n",
       "23               2 (25)\\newline(\\textit{n} = 8)   \n",
       "24       6.8 [2.1,12.8]\\newline(\\textit{n} = 8)   \n",
       "25                               8.0 [6.0,10.0]   \n",
       "26                                     6 [4,11]   \n",
       "27                                      4 [3,6]   \n",
       "28                                     8 [6,13]   \n",
       "29                                       3 (33)   \n",
       "30                                       3 (33)   \n",
       "31                                       3 (33)   \n",
       "32                                       5 (56)   \n",
       "33                                       4 (44)   \n",
       "34                                       5 (56)   \n",
       "35                                       4 (44)   \n",
       "36                                       8 (89)   \n",
       "37                                       1 (11)   \n",
       "38                             70.0 [65.9,74.4]   \n",
       "39                             72.1 [64.4,76.1]   \n",
       "40                             80.4 [78.3,84.7]   \n",
       "41     59.1 [53.7,62.6]\\newline(\\textit{n} = 8)   \n",
       "42     55.7 [48.7,62.8]\\newline(\\textit{n} = 7)   \n",
       "43     27.0 [18.0,37.0]\\newline(\\textit{n} = 8)   \n",
       "44  450.0 [432.0,456.0]\\newline(\\textit{n} = 7)   \n",
       "45                                1.6 [1.2,2.4]   \n",
       "46                                2.0 [1.2,2.4]   \n",
       "47                                2.0 [1.0,3.0]   \n",
       "48                                2.0 [1.0,3.0]   \n",
       "\n",
       "                                                 \n",
       "                                        control  \n",
       "0                                            13  \n",
       "1                              29.0 [24.0,34.0]  \n",
       "2                                        9 (69)  \n",
       "3                                        4 (31)  \n",
       "4                                        2 (15)  \n",
       "5                                        8 (62)  \n",
       "6                                        2 (15)  \n",
       "7                                         1 (8)  \n",
       "8                                                \n",
       "9                                      13 (100)  \n",
       "10                                               \n",
       "11                                               \n",
       "12                                               \n",
       "13                                               \n",
       "14                                               \n",
       "15                                               \n",
       "16                                               \n",
       "17                                               \n",
       "18                                               \n",
       "19                                               \n",
       "20                                               \n",
       "21                                               \n",
       "22                                               \n",
       "23                                               \n",
       "24                                               \n",
       "25                                               \n",
       "26                                               \n",
       "27                                               \n",
       "28                                               \n",
       "29                                               \n",
       "30                                               \n",
       "31                                               \n",
       "32                                               \n",
       "33                                               \n",
       "34                                               \n",
       "35                                               \n",
       "36                                               \n",
       "37                                               \n",
       "38  108.0 [100.2,110.2]\\newline(\\textit{n} = 8)  \n",
       "39    95.5 [90.5,102.8]\\newline(\\textit{n} = 8)  \n",
       "40                                               \n",
       "41                                               \n",
       "42                                               \n",
       "43                                               \n",
       "44                                               \n",
       "45                                               \n",
       "46                                               \n",
       "47                                               \n",
       "48                                               "
      ]
     },
     "execution_count": 73,
     "metadata": {},
     "output_type": "execute_result"
    }
   ],
   "source": [
    "table1.tableone"
   ]
  },
  {
   "cell_type": "code",
   "execution_count": 74,
   "id": "2d85ccc9-8b0a-4239-ab74-e81f4a4ac1e1",
   "metadata": {},
   "outputs": [],
   "source": [
    "table1.tableone.loc[table1.tableone.level_0.eq(\"Anti-centromere, n (%)\"), \"level_1\"] = \"positive\"\n",
    "table1.tableone.loc[table1.tableone.level_0.eq(\"Anti-centromere, n (%)\"), (\"Grouped by Patient disease\", \"SSc\")] = \"0 (0)\""
   ]
  },
  {
   "cell_type": "code",
   "execution_count": 75,
   "id": "4154f4dc-0ae2-4021-b4fe-5f33a938b4b4",
   "metadata": {},
   "outputs": [],
   "source": [
    "table1.tableone = table1.tableone.loc[~table1.tableone.level_1.isin(\n",
    "    [\"negative\", \"not taking\", \"no digital ulcers or pitting scars\"]\n",
    ")].copy()"
   ]
  },
  {
   "cell_type": "code",
   "execution_count": 76,
   "id": "8dd480d0-446c-4635-9134-6cc8803af0a3",
   "metadata": {},
   "outputs": [],
   "source": [
    "table1.tableone.loc[table1.tableone.level_0.eq(\"SSc-specific autoantibodies, n (%)\"), \"level_1\"] = \"\""
   ]
  },
  {
   "cell_type": "code",
   "execution_count": 77,
   "id": "41231c76-2af1-4dcd-9a6a-167c48691960",
   "metadata": {},
   "outputs": [],
   "source": [
    "idx = table1.tableone.level_1.eq(\"positive\")\n",
    "table1.tableone.loc[idx, \"level_1\"] = table1.tableone.level_0[idx].values\n",
    "table1.tableone.loc[idx, \"level_0\"] = \"SSc-specific autoantibodies, n (%)\""
   ]
  },
  {
   "cell_type": "code",
   "execution_count": 78,
   "id": "1be1f589-a2ed-456c-a27c-5c57db3ff89b",
   "metadata": {},
   "outputs": [],
   "source": [
    "table1.tableone.loc[table1.tableone.level_0.eq(\"Medications, n (%)\"), \"level_1\"] = \"\""
   ]
  },
  {
   "cell_type": "code",
   "execution_count": 79,
   "id": "417150e4-86a0-49eb-9c0a-faea01235d8a",
   "metadata": {},
   "outputs": [],
   "source": [
    "idx = table1.tableone.level_1.eq(\"taking\")\n",
    "table1.tableone.loc[idx, \"level_1\"] = table1.tableone.level_0[idx].values\n",
    "table1.tableone.loc[idx, \"level_0\"] = \"Medications, n (%)\""
   ]
  },
  {
   "cell_type": "code",
   "execution_count": 80,
   "id": "8c922c82-8492-40e7-8398-235d085594d2",
   "metadata": {},
   "outputs": [],
   "source": [
    "table1.tableone[(\"Grouped by Patient disease\", \"control\")].replace(\"\", \"—\", inplace=True)"
   ]
  },
  {
   "cell_type": "code",
   "execution_count": 81,
   "id": "4bc6697c-c0c9-4ce5-a21c-6a710dd0bcc5",
   "metadata": {},
   "outputs": [],
   "source": [
    "table1.tableone[(\"Grouped by Patient disease\", \"SSc\")].replace(\"\", \"—\", inplace=True)"
   ]
  },
  {
   "cell_type": "code",
   "execution_count": 82,
   "id": "83253316-94eb-4b35-9d24-f1942d8e25bf",
   "metadata": {},
   "outputs": [],
   "source": [
    "table1.tableone.loc[\n",
    "    table1.tableone.level_0.eq(\"mrss_lcssc, median [Q1,Q3]\"),\n",
    "    \"level_1\"\n",
    "] = \"lcSSc\"\n",
    "table1.tableone.loc[\n",
    "    table1.tableone.level_0.eq(\"mrss_lcssc, median [Q1,Q3]\"),\n",
    "    \"level_0\"\n",
    "] = \"\"\n",
    "table1.tableone.loc[\n",
    "    table1.tableone.level_0.eq(\"mrss_dcssc, median [Q1,Q3]\"),\n",
    "    \"level_1\"\n",
    "] = \"dcSSc\"\n",
    "table1.tableone.loc[\n",
    "    table1.tableone.level_0.eq(\"mrss_dcssc, median [Q1,Q3]\"),\n",
    "    \"level_0\"\n",
    "] = \"\"\n",
    "table1.tableone.loc[\n",
    "    table1.tableone.level_0.eq(\"Modified Rodnan skin score, median [Q1,Q3]\"),\n",
    "    \"level_1\"\n",
    "] = \"total\""
   ]
  },
  {
   "cell_type": "code",
   "execution_count": 83,
   "id": "ecd64c8a-22ae-4959-8ed3-0b6335d9f9aa",
   "metadata": {},
   "outputs": [],
   "source": [
    "idx = table1.tableone.level_0.str.contains(\"%\")"
   ]
  },
  {
   "cell_type": "code",
   "execution_count": 84,
   "id": "e94e8eaf-c448-40c1-bf62-e540dcdae33e",
   "metadata": {},
   "outputs": [],
   "source": [
    "for col in table1.tableone.columns[2:]:\n",
    "    table1.tableone.loc[idx, col] = table1.tableone.loc[idx, col].str.replace(r\"\\((\\d+)\\)\", r\"(\\1%)\", regex=True)"
   ]
  },
  {
   "cell_type": "code",
   "execution_count": 85,
   "id": "0aca0592-78c6-4cb2-afdd-e40781b445e5",
   "metadata": {},
   "outputs": [],
   "source": [
    "for col in table1.tableone.columns[:2]:\n",
    "    table1.tableone[col] = table1.tableone[col].str.replace(\" (%)\", \"\", regex=False)"
   ]
  },
  {
   "cell_type": "code",
   "execution_count": 86,
   "id": "33106de9-8950-4ac8-8d1d-79501e967327",
   "metadata": {},
   "outputs": [],
   "source": [
    "table1.tableone.loc[table1.tableone.level_0.eq(', n'), 'level_0'] = ''"
   ]
  },
  {
   "cell_type": "code",
   "execution_count": 87,
   "id": "c7ea476a-f3e9-4bd0-a6fa-bb1f39288bc4",
   "metadata": {},
   "outputs": [],
   "source": [
    "idx = table1.tableone.level_0.str.startswith('Average')\n",
    "table1.tableone.loc[idx, 'level_1'] = table1.tableone.level_0[idx].values\n",
    "table1.tableone.level_0 = table1.tableone.level_0.replace({\n",
    "    'Average Ground-glass opacity score per lobe, median [Q1,Q3]': 'Average HRCT score per lobe, median [Q1,Q3]',\n",
    "    'Average Fibrosis score per lobe, median [Q1,Q3]': '',\n",
    "})"
   ]
  },
  {
   "cell_type": "code",
   "execution_count": 88,
   "id": "00ee2242-3b24-4f13-9576-b18419c3f7f0",
   "metadata": {},
   "outputs": [],
   "source": [
    "idx = table1.tableone.level_0.eq('Ground-glass opacity score, median [Q1,Q3]')\n",
    "table1.tableone.loc[idx, 'level_1'] = 'Ground glass opacity'\n",
    "idx = table1.tableone.level_0.eq('Fibrosis score, median [Q1,Q3]')\n",
    "table1.tableone.loc[idx, 'level_1'] = 'Fibrosis'\n",
    "table1.tableone.level_0 = table1.tableone.level_0.replace({\n",
    "    'Ground-glass opacity score, median [Q1,Q3]': 'HRCT score in lavaged lobe, median [Q1,Q3]',\n",
    "    'Fibrosis score, median [Q1,Q3]': '',\n",
    "})"
   ]
  },
  {
   "cell_type": "code",
   "execution_count": 89,
   "id": "5b3db601-9561-4205-968d-6b601d844fe6",
   "metadata": {},
   "outputs": [],
   "source": [
    "idx = table1.tableone.level_0.eq('Time since SSc diagnosis, years, median [Q1,Q3]')\n",
    "table1.tableone.loc[idx, 'level_1'] = 'SSc'\n",
    "idx = table1.tableone.level_0.eq('Time since SSc-ILD diagnosis, years, median [Q1,Q3]')\n",
    "table1.tableone.loc[idx, 'level_1'] = 'SSc-ILD'"
   ]
  },
  {
   "cell_type": "code",
   "execution_count": 90,
   "id": "8cb3ea1f-871f-4bc1-97dc-84feeb299a15",
   "metadata": {},
   "outputs": [],
   "source": [
    "table1.tableone.level_0 = table1.tableone.level_0.replace({\n",
    "    'Time since SSc diagnosis, years, median [Q1,Q3]': 'Time since diagnosis, years, median [Q1,Q3]',\n",
    "    'Time since SSc-ILD diagnosis, years, median [Q1,Q3]': '',\n",
    "    'Dyspnea, n': '',\n",
    "})"
   ]
  },
  {
   "cell_type": "code",
   "execution_count": 91,
   "id": "6aaeb227-b4b8-4b3e-8af6-6b7df59633af",
   "metadata": {},
   "outputs": [],
   "source": [
    "table1.tableone.level_1 = table1.tableone.level_1.replace({\n",
    "    'Average Ground-glass opacity score per lobe, median [Q1,Q3]': 'Ground glass opacity',\n",
    "    'Average Fibrosis score per lobe, median [Q1,Q3]': 'Fibrosis',\n",
    "})"
   ]
  },
  {
   "cell_type": "code",
   "execution_count": 92,
   "id": "ed174ea7-1893-4aac-9c5d-9896bd1bdfa0",
   "metadata": {},
   "outputs": [],
   "source": [
    "table1.tableone.level_1 = table1.tableone.level_1.str.replace(', n', '')"
   ]
  },
  {
   "cell_type": "code",
   "execution_count": 93,
   "id": "1d149140-8424-4883-9d10-69f3db1c5469",
   "metadata": {},
   "outputs": [],
   "source": [
    "table1.tableone.set_index([\"level_0\", \"level_1\"], inplace=True, drop=True)"
   ]
  },
  {
   "cell_type": "code",
   "execution_count": 94,
   "id": "e8a3032f-ef8f-4a05-af7c-64641e65eb6d",
   "metadata": {},
   "outputs": [],
   "source": [
    "table1.tableone.index.names = [None, None]"
   ]
  },
  {
   "cell_type": "code",
   "execution_count": 95,
   "id": "b1b33527-245b-4efb-9abd-9cd613b4a479",
   "metadata": {},
   "outputs": [],
   "source": [
    "table1.tableone.columns = table1.tableone.columns.remove_unused_levels()"
   ]
  },
  {
   "cell_type": "code",
   "execution_count": 96,
   "id": "4d3fc0ba-caed-40df-88f2-89dd242ec79f",
   "metadata": {},
   "outputs": [
    {
     "name": "stdout",
     "output_type": "stream",
     "text": [
      "\\begin{tabular}{llll}\n",
      "\\hline\n",
      "                                             &                               & SSc                                         & control                                     \\\\\n",
      "\\hline\n",
      " n                                           &                               & 9                                           & 13                                          \\\\\n",
      " Age, years, median [Q1,Q3]                  &                               & 53.8 [37.9,60.4]                            & 29.0 [24.0,34.0]                            \\\\\n",
      " Sex, n                                      & Female                        & 6 (67\\%)                                     & 9 (69\\%)                                     \\\\\n",
      "                                             & Male                          & 3 (33\\%)                                     & 4 (31\\%)                                     \\\\\n",
      " Race, n                                     & African American              & 1 (11\\%)                                     & 2 (15\\%)                                     \\\\\n",
      "                                             & Caucasian                     & 5 (56\\%)                                     & 8 (62\\%)                                     \\\\\n",
      "                                             & Hispanic or Latino            & 3 (33\\%)                                     & 2 (15\\%)                                     \\\\\n",
      "                                             & Asian                         & —                                           & 1 (8\\%)                                      \\\\\n",
      " Smoker, n                                   & current or former             & 1 (11\\%)                                     & —                                           \\\\\n",
      "                                             & never                         & 8 (89\\%)                                     & 13 (100\\%)                                   \\\\\n",
      " SSc subtype, n                              & dcSSc                         & 5 (56\\%)                                     & —                                           \\\\\n",
      "                                             & lcSSc                         & 4 (44\\%)                                     & —                                           \\\\\n",
      " Time since diagnosis, years, median [Q1,Q3] & SSc                           & 16.9 [8.7,19.4]                             & —                                           \\\\\n",
      "                                             & SSc-ILD                       & 8.1 [4.3,11.7]                              & —                                           \\\\\n",
      " Symptoms, n                                 & Cough                         & 6 (67\\%)                                     & —                                           \\\\\n",
      "                                             & Dyspnea                       & 7 (78\\%)                                     & —                                           \\\\\n",
      " SSc-specific autoantibodies, n              & Anti-nuclear                  & 9 (100\\%)                                    & —                                           \\\\\n",
      "                                             & Anti-topoisomerase I (Scl-70) & 5 (56\\%)                                     & —                                           \\\\\n",
      "                                             & Anti-centromere               & 0 (0\\%)                                      & —                                           \\\\\n",
      "                                             & Anti-RNA polymerase III       & 2 (25\\%)\\newline(\\textit{n} = 8)             & —                                           \\\\\n",
      " C-reactive protein, mg/l, median [Q1,Q3]    &                               & 6.8 [2.1,12.8]\\newline(\\textit{n} = 8)      & —                                           \\\\\n",
      " Blood monocyte \\%, median [Q1,Q3]            &                               & 8.0 [6.0,10.0]                              & —                                           \\\\\n",
      " Modified Rodnan skin score, median [Q1,Q3]  & total                         & 6 [4,11]                                    & —                                           \\\\\n",
      "                                             & lcSSc                         & 4 [3,6]                                     & —                                           \\\\\n",
      "                                             & dcSSc                         & 8 [6,13]                                    & —                                           \\\\\n",
      " Digital ulcer or pitting scars, n           & digital tip ulcers            & 3 (33\\%)                                     & —                                           \\\\\n",
      "                                             & fingertip pitting scars       & 3 (33\\%)                                     & —                                           \\\\\n",
      " Medications, n                              &                               & 4 (44\\%)                                     & —                                           \\\\\n",
      "                                             & Mycophenolate                 & 4 (44\\%)                                     & —                                           \\\\\n",
      "                                             & Rituximab                     & 1 (11\\%)                                     & —                                           \\\\\n",
      " FVC \\% predicted, median [Q1,Q3]             &                               & 70.0 [65.9,74.4]                            & 108.0 [100.2,110.2]\\newline(\\textit{n} = 8) \\\\\n",
      " FEV1 \\% predicted, median [Q1,Q3]            &                               & 72.1 [64.4,76.1]                            & 95.5 [90.5,102.8]\\newline(\\textit{n} = 8)   \\\\\n",
      " FEV1/FVC ratio, \\%, median [Q1,Q3]           &                               & 80.4 [78.3,84.7]                            & —                                           \\\\\n",
      " TLC \\% predicted, median [Q1,Q3]             &                               & 59.1 [53.7,62.6]\\newline(\\textit{n} = 8)    & —                                           \\\\\n",
      " DLCO \\% predicted, median [Q1,Q3]            &                               & 55.7 [48.7,62.8]\\newline(\\textit{n} = 7)    & —                                           \\\\\n",
      " Estimated RVSP, mmHg, median [Q1,Q3]        &                               & 27.0 [18.0,37.0]\\newline(\\textit{n} = 8)    & —                                           \\\\\n",
      " 6MWD distance, m, median [Q1,Q3]            &                               & 450.0 [432.0,456.0]\\newline(\\textit{n} = 7) & —                                           \\\\\n",
      " Average HRCT score per lobe, median [Q1,Q3] & Ground glass opacity          & 1.6 [1.2,2.4]                               & —                                           \\\\\n",
      "                                             & Fibrosis                      & 2.0 [1.2,2.4]                               & —                                           \\\\\n",
      " HRCT score in lavaged lobe, median [Q1,Q3]  & Ground glass opacity          & 2.0 [1.0,3.0]                               & —                                           \\\\\n",
      "                                             & Fibrosis                      & 2.0 [1.0,3.0]                               & —                                           \\\\\n",
      "\\hline\n",
      "\\end{tabular}\n"
     ]
    }
   ],
   "source": [
    "print(\n",
    "    table1.tabulate(tablefmt=\"latex\")\n",
    "        .replace('\\\\textbackslash{}', '\\\\')\n",
    "        .replace('\\\\{', '{')\n",
    "        .replace('\\\\}', '}')\n",
    ")"
   ]
  },
  {
   "cell_type": "code",
   "execution_count": null,
   "id": "f017e48a-26e8-47fa-a954-7e318acb3a3f",
   "metadata": {},
   "outputs": [],
   "source": []
  },
  {
   "cell_type": "markdown",
   "id": "1c699f22-56c2-4a16-9606-8388ee196c33",
   "metadata": {},
   "source": [
    "Copying the above to [Overleaf project](https://www.overleaf.com/project/641e418abce263520201027a) to get nice pdf table"
   ]
  },
  {
   "cell_type": "code",
   "execution_count": null,
   "id": "c82baca1-108b-468c-acf4-eec5c808fc66",
   "metadata": {},
   "outputs": [],
   "source": []
  }
 ],
 "metadata": {
  "kernelspec": {
   "display_name": "Python 3 (ipykernel)",
   "language": "python",
   "name": "python3"
  },
  "language_info": {
   "codemirror_mode": {
    "name": "ipython",
    "version": 3
   },
   "file_extension": ".py",
   "mimetype": "text/x-python",
   "name": "python",
   "nbconvert_exporter": "python",
   "pygments_lexer": "ipython3",
   "version": "3.9.19"
  }
 },
 "nbformat": 4,
 "nbformat_minor": 5
}
